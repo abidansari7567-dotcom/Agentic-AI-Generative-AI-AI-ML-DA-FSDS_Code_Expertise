{
 "cells": [
  {
   "cell_type": "code",
   "execution_count": 1,
   "id": "ab9264ca-f06c-4392-986c-f65430d355b3",
   "metadata": {},
   "outputs": [],
   "source": [
    "import numpy as np"
   ]
  },
  {
   "cell_type": "code",
   "execution_count": 2,
   "id": "13862256-278d-4e1d-bd60-5e12f0e24ecb",
   "metadata": {},
   "outputs": [
    {
     "data": {
      "text/plain": [
       "'2.1.3'"
      ]
     },
     "execution_count": 2,
     "metadata": {},
     "output_type": "execute_result"
    }
   ],
   "source": [
    "np.__version__"
   ]
  },
  {
   "cell_type": "code",
   "execution_count": 3,
   "id": "b120cd47-43d1-4d2c-ae41-62d398ea56d9",
   "metadata": {},
   "outputs": [
    {
     "data": {
      "text/plain": [
       "[0, 1, 2, 3, 4, 5]"
      ]
     },
     "execution_count": 3,
     "metadata": {},
     "output_type": "execute_result"
    }
   ],
   "source": [
    "my_list = [0,1,2,3,4,5]\n",
    "my_list"
   ]
  },
  {
   "cell_type": "code",
   "execution_count": 4,
   "id": "920fad02-8cf9-4d30-9074-770e8f47f437",
   "metadata": {},
   "outputs": [
    {
     "data": {
      "text/plain": [
       "list"
      ]
     },
     "execution_count": 4,
     "metadata": {},
     "output_type": "execute_result"
    }
   ],
   "source": [
    "type(my_list)"
   ]
  },
  {
   "cell_type": "code",
   "execution_count": 5,
   "id": "7f2a6eed-3024-4de6-9957-6af94fe904aa",
   "metadata": {},
   "outputs": [],
   "source": [
    "arr = np.array(my_list)"
   ]
  },
  {
   "cell_type": "code",
   "execution_count": 6,
   "id": "08470cb7-2883-4311-9eba-9ff742523f64",
   "metadata": {},
   "outputs": [
    {
     "data": {
      "text/plain": [
       "array([0, 1, 2, 3, 4, 5])"
      ]
     },
     "execution_count": 6,
     "metadata": {},
     "output_type": "execute_result"
    }
   ],
   "source": [
    "arr"
   ]
  },
  {
   "cell_type": "code",
   "execution_count": 8,
   "id": "8935f8a7-3378-4438-baed-d37753a9e9b2",
   "metadata": {},
   "outputs": [
    {
     "data": {
      "text/plain": [
       "numpy.ndarray"
      ]
     },
     "execution_count": 8,
     "metadata": {},
     "output_type": "execute_result"
    }
   ],
   "source": [
    "type(arr)"
   ]
  },
  {
   "cell_type": "code",
   "execution_count": 9,
   "id": "843286b9-d14e-4395-9414-9a116dc04bd6",
   "metadata": {},
   "outputs": [
    {
     "data": {
      "text/plain": [
       "array([0, 1, 2, 3, 4, 5, 6, 7, 8, 9])"
      ]
     },
     "execution_count": 9,
     "metadata": {},
     "output_type": "execute_result"
    }
   ],
   "source": [
    "np.arange(10)"
   ]
  },
  {
   "cell_type": "code",
   "execution_count": 10,
   "id": "cbebb8cd-5411-441c-bff6-c23e8d38eb3f",
   "metadata": {},
   "outputs": [
    {
     "data": {
      "text/plain": [
       "array([ 0,  1,  2,  3,  4,  5,  6,  7,  8,  9, 10, 11, 12, 13, 14, 15, 16,\n",
       "       17, 18, 19])"
      ]
     },
     "execution_count": 10,
     "metadata": {},
     "output_type": "execute_result"
    }
   ],
   "source": [
    "np.arange(20)"
   ]
  },
  {
   "cell_type": "code",
   "execution_count": 11,
   "id": "e673a1e8-10f7-4cce-ae1b-d7353f096642",
   "metadata": {},
   "outputs": [
    {
     "data": {
      "text/plain": [
       "array([ 0,  1,  2,  3,  4,  5,  6,  7,  8,  9, 10, 11, 12, 13, 14, 15, 16,\n",
       "       17, 18, 19, 20, 21, 22, 23, 24, 25, 26, 27, 28, 29])"
      ]
     },
     "execution_count": 11,
     "metadata": {},
     "output_type": "execute_result"
    }
   ],
   "source": [
    "np.arange(30)"
   ]
  },
  {
   "cell_type": "code",
   "execution_count": 12,
   "id": "ad35000e-2903-4ba4-ad2d-c613b6802269",
   "metadata": {},
   "outputs": [
    {
     "data": {
      "text/plain": [
       "array([0, 1, 2])"
      ]
     },
     "execution_count": 12,
     "metadata": {},
     "output_type": "execute_result"
    }
   ],
   "source": [
    "np.arange(3)"
   ]
  },
  {
   "cell_type": "code",
   "execution_count": 13,
   "id": "91ea2d2f-f7b8-408b-a836-de696f38ec60",
   "metadata": {},
   "outputs": [
    {
     "data": {
      "text/plain": [
       "array([ 0,  1,  2,  3,  4,  5,  6,  7,  8,  9, 10, 11, 12, 13, 14])"
      ]
     },
     "execution_count": 13,
     "metadata": {},
     "output_type": "execute_result"
    }
   ],
   "source": [
    "np.arange(15)"
   ]
  },
  {
   "cell_type": "code",
   "execution_count": 14,
   "id": "0d847037-1404-43f8-b8bb-19ff73df0211",
   "metadata": {},
   "outputs": [
    {
     "data": {
      "text/plain": [
       "array([0., 1., 2., 3., 4.])"
      ]
     },
     "execution_count": 14,
     "metadata": {},
     "output_type": "execute_result"
    }
   ],
   "source": [
    "np.arange(5.0)"
   ]
  },
  {
   "cell_type": "code",
   "execution_count": 15,
   "id": "82fec434-8ce7-4973-983d-97c0f4778c8c",
   "metadata": {},
   "outputs": [
    {
     "data": {
      "text/plain": [
       "array([0., 1., 2., 3., 4., 5., 6., 7., 8., 9.])"
      ]
     },
     "execution_count": 15,
     "metadata": {},
     "output_type": "execute_result"
    }
   ],
   "source": [
    "np.arange(10.0)"
   ]
  },
  {
   "cell_type": "code",
   "execution_count": 16,
   "id": "8258689e-666d-446e-976c-eac7df93d77d",
   "metadata": {},
   "outputs": [
    {
     "data": {
      "text/plain": [
       "array([0., 1., 2., 3., 4., 5.])"
      ]
     },
     "execution_count": 16,
     "metadata": {},
     "output_type": "execute_result"
    }
   ],
   "source": [
    "np.arange(6.0)"
   ]
  },
  {
   "cell_type": "code",
   "execution_count": 17,
   "id": "aed33e7a-d7e3-4a3e-b09b-4dacb5bea6d1",
   "metadata": {},
   "outputs": [
    {
     "data": {
      "text/plain": [
       "array([10, 11, 12, 13, 14, 15, 16, 17, 18, 19])"
      ]
     },
     "execution_count": 17,
     "metadata": {},
     "output_type": "execute_result"
    }
   ],
   "source": [
    "np.arange(10,20)"
   ]
  },
  {
   "cell_type": "code",
   "execution_count": 18,
   "id": "ad38327f-5c9d-4d12-adfb-155b89fb3f7b",
   "metadata": {},
   "outputs": [
    {
     "data": {
      "text/plain": [
       "array([ 1,  2,  3,  4,  5,  6,  7,  8,  9, 10, 11, 12, 13, 14])"
      ]
     },
     "execution_count": 18,
     "metadata": {},
     "output_type": "execute_result"
    }
   ],
   "source": [
    "np.arange(1,15)"
   ]
  },
  {
   "cell_type": "code",
   "execution_count": 19,
   "id": "8a4998a7-af14-45cf-9812-d79ff7d2313c",
   "metadata": {},
   "outputs": [
    {
     "data": {
      "text/plain": [
       "array([5, 6, 7, 8, 9])"
      ]
     },
     "execution_count": 19,
     "metadata": {},
     "output_type": "execute_result"
    }
   ],
   "source": [
    "np.arange(5,10)"
   ]
  },
  {
   "cell_type": "code",
   "execution_count": 20,
   "id": "e1639b18-a028-43cd-b123-974dfc96c263",
   "metadata": {},
   "outputs": [
    {
     "data": {
      "text/plain": [
       "array([], dtype=int64)"
      ]
     },
     "execution_count": 20,
     "metadata": {},
     "output_type": "execute_result"
    }
   ],
   "source": [
    "np.arange(20,10)"
   ]
  },
  {
   "cell_type": "code",
   "execution_count": 21,
   "id": "1f3930bf-60f0-41cc-ae9a-a873b349c849",
   "metadata": {},
   "outputs": [
    {
     "data": {
      "text/plain": [
       "array([], dtype=int64)"
      ]
     },
     "execution_count": 21,
     "metadata": {},
     "output_type": "execute_result"
    }
   ],
   "source": [
    "np.arange(8,2)"
   ]
  },
  {
   "cell_type": "code",
   "execution_count": 22,
   "id": "3334bc3e-72be-49e5-b12a-386fee6dfb6e",
   "metadata": {},
   "outputs": [
    {
     "data": {
      "text/plain": [
       "array([], dtype=int64)"
      ]
     },
     "execution_count": 22,
     "metadata": {},
     "output_type": "execute_result"
    }
   ],
   "source": [
    "np.arange(9,0)"
   ]
  },
  {
   "cell_type": "code",
   "execution_count": 23,
   "id": "6166365d-bec4-47ee-9ca6-2ea628064308",
   "metadata": {},
   "outputs": [
    {
     "data": {
      "text/plain": [
       "array([-20, -19, -18, -17, -16, -15, -14, -13, -12, -11, -10,  -9,  -8,\n",
       "        -7,  -6,  -5,  -4,  -3,  -2,  -1,   0,   1,   2,   3,   4])"
      ]
     },
     "execution_count": 23,
     "metadata": {},
     "output_type": "execute_result"
    }
   ],
   "source": [
    "np.arange(-20, 5)"
   ]
  },
  {
   "cell_type": "code",
   "execution_count": 24,
   "id": "0f51111c-96a8-451c-85f6-258b4ecc0d30",
   "metadata": {},
   "outputs": [
    {
     "data": {
      "text/plain": [
       "array([], dtype=int64)"
      ]
     },
     "execution_count": 24,
     "metadata": {},
     "output_type": "execute_result"
    }
   ],
   "source": [
    "np.arange(10,-5)"
   ]
  },
  {
   "cell_type": "code",
   "execution_count": 25,
   "id": "8d967061-3229-4e6f-9e81-3fffca6a27a9",
   "metadata": {},
   "outputs": [
    {
     "data": {
      "text/plain": [
       "array([-16, -15, -14, -13, -12, -11, -10,  -9,  -8,  -7,  -6,  -5,  -4,\n",
       "        -3,  -2,  -1])"
      ]
     },
     "execution_count": 25,
     "metadata": {},
     "output_type": "execute_result"
    }
   ],
   "source": [
    "np.arange(-16,0)"
   ]
  },
  {
   "cell_type": "code",
   "execution_count": 26,
   "id": "c10ea2da-e890-4409-9ecd-76eccffd7edf",
   "metadata": {},
   "outputs": [
    {
     "data": {
      "text/plain": [
       "array([-5, -4, -3, -2, -1,  0,  1,  2,  3,  4,  5,  6,  7])"
      ]
     },
     "execution_count": 26,
     "metadata": {},
     "output_type": "execute_result"
    }
   ],
   "source": [
    "np.arange(-5,8)"
   ]
  },
  {
   "cell_type": "code",
   "execution_count": 27,
   "id": "5b014738-fd4d-4a62-aaf1-cbb6c1cd582f",
   "metadata": {},
   "outputs": [
    {
     "data": {
      "text/plain": [
       "array([-56, -55, -54, -53, -52, -51, -50, -49, -48, -47])"
      ]
     },
     "execution_count": 27,
     "metadata": {},
     "output_type": "execute_result"
    }
   ],
   "source": [
    "np.arange(-56,-46)"
   ]
  },
  {
   "cell_type": "code",
   "execution_count": 28,
   "id": "f6bf98cd-edc4-4da8-85c3-0873ea436e86",
   "metadata": {},
   "outputs": [
    {
     "data": {
      "text/plain": [
       "array([-20, -19, -18, -17, -16])"
      ]
     },
     "execution_count": 28,
     "metadata": {},
     "output_type": "execute_result"
    }
   ],
   "source": [
    "np.arange(-20,-15)"
   ]
  },
  {
   "cell_type": "code",
   "execution_count": 29,
   "id": "9fe476e3-6fcc-46d2-9e57-9e72c5553d38",
   "metadata": {},
   "outputs": [
    {
     "data": {
      "text/plain": [
       "array([10, 11, 12, 13, 14, 15, 16, 17, 18, 19, 20, 21, 22, 23, 24, 25, 26,\n",
       "       27, 28])"
      ]
     },
     "execution_count": 29,
     "metadata": {},
     "output_type": "execute_result"
    }
   ],
   "source": [
    "ar = np.arange(10,29)\n",
    "ar"
   ]
  },
  {
   "cell_type": "code",
   "execution_count": 30,
   "id": "7f31df96-2677-46cb-a9c8-83531adfd7c5",
   "metadata": {},
   "outputs": [
    {
     "data": {
      "text/plain": [
       "array([-15, -14, -13, -12, -11, -10,  -9,  -8,  -7,  -6,  -5,  -4,  -3,\n",
       "        -2,  -1,   0,   1,   2,   3,   4])"
      ]
     },
     "execution_count": 30,
     "metadata": {},
     "output_type": "execute_result"
    }
   ],
   "source": [
    "ar = np.arange(-15,5)\n",
    "ar"
   ]
  },
  {
   "cell_type": "code",
   "execution_count": 31,
   "id": "8f4dabe2-65cd-4cc6-b4b3-d69bf1fac405",
   "metadata": {},
   "outputs": [
    {
     "data": {
      "text/plain": [
       "array([-10,  -9,  -8,  -7,  -6,  -5,  -4,  -3,  -2,  -1,   0,   1,   2,\n",
       "         3,   4])"
      ]
     },
     "execution_count": 31,
     "metadata": {},
     "output_type": "execute_result"
    }
   ],
   "source": [
    "ar = np.arange(-10,5)\n",
    "ar"
   ]
  },
  {
   "cell_type": "code",
   "execution_count": 33,
   "id": "ded52064-2e71-44d4-b514-c1c578f13edd",
   "metadata": {},
   "outputs": [
    {
     "data": {
      "text/plain": [
       "array([-30, -29, -28, -27, -26, -25, -24, -23, -22, -21, -20, -19, -18,\n",
       "       -17, -16, -15, -14, -13, -12, -11, -10,  -9,  -8,  -7,  -6,  -5,\n",
       "        -4,  -3,  -2,  -1,   0,   1,   2,   3,   4,   5,   6,   7,   8,\n",
       "         9,  10,  11,  12,  13,  14,  15,  16,  17,  18,  19])"
      ]
     },
     "execution_count": 33,
     "metadata": {},
     "output_type": "execute_result"
    }
   ],
   "source": [
    "ar = np.arange(-30,20)\n",
    "ar"
   ]
  },
  {
   "cell_type": "code",
   "execution_count": 34,
   "id": "993ff35e-605b-4d3d-ad8f-c7dd1c282349",
   "metadata": {},
   "outputs": [
    {
     "ename": "TypeError",
     "evalue": "arange() requires stop to be specified.",
     "output_type": "error",
     "traceback": [
      "\u001b[1;31m---------------------------------------------------------------------------\u001b[0m",
      "\u001b[1;31mTypeError\u001b[0m                                 Traceback (most recent call last)",
      "Cell \u001b[1;32mIn[34], line 1\u001b[0m\n\u001b[1;32m----> 1\u001b[0m np\u001b[38;5;241m.\u001b[39marange()\n",
      "\u001b[1;31mTypeError\u001b[0m: arange() requires stop to be specified."
     ]
    }
   ],
   "source": [
    "np.arange()"
   ]
  },
  {
   "cell_type": "code",
   "execution_count": 35,
   "id": "5363ecc2-72a7-4dc2-b13b-0ea3225849d6",
   "metadata": {},
   "outputs": [
    {
     "data": {
      "text/plain": [
       "array([10, 13, 16, 19, 22, 25, 28])"
      ]
     },
     "execution_count": 35,
     "metadata": {},
     "output_type": "execute_result"
    }
   ],
   "source": [
    "np.arange(10,30,3)"
   ]
  },
  {
   "cell_type": "code",
   "execution_count": 36,
   "id": "3a0f20d0-e690-4265-9072-494240bd270b",
   "metadata": {},
   "outputs": [
    {
     "data": {
      "text/plain": [
       "array([10, 12, 14, 16, 18, 20, 22, 24, 26, 28, 30, 32, 34, 36, 38, 40, 42,\n",
       "       44, 46, 48])"
      ]
     },
     "execution_count": 36,
     "metadata": {},
     "output_type": "execute_result"
    }
   ],
   "source": [
    "np.arange(10,50,2)"
   ]
  },
  {
   "cell_type": "code",
   "execution_count": 37,
   "id": "bf855f83-5437-497f-a394-cc2396acfc37",
   "metadata": {},
   "outputs": [
    {
     "data": {
      "text/plain": [
       "array([10, 15, 20, 25, 30, 35])"
      ]
     },
     "execution_count": 37,
     "metadata": {},
     "output_type": "execute_result"
    }
   ],
   "source": [
    "np.arange(10,40,5)"
   ]
  },
  {
   "cell_type": "code",
   "execution_count": 38,
   "id": "e9f91b3c-57a1-4325-8efd-eea53ac86747",
   "metadata": {},
   "outputs": [
    {
     "ename": "TypeError",
     "evalue": "Cannot interpret '3' as a data type",
     "output_type": "error",
     "traceback": [
      "\u001b[1;31m---------------------------------------------------------------------------\u001b[0m",
      "\u001b[1;31mTypeError\u001b[0m                                 Traceback (most recent call last)",
      "Cell \u001b[1;32mIn[38], line 1\u001b[0m\n\u001b[1;32m----> 1\u001b[0m np\u001b[38;5;241m.\u001b[39marange(\u001b[38;5;241m10\u001b[39m,\u001b[38;5;241m30\u001b[39m,\u001b[38;5;241m5\u001b[39m,\u001b[38;5;241m3\u001b[39m)\n",
      "\u001b[1;31mTypeError\u001b[0m: Cannot interpret '3' as a data type"
     ]
    }
   ],
   "source": [
    "np.arange(10,30,5,3)"
   ]
  },
  {
   "cell_type": "code",
   "execution_count": 39,
   "id": "ae9b9957-da34-497f-9f8c-229912b3fe04",
   "metadata": {},
   "outputs": [
    {
     "data": {
      "text/plain": [
       "array([0., 0., 0., 0., 0., 0., 0., 0., 0., 0.])"
      ]
     },
     "execution_count": 39,
     "metadata": {},
     "output_type": "execute_result"
    }
   ],
   "source": [
    "np.zeros(10)"
   ]
  },
  {
   "cell_type": "code",
   "execution_count": 40,
   "id": "37d2fab4-cb8f-42a0-871a-26545a404e6b",
   "metadata": {},
   "outputs": [
    {
     "data": {
      "text/plain": [
       "array([0., 0., 0.])"
      ]
     },
     "execution_count": 40,
     "metadata": {},
     "output_type": "execute_result"
    }
   ],
   "source": [
    "np.zeros(3)"
   ]
  },
  {
   "cell_type": "code",
   "execution_count": 41,
   "id": "f5c94f0e-fc5d-410a-9e30-60cacc22082d",
   "metadata": {},
   "outputs": [
    {
     "data": {
      "text/plain": [
       "array([0., 0., 0., 0., 0.])"
      ]
     },
     "execution_count": 41,
     "metadata": {},
     "output_type": "execute_result"
    }
   ],
   "source": [
    "np.zeros(5)"
   ]
  },
  {
   "cell_type": "code",
   "execution_count": 42,
   "id": "08b2ae84-f14b-4784-b28d-ccdb5c4fa0d5",
   "metadata": {},
   "outputs": [
    {
     "data": {
      "text/plain": [
       "array([0, 0, 0])"
      ]
     },
     "execution_count": 42,
     "metadata": {},
     "output_type": "execute_result"
    }
   ],
   "source": [
    "np.zeros(3, dtype=int)"
   ]
  },
  {
   "cell_type": "code",
   "execution_count": 43,
   "id": "e63f2563-efff-4d15-9341-efa2150eb788",
   "metadata": {},
   "outputs": [
    {
     "data": {
      "text/plain": [
       "array([0, 0, 0, 0, 0])"
      ]
     },
     "execution_count": 43,
     "metadata": {},
     "output_type": "execute_result"
    }
   ],
   "source": [
    "np.zeros(5, dtype=int)"
   ]
  },
  {
   "cell_type": "code",
   "execution_count": 44,
   "id": "30f0b42d-c69a-4d58-8146-bb43ef0662d6",
   "metadata": {},
   "outputs": [
    {
     "data": {
      "text/plain": [
       "array([0, 0, 0, 0, 0, 0, 0, 0, 0, 0])"
      ]
     },
     "execution_count": 44,
     "metadata": {},
     "output_type": "execute_result"
    }
   ],
   "source": [
    "np.zeros(10, dtype=int)"
   ]
  },
  {
   "cell_type": "code",
   "execution_count": 46,
   "id": "98af28f9-fdff-4173-b975-8f3e003a51e4",
   "metadata": {},
   "outputs": [
    {
     "data": {
      "text/plain": [
       "array([[0, 0],\n",
       "       [0, 0]])"
      ]
     },
     "execution_count": 46,
     "metadata": {},
     "output_type": "execute_result"
    }
   ],
   "source": [
    "np.zeros((2,2),dtype=int)"
   ]
  },
  {
   "cell_type": "code",
   "execution_count": 47,
   "id": "e401270f-0eae-4da1-ada3-3e67719224c1",
   "metadata": {},
   "outputs": [
    {
     "data": {
      "text/plain": [
       "array([[0, 0, 0, 0],\n",
       "       [0, 0, 0, 0]])"
      ]
     },
     "execution_count": 47,
     "metadata": {},
     "output_type": "execute_result"
    }
   ],
   "source": [
    "np.zeros((2,4),dtype=int)"
   ]
  },
  {
   "cell_type": "code",
   "execution_count": 48,
   "id": "567ecc40-5493-4d33-94d9-7a4c3694fbbc",
   "metadata": {},
   "outputs": [
    {
     "data": {
      "text/plain": [
       "array([[0, 0],\n",
       "       [0, 0],\n",
       "       [0, 0],\n",
       "       [0, 0]])"
      ]
     },
     "execution_count": 48,
     "metadata": {},
     "output_type": "execute_result"
    }
   ],
   "source": [
    "np.zeros((4,2),dtype=int)"
   ]
  },
  {
   "cell_type": "code",
   "execution_count": 50,
   "id": "5e777d60-d04d-47c3-87ed-e58ec5774f68",
   "metadata": {},
   "outputs": [
    {
     "name": "stdout",
     "output_type": "stream",
     "text": [
      "[[0. 0.]\n",
      " [0. 0.]]\n",
      "<class 'numpy.ndarray'>\n"
     ]
    }
   ],
   "source": [
    "zero = np.zeros([2,2])\n",
    "print(zero)\n",
    "print(type(zero))"
   ]
  },
  {
   "cell_type": "code",
   "execution_count": 51,
   "id": "83ecf4d3-f5d4-4502-af34-558ec7733f42",
   "metadata": {},
   "outputs": [
    {
     "name": "stdout",
     "output_type": "stream",
     "text": [
      "[[0. 0. 0.]\n",
      " [0. 0. 0.]\n",
      " [0. 0. 0.]\n",
      " [0. 0. 0.]]\n",
      "<class 'numpy.ndarray'>\n"
     ]
    }
   ],
   "source": [
    "zero = np.zeros([4,3])\n",
    "print(zero)\n",
    "print(type(zero))"
   ]
  },
  {
   "cell_type": "code",
   "execution_count": 52,
   "id": "be3d23f2-d109-49c9-9c5a-6743c87badcc",
   "metadata": {},
   "outputs": [
    {
     "name": "stdout",
     "output_type": "stream",
     "text": [
      "[[0. 0.]\n",
      " [0. 0.]\n",
      " [0. 0.]]\n",
      "<class 'numpy.ndarray'>\n"
     ]
    }
   ],
   "source": [
    "zero = np.zeros([3,2])\n",
    "print(zero)\n",
    "print(type(zero))"
   ]
  },
  {
   "cell_type": "code",
   "execution_count": 55,
   "id": "e43bb387-c746-4e95-8e4b-c50e59d932ef",
   "metadata": {},
   "outputs": [
    {
     "name": "stdout",
     "output_type": "stream",
     "text": [
      "[[0. 0.]\n",
      " [0. 0.]]\n",
      "###\n",
      "<class 'numpy.ndarray'>\n"
     ]
    }
   ],
   "source": [
    "zero = np.zeros([2,2])\n",
    "print(zero)\n",
    "print('###')\n",
    "print(type(zero))"
   ]
  },
  {
   "cell_type": "code",
   "execution_count": 56,
   "id": "1907bd05-8813-4ae4-9317-168d7c7c3ba1",
   "metadata": {},
   "outputs": [
    {
     "name": "stdout",
     "output_type": "stream",
     "text": [
      "[[0. 0. 0.]\n",
      " [0. 0. 0.]\n",
      " [0. 0. 0.]\n",
      " [0. 0. 0.]]\n",
      "###\n",
      "<class 'numpy.ndarray'>\n"
     ]
    }
   ],
   "source": [
    "zero = np.zeros([4,3])\n",
    "print(zero)\n",
    "print('###')\n",
    "print(type(zero))"
   ]
  },
  {
   "cell_type": "code",
   "execution_count": 57,
   "id": "49974057-d4a4-4cb7-9663-ce170d3dbc83",
   "metadata": {},
   "outputs": [
    {
     "name": "stdout",
     "output_type": "stream",
     "text": [
      "[[0. 0. 0. 0. 0.]\n",
      " [0. 0. 0. 0. 0.]\n",
      " [0. 0. 0. 0. 0.]\n",
      " [0. 0. 0. 0. 0.]\n",
      " [0. 0. 0. 0. 0.]\n",
      " [0. 0. 0. 0. 0.]\n",
      " [0. 0. 0. 0. 0.]\n",
      " [0. 0. 0. 0. 0.]\n",
      " [0. 0. 0. 0. 0.]\n",
      " [0. 0. 0. 0. 0.]]\n",
      "###\n",
      "<class 'numpy.ndarray'>\n"
     ]
    }
   ],
   "source": [
    "zero = np.zeros([10,5])\n",
    "print(zero)\n",
    "print('###')\n",
    "print(type(zero))"
   ]
  },
  {
   "cell_type": "code",
   "execution_count": 58,
   "id": "2e79d070-ff1a-4ad4-8f01-2135ca656cad",
   "metadata": {},
   "outputs": [
    {
     "data": {
      "text/plain": [
       "array([[0., 0.],\n",
       "       [0., 0.]])"
      ]
     },
     "execution_count": 58,
     "metadata": {},
     "output_type": "execute_result"
    }
   ],
   "source": [
    "np.zeros((2,2))"
   ]
  },
  {
   "cell_type": "code",
   "execution_count": 59,
   "id": "a7e56fa5-b66c-45d9-83f1-355d9c856cbd",
   "metadata": {},
   "outputs": [
    {
     "data": {
      "text/plain": [
       "array([[0., 0., 0., 0., 0., 0., 0., 0., 0., 0.],\n",
       "       [0., 0., 0., 0., 0., 0., 0., 0., 0., 0.],\n",
       "       [0., 0., 0., 0., 0., 0., 0., 0., 0., 0.],\n",
       "       [0., 0., 0., 0., 0., 0., 0., 0., 0., 0.],\n",
       "       [0., 0., 0., 0., 0., 0., 0., 0., 0., 0.],\n",
       "       [0., 0., 0., 0., 0., 0., 0., 0., 0., 0.],\n",
       "       [0., 0., 0., 0., 0., 0., 0., 0., 0., 0.],\n",
       "       [0., 0., 0., 0., 0., 0., 0., 0., 0., 0.],\n",
       "       [0., 0., 0., 0., 0., 0., 0., 0., 0., 0.],\n",
       "       [0., 0., 0., 0., 0., 0., 0., 0., 0., 0.]])"
      ]
     },
     "execution_count": 59,
     "metadata": {},
     "output_type": "execute_result"
    }
   ],
   "source": [
    "np.zeros((10,10))"
   ]
  },
  {
   "cell_type": "code",
   "execution_count": 60,
   "id": "9aad8b68-3c90-4c9d-867d-31e3a5915adb",
   "metadata": {},
   "outputs": [
    {
     "data": {
      "text/plain": [
       "array([[0., 0., 0., 0., 0., 0., 0., 0., 0., 0., 0., 0.],\n",
       "       [0., 0., 0., 0., 0., 0., 0., 0., 0., 0., 0., 0.],\n",
       "       [0., 0., 0., 0., 0., 0., 0., 0., 0., 0., 0., 0.],\n",
       "       [0., 0., 0., 0., 0., 0., 0., 0., 0., 0., 0., 0.],\n",
       "       [0., 0., 0., 0., 0., 0., 0., 0., 0., 0., 0., 0.],\n",
       "       [0., 0., 0., 0., 0., 0., 0., 0., 0., 0., 0., 0.],\n",
       "       [0., 0., 0., 0., 0., 0., 0., 0., 0., 0., 0., 0.],\n",
       "       [0., 0., 0., 0., 0., 0., 0., 0., 0., 0., 0., 0.],\n",
       "       [0., 0., 0., 0., 0., 0., 0., 0., 0., 0., 0., 0.],\n",
       "       [0., 0., 0., 0., 0., 0., 0., 0., 0., 0., 0., 0.]])"
      ]
     },
     "execution_count": 60,
     "metadata": {},
     "output_type": "execute_result"
    }
   ],
   "source": [
    "np.zeros((10,12))"
   ]
  },
  {
   "cell_type": "code",
   "execution_count": 61,
   "id": "a1b5a65d-e112-4856-b6ad-7c8af8c252a2",
   "metadata": {},
   "outputs": [
    {
     "data": {
      "text/plain": [
       "array([[0., 0., 0., 0., 0.],\n",
       "       [0., 0., 0., 0., 0.],\n",
       "       [0., 0., 0., 0., 0.],\n",
       "       [0., 0., 0., 0., 0.],\n",
       "       [0., 0., 0., 0., 0.],\n",
       "       [0., 0., 0., 0., 0.],\n",
       "       [0., 0., 0., 0., 0.],\n",
       "       [0., 0., 0., 0., 0.],\n",
       "       [0., 0., 0., 0., 0.],\n",
       "       [0., 0., 0., 0., 0.]])"
      ]
     },
     "execution_count": 61,
     "metadata": {},
     "output_type": "execute_result"
    }
   ],
   "source": [
    "np.zeros((10,5))"
   ]
  },
  {
   "cell_type": "code",
   "execution_count": 62,
   "id": "c7bc5813-9699-4cc8-b35c-20c66138c650",
   "metadata": {},
   "outputs": [
    {
     "data": {
      "text/plain": [
       "array([1., 1., 1.])"
      ]
     },
     "execution_count": 62,
     "metadata": {},
     "output_type": "execute_result"
    }
   ],
   "source": [
    "np.ones(3)"
   ]
  },
  {
   "cell_type": "code",
   "execution_count": 63,
   "id": "19456813-786f-40ff-83c5-82ac9f46ddd7",
   "metadata": {},
   "outputs": [
    {
     "data": {
      "text/plain": [
       "array([1., 1., 1., 1., 1.])"
      ]
     },
     "execution_count": 63,
     "metadata": {},
     "output_type": "execute_result"
    }
   ],
   "source": [
    "np.ones(5)"
   ]
  },
  {
   "cell_type": "code",
   "execution_count": 64,
   "id": "d3b8ee83-b606-411c-9aa8-cc18f08530eb",
   "metadata": {},
   "outputs": [
    {
     "data": {
      "text/plain": [
       "array([1, 1, 1])"
      ]
     },
     "execution_count": 64,
     "metadata": {},
     "output_type": "execute_result"
    }
   ],
   "source": [
    "np.ones(3, dtype=int)"
   ]
  },
  {
   "cell_type": "code",
   "execution_count": 65,
   "id": "4ed0861b-c439-4304-81ea-100a456a0cfa",
   "metadata": {},
   "outputs": [
    {
     "data": {
      "text/plain": [
       "array([1, 1, 1, 1, 1])"
      ]
     },
     "execution_count": 65,
     "metadata": {},
     "output_type": "execute_result"
    }
   ],
   "source": [
    "np.ones(5, dtype=int)"
   ]
  },
  {
   "cell_type": "code",
   "execution_count": 66,
   "id": "a86d23f9-3392-4a59-a1fe-d41309277b92",
   "metadata": {},
   "outputs": [
    {
     "data": {
      "text/plain": [
       "array([1, 1, 1, 1, 1, 1, 1, 1, 1, 1])"
      ]
     },
     "execution_count": 66,
     "metadata": {},
     "output_type": "execute_result"
    }
   ],
   "source": [
    "np.ones(10, dtype=int)"
   ]
  },
  {
   "cell_type": "code",
   "execution_count": 67,
   "id": "943fa2f1-b2c2-478e-b650-37e175e43d2a",
   "metadata": {},
   "outputs": [
    {
     "ename": "AttributeError",
     "evalue": "module 'numpy' has no attribute 'twos'",
     "output_type": "error",
     "traceback": [
      "\u001b[1;31m---------------------------------------------------------------------------\u001b[0m",
      "\u001b[1;31mAttributeError\u001b[0m                            Traceback (most recent call last)",
      "Cell \u001b[1;32mIn[67], line 1\u001b[0m\n\u001b[1;32m----> 1\u001b[0m np\u001b[38;5;241m.\u001b[39mtwos(\u001b[38;5;241m4\u001b[39m)\n",
      "File \u001b[1;32m~\\anaconda3\\Lib\\site-packages\\numpy\\__init__.py:414\u001b[0m, in \u001b[0;36m__getattr__\u001b[1;34m(attr)\u001b[0m\n\u001b[0;32m    411\u001b[0m     \u001b[38;5;28;01mimport\u001b[39;00m\u001b[38;5;250m \u001b[39m\u001b[38;5;21;01mnumpy\u001b[39;00m\u001b[38;5;21;01m.\u001b[39;00m\u001b[38;5;21;01mchar\u001b[39;00m\u001b[38;5;250m \u001b[39m\u001b[38;5;28;01mas\u001b[39;00m\u001b[38;5;250m \u001b[39m\u001b[38;5;21;01mchar\u001b[39;00m\n\u001b[0;32m    412\u001b[0m     \u001b[38;5;28;01mreturn\u001b[39;00m char\u001b[38;5;241m.\u001b[39mchararray\n\u001b[1;32m--> 414\u001b[0m \u001b[38;5;28;01mraise\u001b[39;00m \u001b[38;5;167;01mAttributeError\u001b[39;00m(\u001b[38;5;124m\"\u001b[39m\u001b[38;5;124mmodule \u001b[39m\u001b[38;5;132;01m{!r}\u001b[39;00m\u001b[38;5;124m has no attribute \u001b[39m\u001b[38;5;124m\"\u001b[39m\n\u001b[0;32m    415\u001b[0m                      \u001b[38;5;124m\"\u001b[39m\u001b[38;5;132;01m{!r}\u001b[39;00m\u001b[38;5;124m\"\u001b[39m\u001b[38;5;241m.\u001b[39mformat(\u001b[38;5;18m__name__\u001b[39m, attr))\n",
      "\u001b[1;31mAttributeError\u001b[0m: module 'numpy' has no attribute 'twos'"
     ]
    }
   ],
   "source": [
    "np.twos(4)"
   ]
  },
  {
   "cell_type": "code",
   "execution_count": 68,
   "id": "976a523b-9182-4d7f-8ee4-e19a2e7d0755",
   "metadata": {},
   "outputs": [
    {
     "ename": "NameError",
     "evalue": "name 'rand' is not defined",
     "output_type": "error",
     "traceback": [
      "\u001b[1;31m---------------------------------------------------------------------------\u001b[0m",
      "\u001b[1;31mNameError\u001b[0m                                 Traceback (most recent call last)",
      "Cell \u001b[1;32mIn[68], line 1\u001b[0m\n\u001b[1;32m----> 1\u001b[0m rand(\u001b[38;5;241m3\u001b[39m,\u001b[38;5;241m2\u001b[39m)\n",
      "\u001b[1;31mNameError\u001b[0m: name 'rand' is not defined"
     ]
    }
   ],
   "source": [
    "rand(3,2)"
   ]
  },
  {
   "cell_type": "code",
   "execution_count": 69,
   "id": "70ff1bdd-b0cd-4bde-afc2-b5c9d9109370",
   "metadata": {},
   "outputs": [
    {
     "ename": "NameError",
     "evalue": "name 'random' is not defined",
     "output_type": "error",
     "traceback": [
      "\u001b[1;31m---------------------------------------------------------------------------\u001b[0m",
      "\u001b[1;31mNameError\u001b[0m                                 Traceback (most recent call last)",
      "Cell \u001b[1;32mIn[69], line 1\u001b[0m\n\u001b[1;32m----> 1\u001b[0m random\u001b[38;5;241m.\u001b[39mrand(\u001b[38;5;241m3\u001b[39m,\u001b[38;5;241m2\u001b[39m)\n",
      "\u001b[1;31mNameError\u001b[0m: name 'random' is not defined"
     ]
    }
   ],
   "source": [
    "random.rand(3,2)"
   ]
  },
  {
   "cell_type": "code",
   "execution_count": 70,
   "id": "2f3800ae-2fb2-4043-aca1-45ce251f4f07",
   "metadata": {},
   "outputs": [
    {
     "data": {
      "text/plain": [
       "array([[0.44137671, 0.49564938],\n",
       "       [0.94968361, 0.57975709],\n",
       "       [0.61494465, 0.44644269]])"
      ]
     },
     "execution_count": 70,
     "metadata": {},
     "output_type": "execute_result"
    }
   ],
   "source": [
    "np.random.rand(3,2)"
   ]
  },
  {
   "cell_type": "code",
   "execution_count": 71,
   "id": "b8025685-15b8-4a53-8eb2-c03e367baec6",
   "metadata": {},
   "outputs": [
    {
     "data": {
      "text/plain": [
       "array([[0.21632673, 0.23480764, 0.16533528, 0.54949304, 0.8720124 ],\n",
       "       [0.58446447, 0.5703226 , 0.1636804 , 0.12792077, 0.97045485]])"
      ]
     },
     "execution_count": 71,
     "metadata": {},
     "output_type": "execute_result"
    }
   ],
   "source": [
    "np.random.rand(2,5)"
   ]
  },
  {
   "cell_type": "code",
   "execution_count": 72,
   "id": "bb8ce973-5da6-46cb-aa69-a8e4be33dd23",
   "metadata": {},
   "outputs": [
    {
     "data": {
      "text/plain": [
       "array([[0.92332011, 0.86923369],\n",
       "       [0.06235607, 0.0968784 ],\n",
       "       [0.53864808, 0.2183978 ],\n",
       "       [0.83770779, 0.14741313],\n",
       "       [0.93945485, 0.42374281]])"
      ]
     },
     "execution_count": 72,
     "metadata": {},
     "output_type": "execute_result"
    }
   ],
   "source": [
    "np.random.rand(5,2)"
   ]
  },
  {
   "cell_type": "code",
   "execution_count": 77,
   "id": "1b74a8e0-1b9c-4317-b7a0-40f704587665",
   "metadata": {},
   "outputs": [
    {
     "data": {
      "text/plain": [
       "5"
      ]
     },
     "execution_count": 77,
     "metadata": {},
     "output_type": "execute_result"
    }
   ],
   "source": [
    "np.random.randint(4,6)"
   ]
  },
  {
   "cell_type": "code",
   "execution_count": 78,
   "id": "0ea026e8-b30d-43aa-a0bb-7aceb2b1652f",
   "metadata": {},
   "outputs": [
    {
     "data": {
      "text/plain": [
       "5"
      ]
     },
     "execution_count": 78,
     "metadata": {},
     "output_type": "execute_result"
    }
   ],
   "source": [
    "np.random.randint(4,6)"
   ]
  },
  {
   "cell_type": "code",
   "execution_count": 79,
   "id": "1dad383b-20b0-42d3-848d-2742faf89605",
   "metadata": {},
   "outputs": [
    {
     "data": {
      "text/plain": [
       "9"
      ]
     },
     "execution_count": 79,
     "metadata": {},
     "output_type": "execute_result"
    }
   ],
   "source": [
    "np.random.randint(8,10)"
   ]
  },
  {
   "cell_type": "code",
   "execution_count": 80,
   "id": "38779910-b07a-460e-9c0c-4d221e812c8e",
   "metadata": {},
   "outputs": [
    {
     "data": {
      "text/plain": [
       "3"
      ]
     },
     "execution_count": 80,
     "metadata": {},
     "output_type": "execute_result"
    }
   ],
   "source": [
    "np.random.randint(2,6)"
   ]
  },
  {
   "cell_type": "code",
   "execution_count": 81,
   "id": "98fef8d9-9622-40b1-a8c4-c6ccea7e4ffe",
   "metadata": {},
   "outputs": [
    {
     "data": {
      "text/plain": [
       "6"
      ]
     },
     "execution_count": 81,
     "metadata": {},
     "output_type": "execute_result"
    }
   ],
   "source": [
    "np.random.randint(2,7)"
   ]
  },
  {
   "cell_type": "code",
   "execution_count": 82,
   "id": "a212fa89-aa61-487b-bd57-9f15b853acc7",
   "metadata": {},
   "outputs": [
    {
     "data": {
      "text/plain": [
       "3"
      ]
     },
     "execution_count": 82,
     "metadata": {},
     "output_type": "execute_result"
    }
   ],
   "source": [
    "np.random.randint(2,7)"
   ]
  },
  {
   "cell_type": "code",
   "execution_count": 83,
   "id": "fb5ed727-1621-4b8e-b3b5-f5523163faa1",
   "metadata": {},
   "outputs": [
    {
     "data": {
      "text/plain": [
       "4"
      ]
     },
     "execution_count": 83,
     "metadata": {},
     "output_type": "execute_result"
    }
   ],
   "source": [
    "np.random.randint(2,7)"
   ]
  },
  {
   "cell_type": "code",
   "execution_count": 86,
   "id": "f0ec539d-7b56-49f0-8a2d-95056ad39e96",
   "metadata": {},
   "outputs": [
    {
     "data": {
      "text/plain": [
       "array([13,  2, 10,  3], dtype=int32)"
      ]
     },
     "execution_count": 86,
     "metadata": {},
     "output_type": "execute_result"
    }
   ],
   "source": [
    "np.random.randint(2,20,4)"
   ]
  },
  {
   "cell_type": "code",
   "execution_count": 88,
   "id": "efcfe7d5-8d63-45e0-bcdf-441418f591f0",
   "metadata": {},
   "outputs": [
    {
     "data": {
      "text/plain": [
       "array([13,  7, 16, 14,  8], dtype=int32)"
      ]
     },
     "execution_count": 88,
     "metadata": {},
     "output_type": "execute_result"
    }
   ],
   "source": [
    "np.random.randint(5,20,5)"
   ]
  },
  {
   "cell_type": "code",
   "execution_count": 91,
   "id": "2b701c53-b1fa-41a2-a01d-167fcfd607fd",
   "metadata": {},
   "outputs": [
    {
     "data": {
      "text/plain": [
       "array([89, 19, 54, 10, 57, 64, 97, 35, 37, 64, 68, 57, 21, 52, 65, 57, 60,\n",
       "       28, 53,  9, 29,  6, 24, 72, 26, 67, 63, 31, 48, 12,  7, 29, 95, 13,\n",
       "       38,  6, 45, 70, 45, 60, 29, 87, 81, 43, 55, 31, 36, 36, 30, 51],\n",
       "      dtype=int32)"
      ]
     },
     "execution_count": 91,
     "metadata": {},
     "output_type": "execute_result"
    }
   ],
   "source": [
    "np.random.randint(5,100,50)"
   ]
  },
  {
   "cell_type": "code",
   "execution_count": 92,
   "id": "71b759eb-c92a-4587-9ac0-3934bcb8d816",
   "metadata": {},
   "outputs": [
    {
     "data": {
      "text/plain": [
       "array([265, 435, 131,  62, 186, 406,  14, 290,  51,  51, 209, 392, 109,\n",
       "       191, 228, 421, 187, 288, 371, 412, 430, 453, 466,  31, 397, 342,\n",
       "       446,  55, 240, 448, 385, 219, 316, 408, 282, 345, 486, 452, 338,\n",
       "       466, 457, 379, 163, 172,  12, 438,  57, 340, 325, 487, 390, 382,\n",
       "        31, 187, 138, 450, 333, 162,  90, 237,  17,  60, 187, 268, 133,\n",
       "        40, 491, 303, 312,  95, 273, 381,  39, 225, 377, 490, 370, 259,\n",
       "       163,  22, 145, 184, 238, 238,  40, 349, 298, 212, 442, 376, 438,\n",
       "       353, 480, 138, 419,  39, 253, 408, 257, 488, 265, 261, 356,  69,\n",
       "       274, 365, 443, 455,  23, 253, 480,  65, 193, 473, 137, 380, 135,\n",
       "       168, 111, 386,  84, 424, 432, 213, 119, 250, 153, 428, 420, 364,\n",
       "       443, 322, 245, 387, 150, 273, 450, 402, 228, 109, 461, 464, 118,\n",
       "       306, 271, 466, 393, 433, 141, 344,  93, 494, 195, 295,  52, 123,\n",
       "       498, 207, 498, 252, 237, 216,  43, 409, 183, 458, 114, 153,  73,\n",
       "       245, 278, 267, 482, 139, 270,  18, 124, 206,  35, 143,  49, 462,\n",
       "       341,  10, 372, 103, 460, 365,  74,  14, 291, 309, 128,  53, 232,\n",
       "       411, 206,  55, 171, 495], dtype=int32)"
      ]
     },
     "execution_count": 92,
     "metadata": {},
     "output_type": "execute_result"
    }
   ],
   "source": [
    "np.random.randint(10,500,200)"
   ]
  },
  {
   "cell_type": "code",
   "execution_count": 93,
   "id": "a7eee526-d8d6-40db-b573-9358cf15e8cc",
   "metadata": {},
   "outputs": [
    {
     "ename": "ValueError",
     "evalue": "low >= high",
     "output_type": "error",
     "traceback": [
      "\u001b[1;31m---------------------------------------------------------------------------\u001b[0m",
      "\u001b[1;31mValueError\u001b[0m                                Traceback (most recent call last)",
      "Cell \u001b[1;32mIn[93], line 1\u001b[0m\n\u001b[1;32m----> 1\u001b[0m np\u001b[38;5;241m.\u001b[39mrandom\u001b[38;5;241m.\u001b[39mrandint(\u001b[38;5;241m30\u001b[39m,\u001b[38;5;241m20\u001b[39m,\u001b[38;5;241m2\u001b[39m)\n",
      "File \u001b[1;32mnumpy\\\\random\\\\mtrand.pyx:796\u001b[0m, in \u001b[0;36mnumpy.random.mtrand.RandomState.randint\u001b[1;34m()\u001b[0m\n",
      "File \u001b[1;32mnumpy\\\\random\\\\_bounded_integers.pyx:1425\u001b[0m, in \u001b[0;36mnumpy.random._bounded_integers._rand_int32\u001b[1;34m()\u001b[0m\n",
      "\u001b[1;31mValueError\u001b[0m: low >= high"
     ]
    }
   ],
   "source": [
    "np.random.randint(30,20,2)"
   ]
  },
  {
   "cell_type": "code",
   "execution_count": 94,
   "id": "bf0d866d-128d-4a8d-b640-1fc2012cdba8",
   "metadata": {},
   "outputs": [
    {
     "ename": "ValueError",
     "evalue": "low >= high",
     "output_type": "error",
     "traceback": [
      "\u001b[1;31m---------------------------------------------------------------------------\u001b[0m",
      "\u001b[1;31mValueError\u001b[0m                                Traceback (most recent call last)",
      "Cell \u001b[1;32mIn[94], line 1\u001b[0m\n\u001b[1;32m----> 1\u001b[0m np\u001b[38;5;241m.\u001b[39mrandom\u001b[38;5;241m.\u001b[39mrandint(\u001b[38;5;241m40\u001b[39m,\u001b[38;5;241m20\u001b[39m,\u001b[38;5;241m5\u001b[39m)\n",
      "File \u001b[1;32mnumpy\\\\random\\\\mtrand.pyx:796\u001b[0m, in \u001b[0;36mnumpy.random.mtrand.RandomState.randint\u001b[1;34m()\u001b[0m\n",
      "File \u001b[1;32mnumpy\\\\random\\\\_bounded_integers.pyx:1425\u001b[0m, in \u001b[0;36mnumpy.random._bounded_integers._rand_int32\u001b[1;34m()\u001b[0m\n",
      "\u001b[1;31mValueError\u001b[0m: low >= high"
     ]
    }
   ],
   "source": [
    "np.random.randint(40,20,5)"
   ]
  },
  {
   "cell_type": "code",
   "execution_count": 95,
   "id": "5bece721-6cde-4e30-8f15-3e65d222ec64",
   "metadata": {},
   "outputs": [
    {
     "data": {
      "text/plain": [
       "array([-20,  -7,   9,   2,  13,  12, -25,  -7,   3, -29], dtype=int32)"
      ]
     },
     "execution_count": 95,
     "metadata": {},
     "output_type": "execute_result"
    }
   ],
   "source": [
    " np.random.randint(-30,20,10)"
   ]
  },
  {
   "cell_type": "code",
   "execution_count": 96,
   "id": "cec1a7a5-e3c1-4f74-9029-4d61846cd01f",
   "metadata": {},
   "outputs": [
    {
     "data": {
      "text/plain": [
       "array([  5, -21, -27, -11,  15,  19, -22, -12, -30,  -1, -40, -11, -30,\n",
       "       -19, -26,   9, -24, -22,   4, -40,  13, -36,  -2,  13,  -4,  15,\n",
       "       -19,  -8, -22, -20, -40,  18, -11,  12, -32,  13,  -8,   5,  -5,\n",
       "       -21, -22,  -6, -21, -37,  -5], dtype=int32)"
      ]
     },
     "execution_count": 96,
     "metadata": {},
     "output_type": "execute_result"
    }
   ],
   "source": [
    "np.random.randint(-40,20,45)"
   ]
  },
  {
   "cell_type": "code",
   "execution_count": 97,
   "id": "6a0c7584-c65b-4134-af52-d2cec3ff67c1",
   "metadata": {},
   "outputs": [
    {
     "data": {
      "text/plain": [
       "array([-2, -4,  1], dtype=int32)"
      ]
     },
     "execution_count": 97,
     "metadata": {},
     "output_type": "execute_result"
    }
   ],
   "source": [
    "np.random.randint(-5,2,3)"
   ]
  },
  {
   "cell_type": "code",
   "execution_count": 98,
   "id": "44bf65e1-a0d9-4cee-bded-11bee3ccdf1f",
   "metadata": {},
   "outputs": [
    {
     "data": {
      "text/plain": [
       "array([20, 28, 28, 29, 24, 21, 29, 27, 25, 25], dtype=int32)"
      ]
     },
     "execution_count": 98,
     "metadata": {},
     "output_type": "execute_result"
    }
   ],
   "source": [
    "np.random.randint(20,30,10)"
   ]
  },
  {
   "cell_type": "code",
   "execution_count": 100,
   "id": "67e0dca3-18cb-49cb-b949-c2083ac9d7ce",
   "metadata": {},
   "outputs": [
    {
     "data": {
      "text/plain": [
       "array([18, 12, 13, 11, 15], dtype=int32)"
      ]
     },
     "execution_count": 100,
     "metadata": {},
     "output_type": "execute_result"
    }
   ],
   "source": [
    "np.random.randint(10,20,5)"
   ]
  },
  {
   "cell_type": "code",
   "execution_count": 101,
   "id": "c83cbcf8-d838-4a14-8334-eca6ca18cf67",
   "metadata": {},
   "outputs": [
    {
     "data": {
      "text/plain": [
       "array([[[0.36186969, 0.45539517, 0.72696104],\n",
       "        [0.39448316, 0.68219714, 0.2631806 ],\n",
       "        [0.81471035, 0.30656729, 0.03328511],\n",
       "        [0.5173677 , 0.8487902 , 0.33125816],\n",
       "        [0.33729014, 0.473443  , 0.4860553 ],\n",
       "        [0.19545651, 0.92966605, 0.10513705],\n",
       "        [0.89514162, 0.40957255, 0.91764489],\n",
       "        [0.10411034, 0.84195391, 0.11519186],\n",
       "        [0.98547084, 0.82076942, 0.50792268],\n",
       "        [0.36168437, 0.44975337, 0.46455011],\n",
       "        [0.48063606, 0.10141394, 0.6526838 ],\n",
       "        [0.13327565, 0.02915912, 0.42890321],\n",
       "        [0.48219213, 0.90050609, 0.12521239],\n",
       "        [0.74404745, 0.49439159, 0.61975159],\n",
       "        [0.93863941, 0.26366338, 0.96089857],\n",
       "        [0.00269062, 0.63973677, 0.8885049 ],\n",
       "        [0.81348668, 0.86976037, 0.22174546],\n",
       "        [0.18034054, 0.06275076, 0.70626803],\n",
       "        [0.98807712, 0.24059672, 0.90686414],\n",
       "        [0.3993008 , 0.29128189, 0.0370765 ]],\n",
       "\n",
       "       [[0.04591497, 0.7607984 , 0.69058431],\n",
       "        [0.01580135, 0.22032253, 0.98517167],\n",
       "        [0.92706619, 0.32075062, 0.97052176],\n",
       "        [0.42509403, 0.06440247, 0.00315359],\n",
       "        [0.88854736, 0.42551817, 0.47424616],\n",
       "        [0.05007496, 0.16028522, 0.62272508],\n",
       "        [0.16902861, 0.12474522, 0.4118664 ],\n",
       "        [0.29348741, 0.63171429, 0.06007193],\n",
       "        [0.6350747 , 0.05765017, 0.29076713],\n",
       "        [0.76184989, 0.08946543, 0.32521617],\n",
       "        [0.07066033, 0.61404925, 0.37314022],\n",
       "        [0.44319831, 0.41514286, 0.30626317],\n",
       "        [0.16802154, 0.9539515 , 0.32608112],\n",
       "        [0.31997928, 0.41463458, 0.99644934],\n",
       "        [0.88736228, 0.15433636, 0.70009806],\n",
       "        [0.39906664, 0.9534213 , 0.52216953],\n",
       "        [0.5491977 , 0.29476523, 0.58474473],\n",
       "        [0.06263504, 0.91034737, 0.78489036],\n",
       "        [0.90376458, 0.19444561, 0.13874348],\n",
       "        [0.73017952, 0.31798083, 0.86147236]],\n",
       "\n",
       "       [[0.80717059, 0.06483855, 0.13336127],\n",
       "        [0.38504112, 0.71712472, 0.0726108 ],\n",
       "        [0.11705535, 0.76400339, 0.20717216],\n",
       "        [0.91772759, 0.86056091, 0.62377741],\n",
       "        [0.44665988, 0.65809899, 0.04104582],\n",
       "        [0.08580774, 0.17061806, 0.90828946],\n",
       "        [0.90915326, 0.23299436, 0.70524869],\n",
       "        [0.8754693 , 0.41403276, 0.12890024],\n",
       "        [0.80666214, 0.9880801 , 0.67103587],\n",
       "        [0.42718438, 0.79525988, 0.59370834],\n",
       "        [0.88315875, 0.85549056, 0.00140389],\n",
       "        [0.38050828, 0.82688573, 0.13599373],\n",
       "        [0.78775002, 0.48465005, 0.31971205],\n",
       "        [0.79976765, 0.03680632, 0.28156566],\n",
       "        [0.9585725 , 0.53165112, 0.64792844],\n",
       "        [0.75826706, 0.91006167, 0.71369801],\n",
       "        [0.75241924, 0.97752789, 0.75641414],\n",
       "        [0.13387449, 0.54576559, 0.05480843],\n",
       "        [0.21780853, 0.98976693, 0.82903466],\n",
       "        [0.20411872, 0.04224436, 0.48071615]],\n",
       "\n",
       "       [[0.59434291, 0.09182257, 0.58399385],\n",
       "        [0.32749821, 0.39668507, 0.99810032],\n",
       "        [0.56788866, 0.5431958 , 0.74336091],\n",
       "        [0.87854708, 0.65040449, 0.62002333],\n",
       "        [0.93045148, 0.01636   , 0.74739957],\n",
       "        [0.53199062, 0.56053711, 0.16930189],\n",
       "        [0.18763198, 0.37016467, 0.97026432],\n",
       "        [0.86074874, 0.1129886 , 0.76457706],\n",
       "        [0.07012507, 0.88581324, 0.56561028],\n",
       "        [0.32986977, 0.37576502, 0.39515151],\n",
       "        [0.27170608, 0.94699361, 0.64171673],\n",
       "        [0.65943936, 0.43486198, 0.8407065 ],\n",
       "        [0.32086403, 0.65927502, 0.92191081],\n",
       "        [0.662297  , 0.80105599, 0.08822071],\n",
       "        [0.05922573, 0.72172675, 0.56741733],\n",
       "        [0.69505676, 0.12758422, 0.62534877],\n",
       "        [0.80737821, 0.29931302, 0.13288057],\n",
       "        [0.39896862, 0.99446081, 0.41205683],\n",
       "        [0.62080248, 0.04651774, 0.86016826],\n",
       "        [0.11010776, 0.51392129, 0.42713846]],\n",
       "\n",
       "       [[0.05618777, 0.42201385, 0.83133551],\n",
       "        [0.70540943, 0.06307372, 0.26235895],\n",
       "        [0.70126933, 0.67068853, 0.37727702],\n",
       "        [0.70133619, 0.76484329, 0.6874606 ],\n",
       "        [0.9744091 , 0.16059223, 0.38754546],\n",
       "        [0.21019122, 0.70868977, 0.60752547],\n",
       "        [0.78102778, 0.60360803, 0.84920047],\n",
       "        [0.87608338, 0.01579036, 0.99170908],\n",
       "        [0.60282805, 0.34744345, 0.6175595 ],\n",
       "        [0.96661052, 0.70666449, 0.09055812],\n",
       "        [0.37607692, 0.88630991, 0.21903302],\n",
       "        [0.54006628, 0.22898093, 0.97416615],\n",
       "        [0.02853242, 0.555986  , 0.96477718],\n",
       "        [0.12481024, 0.50420521, 0.98853646],\n",
       "        [0.32245589, 0.37785917, 0.02831566],\n",
       "        [0.24586055, 0.10499159, 0.13839475],\n",
       "        [0.64850544, 0.23605234, 0.20497863],\n",
       "        [0.39711693, 0.5062251 , 0.65978614],\n",
       "        [0.35053053, 0.81365985, 0.03615962],\n",
       "        [0.90025276, 0.58451031, 0.81791548]],\n",
       "\n",
       "       [[0.72614723, 0.62039154, 0.67304228],\n",
       "        [0.01488431, 0.76821257, 0.51320747],\n",
       "        [0.91308189, 0.86756748, 0.50290572],\n",
       "        [0.21769503, 0.71468611, 0.14114951],\n",
       "        [0.69286187, 0.77412052, 0.45734352],\n",
       "        [0.48464473, 0.46096202, 0.99933262],\n",
       "        [0.00637175, 0.46732594, 0.19948363],\n",
       "        [0.85816803, 0.77049835, 0.67631074],\n",
       "        [0.66054039, 0.65901792, 0.90431759],\n",
       "        [0.20958823, 0.32123365, 0.69050103],\n",
       "        [0.17074199, 0.65538538, 0.22317961],\n",
       "        [0.19318224, 0.24405059, 0.80919393],\n",
       "        [0.01094751, 0.28464354, 0.51193728],\n",
       "        [0.47524906, 0.58289343, 0.3783074 ],\n",
       "        [0.97474786, 0.63131576, 0.6455901 ],\n",
       "        [0.47237571, 0.06769755, 0.6750574 ],\n",
       "        [0.07431345, 0.08407481, 0.58161032],\n",
       "        [0.68730409, 0.00868742, 0.73633009],\n",
       "        [0.93656196, 0.54062931, 0.97948877],\n",
       "        [0.8290975 , 0.86039078, 0.41075065]],\n",
       "\n",
       "       [[0.9634495 , 0.55467121, 0.96386433],\n",
       "        [0.62679326, 0.05120187, 0.5408618 ],\n",
       "        [0.09370636, 0.127498  , 0.3343293 ],\n",
       "        [0.90268259, 0.0611195 , 0.22344173],\n",
       "        [0.75734449, 0.28140475, 0.46724277],\n",
       "        [0.30230646, 0.3053621 , 0.55591624],\n",
       "        [0.55705771, 0.1717984 , 0.85473311],\n",
       "        [0.1712669 , 0.58829198, 0.7564054 ],\n",
       "        [0.09911779, 0.12838753, 0.12409769],\n",
       "        [0.63767692, 0.22878018, 0.33404297],\n",
       "        [0.81149779, 0.442915  , 0.70490939],\n",
       "        [0.46438511, 0.28841982, 0.06892573],\n",
       "        [0.61617909, 0.79382025, 0.93771393],\n",
       "        [0.86997485, 0.96869709, 0.75468509],\n",
       "        [0.03930092, 0.51274015, 0.4733853 ],\n",
       "        [0.15621542, 0.36566342, 0.79100361],\n",
       "        [0.35066693, 0.21719401, 0.75100048],\n",
       "        [0.38987672, 0.77400375, 0.8490758 ],\n",
       "        [0.40990952, 0.6787429 , 0.88898864],\n",
       "        [0.02384085, 0.80180286, 0.51699397]],\n",
       "\n",
       "       [[0.98503367, 0.15318173, 0.80508198],\n",
       "        [0.39721627, 0.63995061, 0.43264256],\n",
       "        [0.47596065, 0.0445404 , 0.80343471],\n",
       "        [0.35994885, 0.70611787, 0.20149392],\n",
       "        [0.60995897, 0.57659443, 0.79757743],\n",
       "        [0.77850668, 0.73813781, 0.20506235],\n",
       "        [0.09875981, 0.19883801, 0.51036532],\n",
       "        [0.56083218, 0.79033094, 0.03896604],\n",
       "        [0.76753737, 0.10203478, 0.71350837],\n",
       "        [0.12899564, 0.44946503, 0.33293378],\n",
       "        [0.01373839, 0.57972702, 0.8045692 ],\n",
       "        [0.26986935, 0.46380435, 0.81951304],\n",
       "        [0.60531566, 0.56399741, 0.48435508],\n",
       "        [0.21654296, 0.78569896, 0.83217504],\n",
       "        [0.51081154, 0.59786349, 0.9028355 ],\n",
       "        [0.61376109, 0.74029425, 0.6001995 ],\n",
       "        [0.38350637, 0.95924982, 0.39265303],\n",
       "        [0.16342797, 0.40360911, 0.80373446],\n",
       "        [0.01236622, 0.02875393, 0.15017308],\n",
       "        [0.01814863, 0.78376803, 0.7913299 ]],\n",
       "\n",
       "       [[0.45182364, 0.75976026, 0.88341185],\n",
       "        [0.48509872, 0.31076829, 0.52937521],\n",
       "        [0.73620539, 0.04369627, 0.76581941],\n",
       "        [0.58903765, 0.91680472, 0.6048859 ],\n",
       "        [0.07313222, 0.13078986, 0.19316799],\n",
       "        [0.37388982, 0.43985221, 0.98812548],\n",
       "        [0.99153471, 0.10129914, 0.06780758],\n",
       "        [0.88126545, 0.02927211, 0.41025754],\n",
       "        [0.87154818, 0.33202425, 0.09934756],\n",
       "        [0.39120987, 0.37421814, 0.84936159],\n",
       "        [0.68686157, 0.64830871, 0.45143837],\n",
       "        [0.96151229, 0.74157579, 0.16145778],\n",
       "        [0.61314343, 0.39947934, 0.1858223 ],\n",
       "        [0.34860427, 0.84404637, 0.69429107],\n",
       "        [0.06674285, 0.75090567, 0.00334087],\n",
       "        [0.9982612 , 0.65068719, 0.00847276],\n",
       "        [0.34910035, 0.27279604, 0.84159237],\n",
       "        [0.52315843, 0.85712846, 0.87995169],\n",
       "        [0.02328153, 0.65624804, 0.90016809],\n",
       "        [0.67638429, 0.21920776, 0.16303269]],\n",
       "\n",
       "       [[0.47028915, 0.06080216, 0.68241087],\n",
       "        [0.27657996, 0.67730102, 0.84244101],\n",
       "        [0.42825594, 0.68527213, 0.14635069],\n",
       "        [0.55496421, 0.43903297, 0.50123267],\n",
       "        [0.13619044, 0.63309426, 0.38900196],\n",
       "        [0.03381451, 0.79267115, 0.10040006],\n",
       "        [0.9166486 , 0.22895025, 0.23804506],\n",
       "        [0.81216282, 0.16532342, 0.11947354],\n",
       "        [0.00599806, 0.02345055, 0.74955081],\n",
       "        [0.02751392, 0.40868634, 0.13751731],\n",
       "        [0.21281557, 0.92631973, 0.73077731],\n",
       "        [0.70736182, 0.90594519, 0.20207324],\n",
       "        [0.44977521, 0.2984695 , 0.93204937],\n",
       "        [0.19075879, 0.46293685, 0.36675798],\n",
       "        [0.80610501, 0.31582282, 0.12108421],\n",
       "        [0.6976958 , 0.73028996, 0.95213096],\n",
       "        [0.93066285, 0.95621016, 0.96120249],\n",
       "        [0.24865811, 0.59404888, 0.96437773],\n",
       "        [0.05354811, 0.18588115, 0.20291871],\n",
       "        [0.49442739, 0.80350649, 0.31949715]]])"
      ]
     },
     "execution_count": 101,
     "metadata": {},
     "output_type": "execute_result"
    }
   ],
   "source": [
    "np.random.rand(10,20,3)"
   ]
  },
  {
   "cell_type": "code",
   "execution_count": 102,
   "id": "293cd331-3d6e-4522-b74c-cc24850fd1ed",
   "metadata": {},
   "outputs": [
    {
     "data": {
      "text/plain": [
       "array([[36, 10, 14, 30, 38, 22, 35, 34, 28, 38],\n",
       "       [28, 25, 15, 20, 22, 25, 11, 23, 32, 23],\n",
       "       [20, 19, 27, 35, 29, 38, 13, 17, 12, 10],\n",
       "       [30, 12, 27, 28, 20, 30, 32, 11, 13, 10],\n",
       "       [19, 21, 19, 33, 22, 35, 31, 32, 31, 21],\n",
       "       [32, 23, 16, 38, 38, 11, 35, 34, 39, 20],\n",
       "       [27, 15, 37, 30, 31, 27, 18, 12, 15, 34],\n",
       "       [22, 22, 23, 16, 36, 29, 38, 32, 14, 26],\n",
       "       [25, 25, 28, 22, 17, 22, 11, 19, 10, 15],\n",
       "       [14, 13, 26, 24, 26, 23, 39, 14, 27, 10]], dtype=int32)"
      ]
     },
     "execution_count": 102,
     "metadata": {},
     "output_type": "execute_result"
    }
   ],
   "source": [
    "np.random.randint(10,40,(10,10))"
   ]
  },
  {
   "cell_type": "code",
   "execution_count": 103,
   "id": "2e16e27d-59b3-4629-b20d-72ecf64e1710",
   "metadata": {},
   "outputs": [
    {
     "data": {
      "text/plain": [
       "array([[4, 4, 4, 4, 4, 4, 4, 4, 4, 4],\n",
       "       [4, 4, 4, 4, 4, 4, 4, 4, 4, 4],\n",
       "       [4, 4, 4, 4, 4, 4, 4, 4, 4, 4],\n",
       "       [4, 4, 4, 4, 4, 4, 4, 4, 4, 4],\n",
       "       [4, 4, 4, 4, 4, 4, 4, 4, 4, 4],\n",
       "       [4, 4, 4, 4, 4, 4, 4, 4, 4, 4],\n",
       "       [4, 4, 4, 4, 4, 4, 4, 4, 4, 4],\n",
       "       [4, 4, 4, 4, 4, 4, 4, 4, 4, 4],\n",
       "       [4, 4, 4, 4, 4, 4, 4, 4, 4, 4],\n",
       "       [4, 4, 4, 4, 4, 4, 4, 4, 4, 4],\n",
       "       [4, 4, 4, 4, 4, 4, 4, 4, 4, 4],\n",
       "       [4, 4, 4, 4, 4, 4, 4, 4, 4, 4],\n",
       "       [4, 4, 4, 4, 4, 4, 4, 4, 4, 4],\n",
       "       [4, 4, 4, 4, 4, 4, 4, 4, 4, 4],\n",
       "       [4, 4, 4, 4, 4, 4, 4, 4, 4, 4]], dtype=int32)"
      ]
     },
     "execution_count": 103,
     "metadata": {},
     "output_type": "execute_result"
    }
   ],
   "source": [
    "np.random.randint(4,5,(15,10))"
   ]
  },
  {
   "cell_type": "code",
   "execution_count": 104,
   "id": "403236b1-9157-4b59-8468-5e8f63beb03a",
   "metadata": {},
   "outputs": [
    {
     "data": {
      "text/plain": [
       "array([[14,  2, 11,  6, 14],\n",
       "       [ 5, 11,  4,  4,  5],\n",
       "       [12,  6,  5, 10,  7],\n",
       "       [10, 10,  6,  8, 10],\n",
       "       [ 3,  7,  8, 10,  6],\n",
       "       [10,  9,  8,  6, 13],\n",
       "       [ 3, 10,  7, 12, 12],\n",
       "       [ 5, 13, 10,  9,  2],\n",
       "       [11,  5,  7, 13, 14],\n",
       "       [ 5, 14,  7, 13,  9],\n",
       "       [11, 14, 12,  8,  2],\n",
       "       [ 6, 12,  4, 13,  9],\n",
       "       [ 4, 11,  3, 14,  2],\n",
       "       [ 4,  4,  9,  7,  5],\n",
       "       [ 2, 12,  9,  6,  2],\n",
       "       [ 7,  5, 10, 14, 13],\n",
       "       [ 2,  9,  8,  8,  7],\n",
       "       [ 5,  4, 14,  8, 10],\n",
       "       [ 7,  6,  7, 13,  8],\n",
       "       [ 5, 10, 11,  7, 14]], dtype=int32)"
      ]
     },
     "execution_count": 104,
     "metadata": {},
     "output_type": "execute_result"
    }
   ],
   "source": [
    "np.random.randint(2,15,(20,5))"
   ]
  },
  {
   "cell_type": "code",
   "execution_count": 105,
   "id": "0df51cc2-8de9-4431-a066-934fb96e9bb3",
   "metadata": {},
   "outputs": [
    {
     "data": {
      "text/plain": [
       "array([0, 1, 2, 3, 4, 5])"
      ]
     },
     "execution_count": 105,
     "metadata": {},
     "output_type": "execute_result"
    }
   ],
   "source": [
    "arr"
   ]
  },
  {
   "cell_type": "code",
   "execution_count": 106,
   "id": "cde1ffb2-0249-4676-901b-c4da68323fe9",
   "metadata": {},
   "outputs": [
    {
     "data": {
      "text/plain": [
       "array([ 1,  2,  3,  4,  5,  6,  7,  8,  9, 10, 11, 12, 13, 14])"
      ]
     },
     "execution_count": 106,
     "metadata": {},
     "output_type": "execute_result"
    }
   ],
   "source": [
    "np.arange(1,15)"
   ]
  },
  {
   "cell_type": "code",
   "execution_count": 111,
   "id": "b3b7b114-8e5d-44d7-839a-a80fb88d05ce",
   "metadata": {},
   "outputs": [
    {
     "data": {
      "text/plain": [
       "array([[ 1,  2,  3],\n",
       "       [ 4,  5,  6],\n",
       "       [ 7,  8,  9],\n",
       "       [10, 11, 12]])"
      ]
     },
     "execution_count": 111,
     "metadata": {},
     "output_type": "execute_result"
    }
   ],
   "source": [
    "np.arange(1,13).reshape(4,3)"
   ]
  },
  {
   "cell_type": "code",
   "execution_count": 112,
   "id": "ed6df608-e2ec-4985-b19b-a623ae5e2beb",
   "metadata": {},
   "outputs": [
    {
     "data": {
      "text/plain": [
       "array([[ 1,  2,  3],\n",
       "       [ 4,  5,  6],\n",
       "       [ 7,  8,  9],\n",
       "       [10, 11, 12],\n",
       "       [13, 14, 15]])"
      ]
     },
     "execution_count": 112,
     "metadata": {},
     "output_type": "execute_result"
    }
   ],
   "source": [
    "np.arange(1,16).reshape(5,3)"
   ]
  },
  {
   "cell_type": "code",
   "execution_count": 113,
   "id": "a3bdba0c-4821-40ef-94a1-f07bfcf6299c",
   "metadata": {},
   "outputs": [
    {
     "ename": "ValueError",
     "evalue": "cannot reshape array of size 21 into shape (3,5)",
     "output_type": "error",
     "traceback": [
      "\u001b[1;31m---------------------------------------------------------------------------\u001b[0m",
      "\u001b[1;31mValueError\u001b[0m                                Traceback (most recent call last)",
      "Cell \u001b[1;32mIn[113], line 1\u001b[0m\n\u001b[1;32m----> 1\u001b[0m np\u001b[38;5;241m.\u001b[39marange(\u001b[38;5;241m1\u001b[39m,\u001b[38;5;241m22\u001b[39m)\u001b[38;5;241m.\u001b[39mreshape(\u001b[38;5;241m3\u001b[39m,\u001b[38;5;241m5\u001b[39m)\n",
      "\u001b[1;31mValueError\u001b[0m: cannot reshape array of size 21 into shape (3,5)"
     ]
    }
   ],
   "source": [
    "np.arange(1,22).reshape(3,5)"
   ]
  },
  {
   "cell_type": "code",
   "execution_count": 114,
   "id": "92b21ecf-ebd0-4874-bbee-9ef0c2613197",
   "metadata": {},
   "outputs": [
    {
     "data": {
      "text/plain": [
       "array([[ 1,  2,  3,  4,  5,  6,  7],\n",
       "       [ 8,  9, 10, 11, 12, 13, 14],\n",
       "       [15, 16, 17, 18, 19, 20, 21]])"
      ]
     },
     "execution_count": 114,
     "metadata": {},
     "output_type": "execute_result"
    }
   ],
   "source": [
    "np.arange(1,22).reshape(3,7)"
   ]
  },
  {
   "cell_type": "code",
   "execution_count": 115,
   "id": "e250164d-34a2-4ce2-8a12-0208026abc84",
   "metadata": {},
   "outputs": [
    {
     "data": {
      "text/plain": [
       "array([[ 1,  2,  3],\n",
       "       [ 4,  5,  6],\n",
       "       [ 7,  8,  9],\n",
       "       [10, 11, 12],\n",
       "       [13, 14, 15],\n",
       "       [16, 17, 18],\n",
       "       [19, 20, 21]])"
      ]
     },
     "execution_count": 115,
     "metadata": {},
     "output_type": "execute_result"
    }
   ],
   "source": [
    "np.arange(1,22).reshape(7,3)"
   ]
  },
  {
   "cell_type": "code",
   "execution_count": 116,
   "id": "c2bbcf2f-0db9-47fb-93dc-27d68346083a",
   "metadata": {},
   "outputs": [
    {
     "data": {
      "text/plain": [
       "array([[ 1,  2],\n",
       "       [ 3,  4],\n",
       "       [ 5,  6],\n",
       "       [ 7,  8],\n",
       "       [ 9, 10],\n",
       "       [11, 12]])"
      ]
     },
     "execution_count": 116,
     "metadata": {},
     "output_type": "execute_result"
    }
   ],
   "source": [
    "np.arange(1,13).reshape(6,2)"
   ]
  },
  {
   "cell_type": "markdown",
   "id": "053dfa3d-3a65-4b44-b289-659d520376a1",
   "metadata": {},
   "source": [
    "# Slicing in Matrix"
   ]
  },
  {
   "cell_type": "code",
   "execution_count": 119,
   "id": "84bc0e4c-8756-4f2f-b0fe-8fca951a9dc0",
   "metadata": {},
   "outputs": [
    {
     "ename": "TypeError",
     "evalue": "'int' object is not callable",
     "output_type": "error",
     "traceback": [
      "\u001b[1;31m---------------------------------------------------------------------------\u001b[0m",
      "\u001b[1;31mTypeError\u001b[0m                                 Traceback (most recent call last)",
      "Cell \u001b[1;32mIn[119], line 1\u001b[0m\n\u001b[1;32m----> 1\u001b[0m b \u001b[38;5;241m=\u001b[39m np\u001b[38;5;241m.\u001b[39mrandom\u001b[38;5;241m.\u001b[39mrandint(\u001b[38;5;241m10\u001b[39m,\u001b[38;5;241m20\u001b[39m(\u001b[38;5;241m5\u001b[39m,\u001b[38;5;241m4\u001b[39m))\n",
      "\u001b[1;31mTypeError\u001b[0m: 'int' object is not callable"
     ]
    }
   ],
   "source": [
    "b = np.random.randint(10,20(5,4))"
   ]
  },
  {
   "cell_type": "code",
   "execution_count": 120,
   "id": "fc50ac0f-7c3c-4200-a2d9-0608a4719a3c",
   "metadata": {},
   "outputs": [],
   "source": [
    "b = np.random.randint(10,20,(5,4))"
   ]
  },
  {
   "cell_type": "code",
   "execution_count": 121,
   "id": "d9352a68-9d80-48e6-b32b-7a76a0f26d6b",
   "metadata": {},
   "outputs": [
    {
     "data": {
      "text/plain": [
       "array([[19, 16, 10, 16],\n",
       "       [16, 19, 12, 13],\n",
       "       [14, 13, 13, 16],\n",
       "       [11, 16, 19, 16],\n",
       "       [10, 19, 19, 13]], dtype=int32)"
      ]
     },
     "execution_count": 121,
     "metadata": {},
     "output_type": "execute_result"
    }
   ],
   "source": [
    "b"
   ]
  },
  {
   "cell_type": "code",
   "execution_count": 122,
   "id": "b197d76d-3830-455f-90df-32d9aa0d3c6a",
   "metadata": {},
   "outputs": [
    {
     "data": {
      "text/plain": [
       "numpy.ndarray"
      ]
     },
     "execution_count": 122,
     "metadata": {},
     "output_type": "execute_result"
    }
   ],
   "source": [
    "type(b)"
   ]
  },
  {
   "cell_type": "code",
   "execution_count": 123,
   "id": "522ef8ff-d459-414c-9403-b6d03e02d190",
   "metadata": {},
   "outputs": [
    {
     "data": {
      "text/plain": [
       "array([[19, 16, 10, 16],\n",
       "       [16, 19, 12, 13],\n",
       "       [14, 13, 13, 16],\n",
       "       [11, 16, 19, 16],\n",
       "       [10, 19, 19, 13]], dtype=int32)"
      ]
     },
     "execution_count": 123,
     "metadata": {},
     "output_type": "execute_result"
    }
   ],
   "source": [
    "b[:]"
   ]
  },
  {
   "cell_type": "code",
   "execution_count": 124,
   "id": "0f43a310-e233-4a54-b75a-a6d0b193b881",
   "metadata": {},
   "outputs": [
    {
     "data": {
      "text/plain": [
       "array([19, 16, 10, 16], dtype=int32)"
      ]
     },
     "execution_count": 124,
     "metadata": {},
     "output_type": "execute_result"
    }
   ],
   "source": [
    "b[0]"
   ]
  },
  {
   "cell_type": "code",
   "execution_count": 125,
   "id": "560641bd-f021-4320-9c8a-528cdc83a5b2",
   "metadata": {},
   "outputs": [
    {
     "data": {
      "text/plain": [
       "array([16, 19, 12, 13], dtype=int32)"
      ]
     },
     "execution_count": 125,
     "metadata": {},
     "output_type": "execute_result"
    }
   ],
   "source": [
    "b[1]"
   ]
  },
  {
   "cell_type": "code",
   "execution_count": 126,
   "id": "4c1a2b5b-8ec6-4dff-a0d1-7fd2cfdd4ff8",
   "metadata": {},
   "outputs": [
    {
     "data": {
      "text/plain": [
       "array([10, 19, 19, 13], dtype=int32)"
      ]
     },
     "execution_count": 126,
     "metadata": {},
     "output_type": "execute_result"
    }
   ],
   "source": [
    "b[4]"
   ]
  },
  {
   "cell_type": "code",
   "execution_count": 127,
   "id": "f5ada03a-628a-4f89-b6ac-ba3a26f27fd3",
   "metadata": {},
   "outputs": [
    {
     "data": {
      "text/plain": [
       "array([11, 16, 19, 16], dtype=int32)"
      ]
     },
     "execution_count": 127,
     "metadata": {},
     "output_type": "execute_result"
    }
   ],
   "source": [
    "b[3]"
   ]
  },
  {
   "cell_type": "code",
   "execution_count": 128,
   "id": "d19e92fc-47b5-40d8-8229-f61139fba192",
   "metadata": {},
   "outputs": [
    {
     "data": {
      "text/plain": [
       "array([14, 13, 13, 16], dtype=int32)"
      ]
     },
     "execution_count": 128,
     "metadata": {},
     "output_type": "execute_result"
    }
   ],
   "source": [
    "b[-3]"
   ]
  },
  {
   "cell_type": "code",
   "execution_count": 129,
   "id": "63f07602-72cd-42c2-aac8-b4c997822445",
   "metadata": {},
   "outputs": [
    {
     "data": {
      "text/plain": [
       "array([19, 16, 10, 16], dtype=int32)"
      ]
     },
     "execution_count": 129,
     "metadata": {},
     "output_type": "execute_result"
    }
   ],
   "source": [
    "b[-5]"
   ]
  },
  {
   "cell_type": "code",
   "execution_count": 130,
   "id": "495691e9-4605-4ce5-b108-d52ba76be7b9",
   "metadata": {},
   "outputs": [
    {
     "ename": "IndexError",
     "evalue": "index 5 is out of bounds for axis 0 with size 5",
     "output_type": "error",
     "traceback": [
      "\u001b[1;31m---------------------------------------------------------------------------\u001b[0m",
      "\u001b[1;31mIndexError\u001b[0m                                Traceback (most recent call last)",
      "Cell \u001b[1;32mIn[130], line 1\u001b[0m\n\u001b[1;32m----> 1\u001b[0m b[\u001b[38;5;241m5\u001b[39m]\n",
      "\u001b[1;31mIndexError\u001b[0m: index 5 is out of bounds for axis 0 with size 5"
     ]
    }
   ],
   "source": [
    "b[5]"
   ]
  },
  {
   "cell_type": "code",
   "execution_count": 131,
   "id": "25edb629-33ce-4ef3-a98c-beb7ab906d67",
   "metadata": {},
   "outputs": [
    {
     "data": {
      "text/plain": [
       "array([10, 19, 19, 13], dtype=int32)"
      ]
     },
     "execution_count": 131,
     "metadata": {},
     "output_type": "execute_result"
    }
   ],
   "source": [
    "b[4]"
   ]
  },
  {
   "cell_type": "code",
   "execution_count": 132,
   "id": "2cc905e5-1592-410e-9713-5642627d1dfb",
   "metadata": {},
   "outputs": [
    {
     "data": {
      "text/plain": [
       "array([[19, 16, 10, 16],\n",
       "       [16, 19, 12, 13],\n",
       "       [14, 13, 13, 16],\n",
       "       [11, 16, 19, 16],\n",
       "       [10, 19, 19, 13]], dtype=int32)"
      ]
     },
     "execution_count": 132,
     "metadata": {},
     "output_type": "execute_result"
    }
   ],
   "source": [
    "b[:]"
   ]
  },
  {
   "cell_type": "code",
   "execution_count": 133,
   "id": "9890c9db-f06b-4198-9abd-dd83bf36c981",
   "metadata": {},
   "outputs": [
    {
     "data": {
      "text/plain": [
       "array([14, 13, 13, 16], dtype=int32)"
      ]
     },
     "execution_count": 133,
     "metadata": {},
     "output_type": "execute_result"
    }
   ],
   "source": [
    "b[2]"
   ]
  },
  {
   "cell_type": "code",
   "execution_count": 136,
   "id": "c617eeef-20bf-47af-bcc0-b37d2676ca36",
   "metadata": {},
   "outputs": [
    {
     "data": {
      "text/plain": [
       "array([[14, 13, 13, 16]], dtype=int32)"
      ]
     },
     "execution_count": 136,
     "metadata": {},
     "output_type": "execute_result"
    }
   ],
   "source": [
    "b[2:3]"
   ]
  },
  {
   "cell_type": "code",
   "execution_count": 135,
   "id": "5d013e7d-9ca8-4085-b365-d55499d13ccf",
   "metadata": {},
   "outputs": [
    {
     "data": {
      "text/plain": [
       "array([[16, 19, 12, 13]], dtype=int32)"
      ]
     },
     "execution_count": 135,
     "metadata": {},
     "output_type": "execute_result"
    }
   ],
   "source": [
    "b[1:2]"
   ]
  }
 ],
 "metadata": {
  "kernelspec": {
   "display_name": "Python [conda env:base] *",
   "language": "python",
   "name": "conda-base-py"
  },
  "language_info": {
   "codemirror_mode": {
    "name": "ipython",
    "version": 3
   },
   "file_extension": ".py",
   "mimetype": "text/x-python",
   "name": "python",
   "nbconvert_exporter": "python",
   "pygments_lexer": "ipython3",
   "version": "3.13.5"
  }
 },
 "nbformat": 4,
 "nbformat_minor": 5
}
