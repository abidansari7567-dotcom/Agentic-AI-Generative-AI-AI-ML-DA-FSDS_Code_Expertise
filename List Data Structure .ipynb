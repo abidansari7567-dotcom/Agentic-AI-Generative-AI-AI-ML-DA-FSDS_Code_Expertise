{
 "cells": [
  {
   "cell_type": "markdown",
   "id": "714ff0ef-610f-4f00-8ba7-7878e5c850c2",
   "metadata": {},
   "source": [
    "# List"
   ]
  },
  {
   "cell_type": "code",
   "execution_count": 10,
   "id": "c51ed2b8-9253-47e6-a569-c3c26f02c660",
   "metadata": {},
   "outputs": [
    {
     "data": {
      "text/plain": [
       "[]"
      ]
     },
     "execution_count": 10,
     "metadata": {},
     "output_type": "execute_result"
    }
   ],
   "source": [
    "l = []\n",
    "l"
   ]
  },
  {
   "cell_type": "code",
   "execution_count": 11,
   "id": "6123ef9a-0996-4d90-96c5-a030ed0463cb",
   "metadata": {},
   "outputs": [
    {
     "data": {
      "text/plain": [
       "list"
      ]
     },
     "execution_count": 11,
     "metadata": {},
     "output_type": "execute_result"
    }
   ],
   "source": [
    "type(l)"
   ]
  },
  {
   "cell_type": "code",
   "execution_count": 12,
   "id": "3acb845e-3605-4129-9224-b2994db400b5",
   "metadata": {},
   "outputs": [
    {
     "data": {
      "text/plain": [
       "0"
      ]
     },
     "execution_count": 12,
     "metadata": {},
     "output_type": "execute_result"
    }
   ],
   "source": [
    "len(l)"
   ]
  },
  {
   "cell_type": "code",
   "execution_count": 13,
   "id": "368cbaaa-0bf3-449d-a999-cb606300dac3",
   "metadata": {},
   "outputs": [
    {
     "ename": "TypeError",
     "evalue": "list.append() takes exactly one argument (0 given)",
     "output_type": "error",
     "traceback": [
      "\u001b[1;31m---------------------------------------------------------------------------\u001b[0m",
      "\u001b[1;31mTypeError\u001b[0m                                 Traceback (most recent call last)",
      "Cell \u001b[1;32mIn[13], line 1\u001b[0m\n\u001b[1;32m----> 1\u001b[0m l\u001b[38;5;241m.\u001b[39mappend()\n",
      "\u001b[1;31mTypeError\u001b[0m: list.append() takes exactly one argument (0 given)"
     ]
    }
   ],
   "source": [
    "l.append()"
   ]
  },
  {
   "cell_type": "code",
   "execution_count": 14,
   "id": "f5678435-79ad-4772-991b-2eac972bf606",
   "metadata": {},
   "outputs": [],
   "source": [
    "l.append(10)"
   ]
  },
  {
   "cell_type": "code",
   "execution_count": 15,
   "id": "58b76318-db3c-4b2d-a7e9-8d1b99dc76e6",
   "metadata": {},
   "outputs": [
    {
     "data": {
      "text/plain": [
       "[10]"
      ]
     },
     "execution_count": 15,
     "metadata": {},
     "output_type": "execute_result"
    }
   ],
   "source": [
    "l"
   ]
  },
  {
   "cell_type": "code",
   "execution_count": 16,
   "id": "1bfa0b9b-ddf9-42e9-afb1-ba366ae55a4a",
   "metadata": {},
   "outputs": [],
   "source": [
    "l.append(20)\n",
    "l.append(30)\n",
    "l.append(40)"
   ]
  },
  {
   "cell_type": "code",
   "execution_count": 17,
   "id": "5a8f6f29-9239-49e3-8c62-3b407b1ec46b",
   "metadata": {},
   "outputs": [
    {
     "data": {
      "text/plain": [
       "[10, 20, 30, 40]"
      ]
     },
     "execution_count": 17,
     "metadata": {},
     "output_type": "execute_result"
    }
   ],
   "source": [
    "l"
   ]
  },
  {
   "cell_type": "code",
   "execution_count": 19,
   "id": "1d212459-64ff-4e4a-9783-970b8843d501",
   "metadata": {},
   "outputs": [
    {
     "data": {
      "text/plain": [
       "4"
      ]
     },
     "execution_count": 19,
     "metadata": {},
     "output_type": "execute_result"
    }
   ],
   "source": [
    "len(l)"
   ]
  },
  {
   "cell_type": "code",
   "execution_count": 20,
   "id": "85cd8b78-d03f-4a30-bc4c-5261dc3c3306",
   "metadata": {},
   "outputs": [],
   "source": [
    "l.append(50)"
   ]
  },
  {
   "cell_type": "code",
   "execution_count": 21,
   "id": "c2d39c12-61cd-4a81-9958-a5aad429b38c",
   "metadata": {},
   "outputs": [
    {
     "data": {
      "text/plain": [
       "[10, 20, 30, 40, 50]"
      ]
     },
     "execution_count": 21,
     "metadata": {},
     "output_type": "execute_result"
    }
   ],
   "source": [
    "l"
   ]
  },
  {
   "cell_type": "code",
   "execution_count": 22,
   "id": "00661a19-965b-47dc-a052-8b7057787241",
   "metadata": {},
   "outputs": [
    {
     "data": {
      "text/plain": [
       "5"
      ]
     },
     "execution_count": 22,
     "metadata": {},
     "output_type": "execute_result"
    }
   ],
   "source": [
    "len(l)"
   ]
  },
  {
   "cell_type": "code",
   "execution_count": 23,
   "id": "2b448cda-2660-4864-835c-0a7442b9fd8f",
   "metadata": {},
   "outputs": [],
   "source": [
    "l1 =[10, 3.4, True, (2+3j)]"
   ]
  },
  {
   "cell_type": "code",
   "execution_count": 24,
   "id": "6574d5e4-a76b-4088-be9e-bcf4a1a2728c",
   "metadata": {},
   "outputs": [
    {
     "data": {
      "text/plain": [
       "[10, 3.4, True, (2+3j)]"
      ]
     },
     "execution_count": 24,
     "metadata": {},
     "output_type": "execute_result"
    }
   ],
   "source": [
    "l1"
   ]
  },
  {
   "cell_type": "code",
   "execution_count": 25,
   "id": "c2282c8a-8529-4951-8a1e-333b6b866e51",
   "metadata": {},
   "outputs": [
    {
     "name": "stdout",
     "output_type": "stream",
     "text": [
      "[10, 20, 30, 40, 50]\n",
      "[10, 3.4, True, (2+3j)]\n"
     ]
    }
   ],
   "source": [
    "print(l)\n",
    "print(l1)"
   ]
  },
  {
   "cell_type": "code",
   "execution_count": 26,
   "id": "da68d75d-6284-477f-b0cf-ce22a11f33df",
   "metadata": {},
   "outputs": [
    {
     "name": "stdout",
     "output_type": "stream",
     "text": [
      "5\n",
      "4\n"
     ]
    }
   ],
   "source": [
    "print(len(l))\n",
    "print(len(l1))"
   ]
  },
  {
   "cell_type": "code",
   "execution_count": 27,
   "id": "c70d044d-0055-49c8-bc3f-9c9d650c1e0f",
   "metadata": {},
   "outputs": [
    {
     "name": "stdout",
     "output_type": "stream",
     "text": [
      "2277663289536\n",
      "2277676218560\n"
     ]
    }
   ],
   "source": [
    "print(id(l))\n",
    "print(id(l1))"
   ]
  },
  {
   "cell_type": "code",
   "execution_count": 28,
   "id": "ff4a6523-4b66-4921-87ca-3778b0ccc5bf",
   "metadata": {},
   "outputs": [
    {
     "ename": "NameError",
     "evalue": "name 'l2' is not defined",
     "output_type": "error",
     "traceback": [
      "\u001b[1;31m---------------------------------------------------------------------------\u001b[0m",
      "\u001b[1;31mNameError\u001b[0m                                 Traceback (most recent call last)",
      "Cell \u001b[1;32mIn[28], line 1\u001b[0m\n\u001b[1;32m----> 1\u001b[0m l2\n",
      "\u001b[1;31mNameError\u001b[0m: name 'l2' is not defined"
     ]
    }
   ],
   "source": [
    "l2"
   ]
  },
  {
   "cell_type": "code",
   "execution_count": 29,
   "id": "fdc7d9bb-e9b0-4682-bfa6-9eb1b2f4bd5e",
   "metadata": {},
   "outputs": [],
   "source": [
    "l2 = l1.copy()"
   ]
  },
  {
   "cell_type": "code",
   "execution_count": 30,
   "id": "6fc381e4-df6e-4e5b-a3c6-b2cbf5bb7849",
   "metadata": {},
   "outputs": [
    {
     "data": {
      "text/plain": [
       "[10, 3.4, True, (2+3j)]"
      ]
     },
     "execution_count": 30,
     "metadata": {},
     "output_type": "execute_result"
    }
   ],
   "source": [
    "l2"
   ]
  },
  {
   "cell_type": "code",
   "execution_count": 31,
   "id": "63790b5d-2a53-4b14-abd4-2449446a0076",
   "metadata": {},
   "outputs": [
    {
     "data": {
      "text/plain": [
       "True"
      ]
     },
     "execution_count": 31,
     "metadata": {},
     "output_type": "execute_result"
    }
   ],
   "source": [
    "l1 == l2"
   ]
  },
  {
   "cell_type": "code",
   "execution_count": 32,
   "id": "1645ce4d-60fb-4fc5-8798-0fa799e7f15c",
   "metadata": {},
   "outputs": [
    {
     "data": {
      "text/plain": [
       "False"
      ]
     },
     "execution_count": 32,
     "metadata": {},
     "output_type": "execute_result"
    }
   ],
   "source": [
    "l == l2"
   ]
  },
  {
   "cell_type": "code",
   "execution_count": 33,
   "id": "0a6c5f61-df62-4607-9d95-00b58a605189",
   "metadata": {},
   "outputs": [
    {
     "name": "stdout",
     "output_type": "stream",
     "text": [
      "[10, 20, 30, 40, 50]\n",
      "[10, 3.4, True, (2+3j)]\n",
      "[10, 3.4, True, (2+3j)]\n"
     ]
    }
   ],
   "source": [
    "print(l)\n",
    "print(l1)\n",
    "print(l2)"
   ]
  },
  {
   "cell_type": "code",
   "execution_count": 34,
   "id": "0f131a58-b68d-49f7-9249-37384dadae85",
   "metadata": {},
   "outputs": [
    {
     "data": {
      "text/plain": [
       "True"
      ]
     },
     "execution_count": 34,
     "metadata": {},
     "output_type": "execute_result"
    }
   ],
   "source": [
    "l != l2"
   ]
  },
  {
   "cell_type": "code",
   "execution_count": 35,
   "id": "6065f7a9-ec52-4004-91f5-3806dad637a3",
   "metadata": {},
   "outputs": [
    {
     "data": {
      "text/plain": [
       "[10, 20, 30, 40, 50]"
      ]
     },
     "execution_count": 35,
     "metadata": {},
     "output_type": "execute_result"
    }
   ],
   "source": [
    "l"
   ]
  },
  {
   "cell_type": "code",
   "execution_count": 36,
   "id": "ba295d25-1890-46af-80d7-6fc85777175d",
   "metadata": {},
   "outputs": [
    {
     "data": {
      "text/plain": [
       "[10, 20, 30, 40, 50]"
      ]
     },
     "execution_count": 36,
     "metadata": {},
     "output_type": "execute_result"
    }
   ],
   "source": [
    "l[:]"
   ]
  },
  {
   "cell_type": "code",
   "execution_count": 37,
   "id": "46c43ffc-ec66-4dfa-999d-7b9efe15dd8e",
   "metadata": {},
   "outputs": [
    {
     "data": {
      "text/plain": [
       "10"
      ]
     },
     "execution_count": 37,
     "metadata": {},
     "output_type": "execute_result"
    }
   ],
   "source": [
    "l[0]"
   ]
  },
  {
   "cell_type": "code",
   "execution_count": 38,
   "id": "93623d18-ffaf-4e93-ac46-cf491dc0327e",
   "metadata": {},
   "outputs": [
    {
     "data": {
      "text/plain": [
       "50"
      ]
     },
     "execution_count": 38,
     "metadata": {},
     "output_type": "execute_result"
    }
   ],
   "source": [
    "l[-1]"
   ]
  },
  {
   "cell_type": "code",
   "execution_count": 39,
   "id": "a67d5e08-a218-4bed-99c5-c169a1335ef0",
   "metadata": {},
   "outputs": [
    {
     "data": {
      "text/plain": [
       "[10, 20, 30, 40, 50]"
      ]
     },
     "execution_count": 39,
     "metadata": {},
     "output_type": "execute_result"
    }
   ],
   "source": [
    "l"
   ]
  },
  {
   "cell_type": "code",
   "execution_count": 40,
   "id": "94c749ad-26c7-4a3e-878b-05bfe27cda07",
   "metadata": {},
   "outputs": [
    {
     "data": {
      "text/plain": [
       "50"
      ]
     },
     "execution_count": 40,
     "metadata": {},
     "output_type": "execute_result"
    }
   ],
   "source": [
    "l[4]"
   ]
  },
  {
   "cell_type": "code",
   "execution_count": 41,
   "id": "eac9122e-6f85-44e8-85bd-8a63581fc242",
   "metadata": {},
   "outputs": [
    {
     "ename": "IndexError",
     "evalue": "list index out of range",
     "output_type": "error",
     "traceback": [
      "\u001b[1;31m---------------------------------------------------------------------------\u001b[0m",
      "\u001b[1;31mIndexError\u001b[0m                                Traceback (most recent call last)",
      "Cell \u001b[1;32mIn[41], line 1\u001b[0m\n\u001b[1;32m----> 1\u001b[0m l[\u001b[38;5;241m5\u001b[39m]\n",
      "\u001b[1;31mIndexError\u001b[0m: list index out of range"
     ]
    }
   ],
   "source": [
    "l[5]"
   ]
  },
  {
   "cell_type": "code",
   "execution_count": 42,
   "id": "b5b63754-0be4-4bb9-b224-939ef95d10fa",
   "metadata": {},
   "outputs": [
    {
     "data": {
      "text/plain": [
       "30"
      ]
     },
     "execution_count": 42,
     "metadata": {},
     "output_type": "execute_result"
    }
   ],
   "source": [
    "l[2]"
   ]
  },
  {
   "cell_type": "code",
   "execution_count": 43,
   "id": "8e7e5f86-8097-4828-8027-0dea41c02880",
   "metadata": {},
   "outputs": [
    {
     "data": {
      "text/plain": [
       "50"
      ]
     },
     "execution_count": 43,
     "metadata": {},
     "output_type": "execute_result"
    }
   ],
   "source": [
    "l[-1]"
   ]
  },
  {
   "cell_type": "code",
   "execution_count": 44,
   "id": "2ca1c140-5010-4c45-83db-d405904ddd1a",
   "metadata": {},
   "outputs": [
    {
     "data": {
      "text/plain": [
       "40"
      ]
     },
     "execution_count": 44,
     "metadata": {},
     "output_type": "execute_result"
    }
   ],
   "source": [
    "l[-2]"
   ]
  },
  {
   "cell_type": "code",
   "execution_count": 45,
   "id": "90ae87f9-e502-4a0e-9c9d-de69c4c8b7e3",
   "metadata": {},
   "outputs": [
    {
     "data": {
      "text/plain": [
       "40"
      ]
     },
     "execution_count": 45,
     "metadata": {},
     "output_type": "execute_result"
    }
   ],
   "source": [
    "l[3]"
   ]
  },
  {
   "cell_type": "code",
   "execution_count": 46,
   "id": "f384b0c1-9100-4894-bcf9-0bc84006e3f3",
   "metadata": {},
   "outputs": [
    {
     "data": {
      "text/plain": [
       "50"
      ]
     },
     "execution_count": 46,
     "metadata": {},
     "output_type": "execute_result"
    }
   ],
   "source": [
    "l[4]"
   ]
  },
  {
   "cell_type": "code",
   "execution_count": 47,
   "id": "c87394d1-36f5-40b3-9c54-8405b8e7478f",
   "metadata": {},
   "outputs": [
    {
     "ename": "IndexError",
     "evalue": "list index out of range",
     "output_type": "error",
     "traceback": [
      "\u001b[1;31m---------------------------------------------------------------------------\u001b[0m",
      "\u001b[1;31mIndexError\u001b[0m                                Traceback (most recent call last)",
      "Cell \u001b[1;32mIn[47], line 1\u001b[0m\n\u001b[1;32m----> 1\u001b[0m l[\u001b[38;5;241m10\u001b[39m]\n",
      "\u001b[1;31mIndexError\u001b[0m: list index out of range"
     ]
    }
   ],
   "source": [
    "l[10]"
   ]
  },
  {
   "cell_type": "code",
   "execution_count": 48,
   "id": "524f6c32-c431-46a2-afcd-d210fa25aeae",
   "metadata": {},
   "outputs": [
    {
     "data": {
      "text/plain": [
       "[10, 20, 30, 40, 50]"
      ]
     },
     "execution_count": 48,
     "metadata": {},
     "output_type": "execute_result"
    }
   ],
   "source": [
    "l"
   ]
  },
  {
   "cell_type": "code",
   "execution_count": 49,
   "id": "2c892ed2-1b77-4072-ac38-07d2b37e953d",
   "metadata": {},
   "outputs": [
    {
     "data": {
      "text/plain": [
       "[10, 20, 30, 40, 50, 10, 3.4, True, (2+3j)]"
      ]
     },
     "execution_count": 49,
     "metadata": {},
     "output_type": "execute_result"
    }
   ],
   "source": [
    "l + l2"
   ]
  },
  {
   "cell_type": "code",
   "execution_count": 50,
   "id": "57cc723e-575e-4e0d-8479-d4bd3102ae48",
   "metadata": {},
   "outputs": [],
   "source": [
    "l3 = l1 + l2"
   ]
  },
  {
   "cell_type": "code",
   "execution_count": 51,
   "id": "ce2a1932-9613-412b-b0e5-1789f2d6bb49",
   "metadata": {},
   "outputs": [
    {
     "data": {
      "text/plain": [
       "[10, 3.4, True, (2+3j), 10, 3.4, True, (2+3j)]"
      ]
     },
     "execution_count": 51,
     "metadata": {},
     "output_type": "execute_result"
    }
   ],
   "source": [
    "l3"
   ]
  },
  {
   "cell_type": "code",
   "execution_count": 52,
   "id": "3c0bc905-d2e6-43a3-8c36-4415de5cdd96",
   "metadata": {},
   "outputs": [
    {
     "data": {
      "text/plain": [
       "[10, 3.4, True, (2+3j), 10, 3.4, True, (2+3j)]"
      ]
     },
     "execution_count": 52,
     "metadata": {},
     "output_type": "execute_result"
    }
   ],
   "source": [
    "l3"
   ]
  },
  {
   "cell_type": "code",
   "execution_count": 54,
   "id": "b7b3f192-d5cb-47df-b5b1-a9c0b8d62f03",
   "metadata": {},
   "outputs": [
    {
     "data": {
      "text/plain": [
       "True"
      ]
     },
     "execution_count": 54,
     "metadata": {},
     "output_type": "execute_result"
    }
   ],
   "source": [
    "l3[6]"
   ]
  },
  {
   "cell_type": "code",
   "execution_count": 55,
   "id": "4e0d4c53-b143-4b42-a147-e0a7c18a4417",
   "metadata": {},
   "outputs": [
    {
     "data": {
      "text/plain": [
       "(2+3j)"
      ]
     },
     "execution_count": 55,
     "metadata": {},
     "output_type": "execute_result"
    }
   ],
   "source": [
    "l3[7]"
   ]
  },
  {
   "cell_type": "code",
   "execution_count": 56,
   "id": "0762d0aa-c5d9-416e-a0e3-c7609e894df7",
   "metadata": {},
   "outputs": [
    {
     "data": {
      "text/plain": [
       "[10, 3.4, True, (2+3j), 10, 3.4, True, (2+3j)]"
      ]
     },
     "execution_count": 56,
     "metadata": {},
     "output_type": "execute_result"
    }
   ],
   "source": [
    "l3"
   ]
  },
  {
   "cell_type": "code",
   "execution_count": 57,
   "id": "2525968d-1c73-4429-8a5b-445e1b4f53f4",
   "metadata": {},
   "outputs": [],
   "source": [
    "l3[-1] = 'jan'"
   ]
  },
  {
   "cell_type": "code",
   "execution_count": 58,
   "id": "d9eb2b6c-8aaf-4b2d-9ebf-58bf60a354f0",
   "metadata": {},
   "outputs": [
    {
     "data": {
      "text/plain": [
       "[10, 3.4, True, (2+3j), 10, 3.4, True, 'jan']"
      ]
     },
     "execution_count": 58,
     "metadata": {},
     "output_type": "execute_result"
    }
   ],
   "source": [
    "l3"
   ]
  },
  {
   "cell_type": "code",
   "execution_count": 59,
   "id": "fe47fa74-97d6-4dac-bf5e-85b97756fb84",
   "metadata": {},
   "outputs": [],
   "source": [
    "l3[-2] = 'Abid'"
   ]
  },
  {
   "cell_type": "code",
   "execution_count": 60,
   "id": "71666bcb-4b09-4cb4-8211-5fbbda2a4025",
   "metadata": {},
   "outputs": [
    {
     "data": {
      "text/plain": [
       "[10, 3.4, True, (2+3j), 10, 3.4, 'Abid', 'jan']"
      ]
     },
     "execution_count": 60,
     "metadata": {},
     "output_type": "execute_result"
    }
   ],
   "source": [
    "l3"
   ]
  },
  {
   "cell_type": "code",
   "execution_count": 61,
   "id": "4bb7f076-9e07-4634-b2c8-ab45a39ce86f",
   "metadata": {},
   "outputs": [
    {
     "data": {
      "text/plain": [
       "[10, 3.4, True, 'Ansari', 10, 3.4, 'Abid', 'jan']"
      ]
     },
     "execution_count": 61,
     "metadata": {},
     "output_type": "execute_result"
    }
   ],
   "source": [
    "l3[-5] = 'Ansari'\n",
    "l3"
   ]
  },
  {
   "cell_type": "code",
   "execution_count": 62,
   "id": "473f5384-823d-40c8-9cae-9e1c3fefaa6c",
   "metadata": {},
   "outputs": [
    {
     "data": {
      "text/plain": [
       "[10, 20, 30, 40, 50]"
      ]
     },
     "execution_count": 62,
     "metadata": {},
     "output_type": "execute_result"
    }
   ],
   "source": [
    "l"
   ]
  },
  {
   "cell_type": "code",
   "execution_count": 63,
   "id": "f84c8a0b-2c08-4987-84ff-8bfe06413fe3",
   "metadata": {},
   "outputs": [
    {
     "data": {
      "text/plain": [
       "[10, 3.4, True, (2+3j)]"
      ]
     },
     "execution_count": 63,
     "metadata": {},
     "output_type": "execute_result"
    }
   ],
   "source": [
    "l1"
   ]
  },
  {
   "cell_type": "code",
   "execution_count": 64,
   "id": "7e8df7cb-c02c-4c37-8799-dea69e80d07f",
   "metadata": {},
   "outputs": [
    {
     "data": {
      "text/plain": [
       "[10, 3.4, True, (2+3j)]"
      ]
     },
     "execution_count": 64,
     "metadata": {},
     "output_type": "execute_result"
    }
   ],
   "source": [
    "l2"
   ]
  },
  {
   "cell_type": "code",
   "execution_count": 65,
   "id": "d6a975ab-d18c-472e-aa02-e2ba90fdc51e",
   "metadata": {},
   "outputs": [
    {
     "data": {
      "text/plain": [
       "[10, 3.4, True, 'Ansari', 10, 3.4, 'Abid', 'jan']"
      ]
     },
     "execution_count": 65,
     "metadata": {},
     "output_type": "execute_result"
    }
   ],
   "source": [
    "l3"
   ]
  },
  {
   "cell_type": "code",
   "execution_count": 66,
   "id": "399aa31f-43e8-45fb-88fd-3cfb3ac28727",
   "metadata": {},
   "outputs": [],
   "source": [
    "l.append('jan')"
   ]
  },
  {
   "cell_type": "code",
   "execution_count": 67,
   "id": "2f18f079-bece-43d8-b809-2bf9ee73db8b",
   "metadata": {},
   "outputs": [
    {
     "data": {
      "text/plain": [
       "[10, 20, 30, 40, 50, 'jan']"
      ]
     },
     "execution_count": 67,
     "metadata": {},
     "output_type": "execute_result"
    }
   ],
   "source": [
    "l"
   ]
  },
  {
   "cell_type": "code",
   "execution_count": 68,
   "id": "9fb2ead9-c1f2-4309-ab4a-952c1844aa4f",
   "metadata": {},
   "outputs": [],
   "source": [
    "l.append('feb')"
   ]
  },
  {
   "cell_type": "code",
   "execution_count": 69,
   "id": "3b2b0646-f0ca-43cb-880d-2350b2c56388",
   "metadata": {},
   "outputs": [
    {
     "data": {
      "text/plain": [
       "[10, 20, 30, 40, 50, 'jan', 'feb']"
      ]
     },
     "execution_count": 69,
     "metadata": {},
     "output_type": "execute_result"
    }
   ],
   "source": [
    "l"
   ]
  },
  {
   "cell_type": "code",
   "execution_count": 70,
   "id": "6b7d07ee-dfde-420c-b5fa-0deab0277b62",
   "metadata": {},
   "outputs": [
    {
     "data": {
      "text/plain": [
       "[10, 20, 30, 40, 50, 'jan', 'feb', 40]"
      ]
     },
     "execution_count": 70,
     "metadata": {},
     "output_type": "execute_result"
    }
   ],
   "source": [
    "l.append(40)\n",
    "l"
   ]
  },
  {
   "cell_type": "code",
   "execution_count": 71,
   "id": "214111f9-80e4-4422-bf00-c62a0b4636f7",
   "metadata": {},
   "outputs": [
    {
     "data": {
      "text/plain": [
       "[10, 20, 30, 40, 50, 'jan', 'feb', 40]"
      ]
     },
     "execution_count": 71,
     "metadata": {},
     "output_type": "execute_result"
    }
   ],
   "source": [
    "l"
   ]
  },
  {
   "cell_type": "code",
   "execution_count": 72,
   "id": "353ee676-b772-4513-b571-94b21fa6d46a",
   "metadata": {},
   "outputs": [
    {
     "data": {
      "text/plain": [
       "[10, 3.4, True, (2+3j)]"
      ]
     },
     "execution_count": 72,
     "metadata": {},
     "output_type": "execute_result"
    }
   ],
   "source": [
    "l2"
   ]
  },
  {
   "cell_type": "code",
   "execution_count": 73,
   "id": "5616a98b-2f57-42b7-ac10-0ca84c922717",
   "metadata": {},
   "outputs": [
    {
     "data": {
      "text/plain": [
       "[10, 3.4, True, 'Ansari', 10, 3.4, 'Abid', 'jan']"
      ]
     },
     "execution_count": 73,
     "metadata": {},
     "output_type": "execute_result"
    }
   ],
   "source": [
    "l3"
   ]
  },
  {
   "cell_type": "code",
   "execution_count": 74,
   "id": "e77e913f-c872-425e-a011-0c99fc43c73c",
   "metadata": {},
   "outputs": [
    {
     "data": {
      "text/plain": [
       "4"
      ]
     },
     "execution_count": 74,
     "metadata": {},
     "output_type": "execute_result"
    }
   ],
   "source": [
    "len(l2)"
   ]
  },
  {
   "cell_type": "code",
   "execution_count": 75,
   "id": "6c48ab0e-15f0-4b91-a01f-ebe588d22522",
   "metadata": {},
   "outputs": [
    {
     "data": {
      "text/plain": [
       "8"
      ]
     },
     "execution_count": 75,
     "metadata": {},
     "output_type": "execute_result"
    }
   ],
   "source": [
    "len(l3)"
   ]
  },
  {
   "cell_type": "code",
   "execution_count": 76,
   "id": "129fb0bf-93b5-4fec-a29a-34165b04cc43",
   "metadata": {},
   "outputs": [],
   "source": [
    "l2.clear()"
   ]
  },
  {
   "cell_type": "code",
   "execution_count": 79,
   "id": "8b877f5e-7e9d-415a-952e-33088ffe814f",
   "metadata": {},
   "outputs": [
    {
     "data": {
      "text/plain": [
       "[]"
      ]
     },
     "execution_count": 79,
     "metadata": {},
     "output_type": "execute_result"
    }
   ],
   "source": [
    "l2"
   ]
  },
  {
   "cell_type": "code",
   "execution_count": 80,
   "id": "6b31752a-18d0-41e1-8ea3-086c6f8286e9",
   "metadata": {},
   "outputs": [
    {
     "data": {
      "text/plain": [
       "0"
      ]
     },
     "execution_count": 80,
     "metadata": {},
     "output_type": "execute_result"
    }
   ],
   "source": [
    "len(l2)"
   ]
  },
  {
   "cell_type": "code",
   "execution_count": 81,
   "id": "a634ca71-2b85-44f6-8195-9d6bf276e42d",
   "metadata": {},
   "outputs": [
    {
     "data": {
      "text/plain": [
       "[10, 20, 30, 40, 50, 'jan', 'feb', 40]"
      ]
     },
     "execution_count": 81,
     "metadata": {},
     "output_type": "execute_result"
    }
   ],
   "source": [
    "l"
   ]
  },
  {
   "cell_type": "code",
   "execution_count": 83,
   "id": "b0b1dc89-7483-474e-83b1-7d19149f254c",
   "metadata": {},
   "outputs": [],
   "source": [
    "del l2"
   ]
  },
  {
   "cell_type": "code",
   "execution_count": 84,
   "id": "cb24b49d-12b7-423d-8521-fb41b5112373",
   "metadata": {},
   "outputs": [],
   "source": [
    "l[0] = 100"
   ]
  },
  {
   "cell_type": "code",
   "execution_count": 85,
   "id": "ef505fc5-00b1-40f1-965a-c324cca0c5eb",
   "metadata": {},
   "outputs": [
    {
     "data": {
      "text/plain": [
       "[100, 20, 30, 40, 50, 'jan', 'feb', 40]"
      ]
     },
     "execution_count": 85,
     "metadata": {},
     "output_type": "execute_result"
    }
   ],
   "source": [
    "l"
   ]
  },
  {
   "cell_type": "code",
   "execution_count": 86,
   "id": "91d3233a-6639-4ed9-a6a7-f0fdc98cc982",
   "metadata": {},
   "outputs": [],
   "source": [
    "l[2] = 60"
   ]
  },
  {
   "cell_type": "code",
   "execution_count": 87,
   "id": "f48d17ac-172b-43f2-8351-0d4547395986",
   "metadata": {},
   "outputs": [
    {
     "data": {
      "text/plain": [
       "[100, 20, 60, 40, 50, 'jan', 'feb', 40]"
      ]
     },
     "execution_count": 87,
     "metadata": {},
     "output_type": "execute_result"
    }
   ],
   "source": [
    "l"
   ]
  },
  {
   "cell_type": "code",
   "execution_count": 88,
   "id": "626f4ab1-5d6d-4f44-b1c0-b6dae6ec8c25",
   "metadata": {},
   "outputs": [
    {
     "data": {
      "text/plain": [
       "2"
      ]
     },
     "execution_count": 88,
     "metadata": {},
     "output_type": "execute_result"
    }
   ],
   "source": [
    "l.count(40)"
   ]
  },
  {
   "cell_type": "code",
   "execution_count": 89,
   "id": "2449bf61-892c-49dd-a65d-0210284ac48c",
   "metadata": {},
   "outputs": [
    {
     "data": {
      "text/plain": [
       "0"
      ]
     },
     "execution_count": 89,
     "metadata": {},
     "output_type": "execute_result"
    }
   ],
   "source": [
    "l.count(1000)"
   ]
  },
  {
   "cell_type": "code",
   "execution_count": 90,
   "id": "f7730fb7-ef87-492d-8ff4-79b1b23d6be0",
   "metadata": {},
   "outputs": [
    {
     "data": {
      "text/plain": [
       "1"
      ]
     },
     "execution_count": 90,
     "metadata": {},
     "output_type": "execute_result"
    }
   ],
   "source": [
    "l.count(50)"
   ]
  },
  {
   "cell_type": "code",
   "execution_count": 91,
   "id": "d9325396-be81-4cca-961d-aed66852abef",
   "metadata": {},
   "outputs": [
    {
     "name": "stdout",
     "output_type": "stream",
     "text": [
      "[100, 20, 60, 40, 50, 'jan', 'feb', 40]\n",
      "[10, 3.4, True, (2+3j)]\n"
     ]
    }
   ],
   "source": [
    "print(l)\n",
    "print(l1)"
   ]
  },
  {
   "cell_type": "code",
   "execution_count": 93,
   "id": "6cc00044-d376-4435-98f3-443e1b8f0f8c",
   "metadata": {},
   "outputs": [
    {
     "name": "stdout",
     "output_type": "stream",
     "text": [
      "[100, 20, 60, 40, 50, 'jan', 'feb', 40]\n",
      "[10, 3.4, True, (2+3j)]\n",
      "[10, 3.4, True, 'Ansari', 10, 3.4, 'Abid', 'jan']\n"
     ]
    }
   ],
   "source": [
    "print(l)\n",
    "print(l1)\n",
    "print(l3)"
   ]
  },
  {
   "cell_type": "code",
   "execution_count": 94,
   "id": "552d4df4-062a-4d2e-bd00-2e5cfb798978",
   "metadata": {},
   "outputs": [
    {
     "name": "stdout",
     "output_type": "stream",
     "text": [
      "8\n",
      "4\n"
     ]
    }
   ],
   "source": [
    "print(len(l))\n",
    "print(len(l1))"
   ]
  },
  {
   "cell_type": "code",
   "execution_count": 95,
   "id": "996e5f77-23be-4bc7-a3eb-e2baf86a7243",
   "metadata": {},
   "outputs": [
    {
     "name": "stdout",
     "output_type": "stream",
     "text": [
      "8\n",
      "4\n",
      "8\n"
     ]
    }
   ],
   "source": [
    "print(len(l))\n",
    "print(len(l1))\n",
    "print(len(l3))"
   ]
  },
  {
   "cell_type": "markdown",
   "id": "30607d24-50f8-4207-8500-1461bfaf8879",
   "metadata": {},
   "source": [
    "# List MemeberShip"
   ]
  },
  {
   "cell_type": "markdown",
   "id": "cdfb4373-52bd-4a35-9cc0-f9ca5d30d459",
   "metadata": {},
   "source": [
    "#### l"
   ]
  },
  {
   "cell_type": "code",
   "execution_count": 97,
   "id": "42cb4135-b21e-4b57-9ef8-fe7f433929c0",
   "metadata": {},
   "outputs": [
    {
     "data": {
      "text/plain": [
       "True"
      ]
     },
     "execution_count": 97,
     "metadata": {},
     "output_type": "execute_result"
    }
   ],
   "source": [
    "100 in l"
   ]
  },
  {
   "cell_type": "code",
   "execution_count": 98,
   "id": "272eb165-0a12-416c-b776-c6b19b977aea",
   "metadata": {},
   "outputs": [
    {
     "data": {
      "text/plain": [
       "False"
      ]
     },
     "execution_count": 98,
     "metadata": {},
     "output_type": "execute_result"
    }
   ],
   "source": [
    "1000 in l"
   ]
  },
  {
   "cell_type": "code",
   "execution_count": 99,
   "id": "41766fd0-0b94-4739-ad74-7861596556f1",
   "metadata": {},
   "outputs": [
    {
     "data": {
      "text/plain": [
       "True"
      ]
     },
     "execution_count": 99,
     "metadata": {},
     "output_type": "execute_result"
    }
   ],
   "source": [
    "40 in l"
   ]
  },
  {
   "cell_type": "code",
   "execution_count": 100,
   "id": "f4b392ea-7a8a-4964-b37d-1759966a322c",
   "metadata": {},
   "outputs": [
    {
     "data": {
      "text/plain": [
       "True"
      ]
     },
     "execution_count": 100,
     "metadata": {},
     "output_type": "execute_result"
    }
   ],
   "source": [
    "'jan' in l"
   ]
  },
  {
   "cell_type": "code",
   "execution_count": 101,
   "id": "a432a16e-f7a0-4d66-b8fe-d8d9a81a8a01",
   "metadata": {},
   "outputs": [
    {
     "data": {
      "text/plain": [
       "False"
      ]
     },
     "execution_count": 101,
     "metadata": {},
     "output_type": "execute_result"
    }
   ],
   "source": [
    "'may' in l"
   ]
  },
  {
   "cell_type": "code",
   "execution_count": 102,
   "id": "54a5022a-d6dc-436b-b7c4-91188af927b0",
   "metadata": {},
   "outputs": [
    {
     "data": {
      "text/plain": [
       "True"
      ]
     },
     "execution_count": 102,
     "metadata": {},
     "output_type": "execute_result"
    }
   ],
   "source": [
    "'Ansari' in l3"
   ]
  },
  {
   "cell_type": "code",
   "execution_count": 103,
   "id": "f9548001-fdbf-4a1c-850f-52211086036c",
   "metadata": {},
   "outputs": [
    {
     "data": {
      "text/plain": [
       "True"
      ]
     },
     "execution_count": 103,
     "metadata": {},
     "output_type": "execute_result"
    }
   ],
   "source": [
    "3.4 in l1"
   ]
  },
  {
   "cell_type": "code",
   "execution_count": 104,
   "id": "2d560278-bf2b-47a1-9983-2389d1681ec1",
   "metadata": {},
   "outputs": [
    {
     "data": {
      "text/plain": [
       "True"
      ]
     },
     "execution_count": 104,
     "metadata": {},
     "output_type": "execute_result"
    }
   ],
   "source": [
    "'Abid' in l3"
   ]
  },
  {
   "cell_type": "code",
   "execution_count": 105,
   "id": "c6ede881-eef2-4676-b6d8-13849bd49496",
   "metadata": {},
   "outputs": [
    {
     "data": {
      "text/plain": [
       "True"
      ]
     },
     "execution_count": 105,
     "metadata": {},
     "output_type": "execute_result"
    }
   ],
   "source": [
    "'jan' in l3"
   ]
  },
  {
   "cell_type": "code",
   "execution_count": 106,
   "id": "91fc855b-3fcd-47b9-9e30-5fff68215f8c",
   "metadata": {},
   "outputs": [
    {
     "data": {
      "text/plain": [
       "False"
      ]
     },
     "execution_count": 106,
     "metadata": {},
     "output_type": "execute_result"
    }
   ],
   "source": [
    "100 in l3"
   ]
  },
  {
   "cell_type": "code",
   "execution_count": 108,
   "id": "2ee1d288-7e50-4bb9-a5ca-7120c307681c",
   "metadata": {},
   "outputs": [],
   "source": [
    "l2 = []"
   ]
  },
  {
   "cell_type": "code",
   "execution_count": 109,
   "id": "a5241d84-d7bb-421a-8ecb-a0e7c39a7d01",
   "metadata": {},
   "outputs": [
    {
     "name": "stdout",
     "output_type": "stream",
     "text": [
      "8\n",
      "4\n",
      "0\n"
     ]
    }
   ],
   "source": [
    "print(len(l))\n",
    "print(len(l1))\n",
    "print(len(l2))"
   ]
  },
  {
   "cell_type": "code",
   "execution_count": 110,
   "id": "7da1063f-30d3-4108-a454-d9827d66414a",
   "metadata": {},
   "outputs": [
    {
     "name": "stdout",
     "output_type": "stream",
     "text": [
      "8\n",
      "4\n",
      "0\n",
      "8\n"
     ]
    }
   ],
   "source": [
    "print(len(l))\n",
    "print(len(l1))\n",
    "print(len(l2))\n",
    "print(len(l3))"
   ]
  },
  {
   "cell_type": "code",
   "execution_count": 111,
   "id": "43acb879-03ff-4b7b-aeb4-9f782de81061",
   "metadata": {},
   "outputs": [
    {
     "data": {
      "text/plain": [
       "[100, 20, 60, 40, 50, 'jan', 'feb', 40]"
      ]
     },
     "execution_count": 111,
     "metadata": {},
     "output_type": "execute_result"
    }
   ],
   "source": [
    "l"
   ]
  },
  {
   "cell_type": "code",
   "execution_count": 112,
   "id": "26bbf767-6b80-483b-8e53-d789d9b9512e",
   "metadata": {},
   "outputs": [
    {
     "data": {
      "text/plain": [
       "[10, 3.4, True, (2+3j)]"
      ]
     },
     "execution_count": 112,
     "metadata": {},
     "output_type": "execute_result"
    }
   ],
   "source": [
    "l1"
   ]
  },
  {
   "cell_type": "code",
   "execution_count": 113,
   "id": "3228bfb2-7e45-4596-a7a9-34623f54059a",
   "metadata": {},
   "outputs": [
    {
     "data": {
      "text/plain": [
       "[]"
      ]
     },
     "execution_count": 113,
     "metadata": {},
     "output_type": "execute_result"
    }
   ],
   "source": [
    "l2"
   ]
  },
  {
   "cell_type": "code",
   "execution_count": 114,
   "id": "f3c8af3c-0421-4622-b2d7-e89293c47abd",
   "metadata": {},
   "outputs": [
    {
     "data": {
      "text/plain": [
       "[10, 3.4, True, 'Ansari', 10, 3.4, 'Abid', 'jan']"
      ]
     },
     "execution_count": 114,
     "metadata": {},
     "output_type": "execute_result"
    }
   ],
   "source": [
    "l3"
   ]
  },
  {
   "cell_type": "code",
   "execution_count": 115,
   "id": "77d1ac9d-5b6f-42f5-a87b-36b7c6509b63",
   "metadata": {},
   "outputs": [],
   "source": [
    "l2.extend(l)"
   ]
  },
  {
   "cell_type": "code",
   "execution_count": 116,
   "id": "d952f435-6e2d-4871-8e2f-eb461cd85d2f",
   "metadata": {},
   "outputs": [
    {
     "data": {
      "text/plain": [
       "[100, 20, 60, 40, 50, 'jan', 'feb', 40]"
      ]
     },
     "execution_count": 116,
     "metadata": {},
     "output_type": "execute_result"
    }
   ],
   "source": [
    "l2"
   ]
  },
  {
   "cell_type": "code",
   "execution_count": 117,
   "id": "84d1efe2-151b-4d9f-8e57-21da2e2e38dc",
   "metadata": {},
   "outputs": [],
   "source": [
    "l2.extend(l1)"
   ]
  },
  {
   "cell_type": "code",
   "execution_count": 118,
   "id": "465cb6d7-b65b-494d-8df7-c44ea5f752dc",
   "metadata": {},
   "outputs": [
    {
     "data": {
      "text/plain": [
       "[100, 20, 60, 40, 50, 'jan', 'feb', 40, 10, 3.4, True, (2+3j)]"
      ]
     },
     "execution_count": 118,
     "metadata": {},
     "output_type": "execute_result"
    }
   ],
   "source": [
    "l2"
   ]
  },
  {
   "cell_type": "code",
   "execution_count": 119,
   "id": "51e2c2ea-f329-4aa5-baf9-00f41e21c0b2",
   "metadata": {},
   "outputs": [],
   "source": [
    "l2.extend(l3)"
   ]
  },
  {
   "cell_type": "code",
   "execution_count": 120,
   "id": "8f1d95b3-1b72-4d0a-b1df-b2fac61198c1",
   "metadata": {},
   "outputs": [
    {
     "data": {
      "text/plain": [
       "[100,\n",
       " 20,\n",
       " 60,\n",
       " 40,\n",
       " 50,\n",
       " 'jan',\n",
       " 'feb',\n",
       " 40,\n",
       " 10,\n",
       " 3.4,\n",
       " True,\n",
       " (2+3j),\n",
       " 10,\n",
       " 3.4,\n",
       " True,\n",
       " 'Ansari',\n",
       " 10,\n",
       " 3.4,\n",
       " 'Abid',\n",
       " 'jan']"
      ]
     },
     "execution_count": 120,
     "metadata": {},
     "output_type": "execute_result"
    }
   ],
   "source": [
    "l2"
   ]
  },
  {
   "cell_type": "code",
   "execution_count": 121,
   "id": "054d4c26-2f32-4f4d-919a-6b797cb9075b",
   "metadata": {},
   "outputs": [],
   "source": [
    "l1.extend(l2)"
   ]
  },
  {
   "cell_type": "code",
   "execution_count": 122,
   "id": "f2c09bf4-c13d-4839-984f-48e2eec26df6",
   "metadata": {},
   "outputs": [
    {
     "data": {
      "text/plain": [
       "[10,\n",
       " 3.4,\n",
       " True,\n",
       " (2+3j),\n",
       " 100,\n",
       " 20,\n",
       " 60,\n",
       " 40,\n",
       " 50,\n",
       " 'jan',\n",
       " 'feb',\n",
       " 40,\n",
       " 10,\n",
       " 3.4,\n",
       " True,\n",
       " (2+3j),\n",
       " 10,\n",
       " 3.4,\n",
       " True,\n",
       " 'Ansari',\n",
       " 10,\n",
       " 3.4,\n",
       " 'Abid',\n",
       " 'jan']"
      ]
     },
     "execution_count": 122,
     "metadata": {},
     "output_type": "execute_result"
    }
   ],
   "source": [
    "l1"
   ]
  },
  {
   "cell_type": "code",
   "execution_count": 123,
   "id": "5758ad06-30f4-446f-b1cf-7c1a876297d7",
   "metadata": {},
   "outputs": [
    {
     "data": {
      "text/plain": [
       "24"
      ]
     },
     "execution_count": 123,
     "metadata": {},
     "output_type": "execute_result"
    }
   ],
   "source": [
    "len(l1)"
   ]
  },
  {
   "cell_type": "code",
   "execution_count": 124,
   "id": "350c2053-fb15-4773-ac1c-7ce4cdfb49a2",
   "metadata": {},
   "outputs": [
    {
     "name": "stdout",
     "output_type": "stream",
     "text": [
      "24\n",
      "20\n"
     ]
    }
   ],
   "source": [
    "print(len(l1))\n",
    "print(len(l2))"
   ]
  },
  {
   "cell_type": "code",
   "execution_count": 125,
   "id": "cecaf6b1-7371-426d-854a-66a0887e61dd",
   "metadata": {},
   "outputs": [
    {
     "name": "stdout",
     "output_type": "stream",
     "text": [
      "24\n",
      "20\n",
      "8\n"
     ]
    }
   ],
   "source": [
    "print(len(l1))\n",
    "print(len(l2))\n",
    "print(len(l3))"
   ]
  },
  {
   "cell_type": "code",
   "execution_count": 126,
   "id": "ecdf597c-82a6-473a-85ca-d6bb6431e9eb",
   "metadata": {},
   "outputs": [
    {
     "data": {
      "text/plain": [
       "[100, 20, 60, 40, 50, 'jan', 'feb', 40]"
      ]
     },
     "execution_count": 126,
     "metadata": {},
     "output_type": "execute_result"
    }
   ],
   "source": [
    "l"
   ]
  },
  {
   "cell_type": "code",
   "execution_count": 127,
   "id": "3ab6ef99-72f5-40f9-acf9-0405a9daf487",
   "metadata": {},
   "outputs": [
    {
     "data": {
      "text/plain": [
       "5"
      ]
     },
     "execution_count": 127,
     "metadata": {},
     "output_type": "execute_result"
    }
   ],
   "source": [
    "l.index('jan')"
   ]
  },
  {
   "cell_type": "code",
   "execution_count": 128,
   "id": "cb4f383c-b4dd-474b-ad87-1eecbf4a217e",
   "metadata": {},
   "outputs": [
    {
     "ename": "ValueError",
     "evalue": "5 is not in list",
     "output_type": "error",
     "traceback": [
      "\u001b[1;31m---------------------------------------------------------------------------\u001b[0m",
      "\u001b[1;31mValueError\u001b[0m                                Traceback (most recent call last)",
      "Cell \u001b[1;32mIn[128], line 1\u001b[0m\n\u001b[1;32m----> 1\u001b[0m l\u001b[38;5;241m.\u001b[39mindex(\u001b[38;5;241m5\u001b[39m)\n",
      "\u001b[1;31mValueError\u001b[0m: 5 is not in list"
     ]
    }
   ],
   "source": [
    "l.index(5)"
   ]
  },
  {
   "cell_type": "code",
   "execution_count": 129,
   "id": "26de2d3d-2633-4d55-a012-98f757dad5c2",
   "metadata": {},
   "outputs": [
    {
     "data": {
      "text/plain": [
       "2"
      ]
     },
     "execution_count": 129,
     "metadata": {},
     "output_type": "execute_result"
    }
   ],
   "source": [
    "l.index(60)"
   ]
  },
  {
   "cell_type": "code",
   "execution_count": 130,
   "id": "fdda02a3-2056-4b5c-980c-0cfa6fcab91f",
   "metadata": {},
   "outputs": [
    {
     "data": {
      "text/plain": [
       "[10, 3.4, True, 'Ansari', 10, 3.4, 'Abid', 'jan']"
      ]
     },
     "execution_count": 130,
     "metadata": {},
     "output_type": "execute_result"
    }
   ],
   "source": [
    "l3"
   ]
  },
  {
   "cell_type": "code",
   "execution_count": 131,
   "id": "e19c4921-96cc-4957-a41b-7aebc1ef39e8",
   "metadata": {},
   "outputs": [
    {
     "data": {
      "text/plain": [
       "6"
      ]
     },
     "execution_count": 131,
     "metadata": {},
     "output_type": "execute_result"
    }
   ],
   "source": [
    "l3.index('Abid')"
   ]
  },
  {
   "cell_type": "code",
   "execution_count": 132,
   "id": "64cdc1d8-5f5b-4a1a-b224-46505374b747",
   "metadata": {},
   "outputs": [
    {
     "data": {
      "text/plain": [
       "3"
      ]
     },
     "execution_count": 132,
     "metadata": {},
     "output_type": "execute_result"
    }
   ],
   "source": [
    "l3.index('Ansari')"
   ]
  },
  {
   "cell_type": "code",
   "execution_count": 133,
   "id": "c1b768b9-ce42-420a-9610-fd86ca945fb5",
   "metadata": {},
   "outputs": [
    {
     "data": {
      "text/plain": [
       "[100, 20, 60, 40, 50, 'jan', 'feb', 40]"
      ]
     },
     "execution_count": 133,
     "metadata": {},
     "output_type": "execute_result"
    }
   ],
   "source": [
    "l"
   ]
  },
  {
   "cell_type": "code",
   "execution_count": 134,
   "id": "be832077-1102-4a2c-9f5e-65c63f548034",
   "metadata": {},
   "outputs": [
    {
     "data": {
      "text/plain": [
       "[100, 20, 60, 40, 50, 'jan', 'feb', 40]"
      ]
     },
     "execution_count": 134,
     "metadata": {},
     "output_type": "execute_result"
    }
   ],
   "source": [
    "l[:]"
   ]
  },
  {
   "cell_type": "code",
   "execution_count": 135,
   "id": "5319bde9-ad14-4b74-ab4a-52f986f1fb2d",
   "metadata": {},
   "outputs": [
    {
     "data": {
      "text/plain": [
       "[10, 3.4, True, 'Ansari', 10, 3.4, 'Abid', 'jan']"
      ]
     },
     "execution_count": 135,
     "metadata": {},
     "output_type": "execute_result"
    }
   ],
   "source": [
    "l3"
   ]
  },
  {
   "cell_type": "code",
   "execution_count": 136,
   "id": "b9eb5031-4129-4056-adbf-c060a2d32415",
   "metadata": {},
   "outputs": [
    {
     "data": {
      "text/plain": [
       "[100,\n",
       " 20,\n",
       " 60,\n",
       " 40,\n",
       " 50,\n",
       " 'jan',\n",
       " 'feb',\n",
       " 40,\n",
       " 10,\n",
       " 3.4,\n",
       " True,\n",
       " (2+3j),\n",
       " 10,\n",
       " 3.4,\n",
       " True,\n",
       " 'Ansari',\n",
       " 10,\n",
       " 3.4,\n",
       " 'Abid',\n",
       " 'jan']"
      ]
     },
     "execution_count": 136,
     "metadata": {},
     "output_type": "execute_result"
    }
   ],
   "source": [
    "l2"
   ]
  },
  {
   "cell_type": "code",
   "execution_count": 137,
   "id": "4d38c06e-19de-4821-9f5b-db3240561225",
   "metadata": {},
   "outputs": [
    {
     "data": {
      "text/plain": [
       "[100, 20, 60, 40, 50, 'jan', 'feb', 40]"
      ]
     },
     "execution_count": 137,
     "metadata": {},
     "output_type": "execute_result"
    }
   ],
   "source": [
    "l"
   ]
  },
  {
   "cell_type": "code",
   "execution_count": 138,
   "id": "8ba756b9-d107-49ab-bdd5-c016d7bf40c6",
   "metadata": {},
   "outputs": [
    {
     "data": {
      "text/plain": [
       "[100, 20, 60, 40, 50, 'jan', 'feb', 40]"
      ]
     },
     "execution_count": 138,
     "metadata": {},
     "output_type": "execute_result"
    }
   ],
   "source": [
    "l[:]"
   ]
  },
  {
   "cell_type": "code",
   "execution_count": 139,
   "id": "4df01e3d-f779-4a5b-b734-10ecc4e4001c",
   "metadata": {},
   "outputs": [
    {
     "data": {
      "text/plain": [
       "[10, 3.4, True, 'Ansari', 10, 3.4, 'Abid', 'jan']"
      ]
     },
     "execution_count": 139,
     "metadata": {},
     "output_type": "execute_result"
    }
   ],
   "source": [
    "l3"
   ]
  },
  {
   "cell_type": "code",
   "execution_count": 140,
   "id": "cda3900a-c4ed-46ab-82f4-c15f89650349",
   "metadata": {},
   "outputs": [
    {
     "data": {
      "text/plain": [
       "[10, 3.4, True, 'Ansari', 10, 3.4, 'Abid', 'jan']"
      ]
     },
     "execution_count": 140,
     "metadata": {},
     "output_type": "execute_result"
    }
   ],
   "source": [
    "l3[:]"
   ]
  },
  {
   "cell_type": "code",
   "execution_count": 141,
   "id": "59520c5d-7966-4d86-9e15-d0fdaa9d28ae",
   "metadata": {},
   "outputs": [
    {
     "data": {
      "text/plain": [
       "[100, 20, 60, 40, 50, 'jan']"
      ]
     },
     "execution_count": 141,
     "metadata": {},
     "output_type": "execute_result"
    }
   ],
   "source": [
    "l2[0:6]"
   ]
  },
  {
   "cell_type": "code",
   "execution_count": 142,
   "id": "60d108c7-6f85-4e2f-9e95-4859042d47e9",
   "metadata": {},
   "outputs": [
    {
     "data": {
      "text/plain": [
       "[100, 20, 60, 40, 50, 'jan', 'feb', 40, 10, 3.4, True, (2+3j), 10, 3.4, True]"
      ]
     },
     "execution_count": 142,
     "metadata": {},
     "output_type": "execute_result"
    }
   ],
   "source": [
    "l2[0:15]"
   ]
  },
  {
   "cell_type": "code",
   "execution_count": 143,
   "id": "55c535d5-3745-4cbb-8820-dd445b1278cc",
   "metadata": {},
   "outputs": [
    {
     "data": {
      "text/plain": [
       "[40, 50]"
      ]
     },
     "execution_count": 143,
     "metadata": {},
     "output_type": "execute_result"
    }
   ],
   "source": [
    "l2[3:5]"
   ]
  },
  {
   "cell_type": "code",
   "execution_count": 144,
   "id": "21edff9f-720e-4294-8ee4-3b3d6fea2eb0",
   "metadata": {},
   "outputs": [
    {
     "data": {
      "text/plain": [
       "[60, 40, 50, 'jan', 'feb', 40, 10, 3.4]"
      ]
     },
     "execution_count": 144,
     "metadata": {},
     "output_type": "execute_result"
    }
   ],
   "source": [
    "l2[2:10]"
   ]
  },
  {
   "cell_type": "code",
   "execution_count": 145,
   "id": "6a17debd-049c-446a-97f3-b943762e4252",
   "metadata": {},
   "outputs": [
    {
     "data": {
      "text/plain": [
       "[100,\n",
       " 20,\n",
       " 60,\n",
       " 40,\n",
       " 50,\n",
       " 'jan',\n",
       " 'feb',\n",
       " 40,\n",
       " 10,\n",
       " 3.4,\n",
       " True,\n",
       " (2+3j),\n",
       " 10,\n",
       " 3.4,\n",
       " True,\n",
       " 'Ansari',\n",
       " 10,\n",
       " 3.4,\n",
       " 'Abid',\n",
       " 'jan']"
      ]
     },
     "execution_count": 145,
     "metadata": {},
     "output_type": "execute_result"
    }
   ],
   "source": [
    "l2"
   ]
  },
  {
   "cell_type": "code",
   "execution_count": 146,
   "id": "02ee7fea-05fc-4608-a326-f27451698953",
   "metadata": {},
   "outputs": [
    {
     "data": {
      "text/plain": [
       "[100, 60, 50, 'feb', 10, True, 10, True, 10, 'Abid']"
      ]
     },
     "execution_count": 146,
     "metadata": {},
     "output_type": "execute_result"
    }
   ],
   "source": [
    "l2[::2]"
   ]
  },
  {
   "cell_type": "code",
   "execution_count": 147,
   "id": "3097f262-30e3-4e61-b138-b1627064c141",
   "metadata": {},
   "outputs": [
    {
     "data": {
      "text/plain": [
       "[100, 'jan', True, 'Ansari']"
      ]
     },
     "execution_count": 147,
     "metadata": {},
     "output_type": "execute_result"
    }
   ],
   "source": [
    "l2[::5]"
   ]
  },
  {
   "cell_type": "code",
   "execution_count": 148,
   "id": "a5d8a3a0-38ea-47c7-aa31-923597d6a956",
   "metadata": {},
   "outputs": [
    {
     "data": {
      "text/plain": [
       "[100, 'feb', 10, 'Abid']"
      ]
     },
     "execution_count": 148,
     "metadata": {},
     "output_type": "execute_result"
    }
   ],
   "source": [
    "l2[::6]"
   ]
  },
  {
   "cell_type": "code",
   "execution_count": 149,
   "id": "e8f9001e-0bf7-4ac4-95b6-f3f902cd44a9",
   "metadata": {},
   "outputs": [
    {
     "data": {
      "text/plain": [
       "[100, 10, 10]"
      ]
     },
     "execution_count": 149,
     "metadata": {},
     "output_type": "execute_result"
    }
   ],
   "source": [
    "l2[::8]"
   ]
  },
  {
   "cell_type": "code",
   "execution_count": 150,
   "id": "bbdd5f1e-2a55-42e1-b0e3-3061e5f3caec",
   "metadata": {},
   "outputs": [
    {
     "data": {
      "text/plain": [
       "[100, True]"
      ]
     },
     "execution_count": 150,
     "metadata": {},
     "output_type": "execute_result"
    }
   ],
   "source": [
    "l2[::10]"
   ]
  },
  {
   "cell_type": "markdown",
   "id": "0d408552-216a-4929-bde3-f68dbf55d902",
   "metadata": {},
   "source": [
    "# Backward indexing & Backward Slicing"
   ]
  },
  {
   "cell_type": "code",
   "execution_count": 151,
   "id": "787b3b67-671c-4ed4-8f6b-080de3cc459d",
   "metadata": {},
   "outputs": [
    {
     "data": {
      "text/plain": [
       "[100,\n",
       " 20,\n",
       " 60,\n",
       " 40,\n",
       " 50,\n",
       " 'jan',\n",
       " 'feb',\n",
       " 40,\n",
       " 10,\n",
       " 3.4,\n",
       " True,\n",
       " (2+3j),\n",
       " 10,\n",
       " 3.4,\n",
       " True,\n",
       " 'Ansari',\n",
       " 10,\n",
       " 3.4,\n",
       " 'Abid',\n",
       " 'jan']"
      ]
     },
     "execution_count": 151,
     "metadata": {},
     "output_type": "execute_result"
    }
   ],
   "source": [
    "l2"
   ]
  },
  {
   "cell_type": "code",
   "execution_count": 152,
   "id": "78879832-fe14-4837-a59b-f9f4b9c0cf95",
   "metadata": {},
   "outputs": [
    {
     "data": {
      "text/plain": [
       "[100,\n",
       " 20,\n",
       " 60,\n",
       " 40,\n",
       " 50,\n",
       " 'jan',\n",
       " 'feb',\n",
       " 40,\n",
       " 10,\n",
       " 3.4,\n",
       " True,\n",
       " (2+3j),\n",
       " 10,\n",
       " 3.4,\n",
       " True,\n",
       " 'Ansari',\n",
       " 10,\n",
       " 3.4,\n",
       " 'Abid',\n",
       " 'jan']"
      ]
     },
     "execution_count": 152,
     "metadata": {},
     "output_type": "execute_result"
    }
   ],
   "source": [
    "l2[:]"
   ]
  },
  {
   "cell_type": "code",
   "execution_count": 153,
   "id": "c5883adb-a59f-4096-bb5f-2c298f2c2ff9",
   "metadata": {},
   "outputs": [
    {
     "data": {
      "text/plain": [
       "'Ansari'"
      ]
     },
     "execution_count": 153,
     "metadata": {},
     "output_type": "execute_result"
    }
   ],
   "source": [
    "l2[-5]"
   ]
  },
  {
   "cell_type": "code",
   "execution_count": 154,
   "id": "1d5d7528-668d-4fa4-b3e4-46585e0f8d03",
   "metadata": {},
   "outputs": [
    {
     "data": {
      "text/plain": [
       "True"
      ]
     },
     "execution_count": 154,
     "metadata": {},
     "output_type": "execute_result"
    }
   ],
   "source": [
    "l2[-10]"
   ]
  },
  {
   "cell_type": "code",
   "execution_count": 155,
   "id": "6dea8be2-6296-46a1-bbf6-10a0792af9c0",
   "metadata": {},
   "outputs": [
    {
     "data": {
      "text/plain": [
       "'jan'"
      ]
     },
     "execution_count": 155,
     "metadata": {},
     "output_type": "execute_result"
    }
   ],
   "source": [
    "l2[-15]"
   ]
  },
  {
   "cell_type": "code",
   "execution_count": 156,
   "id": "906c8003-4080-4a43-a101-493af10c67e5",
   "metadata": {},
   "outputs": [
    {
     "data": {
      "text/plain": [
       "100"
      ]
     },
     "execution_count": 156,
     "metadata": {},
     "output_type": "execute_result"
    }
   ],
   "source": [
    "l2[-20]"
   ]
  },
  {
   "cell_type": "code",
   "execution_count": 157,
   "id": "9e120d9d-6f81-4822-b324-4820b1dca849",
   "metadata": {},
   "outputs": [
    {
     "data": {
      "text/plain": [
       "20"
      ]
     },
     "execution_count": 157,
     "metadata": {},
     "output_type": "execute_result"
    }
   ],
   "source": [
    "len(l2)"
   ]
  },
  {
   "cell_type": "code",
   "execution_count": 158,
   "id": "e0e9a109-eb36-4748-934d-19d184a28280",
   "metadata": {},
   "outputs": [
    {
     "data": {
      "text/plain": [
       "[100, 20, 60, 40, 50, 'jan', 'feb', 40, 10, 3.4, True]"
      ]
     },
     "execution_count": 158,
     "metadata": {},
     "output_type": "execute_result"
    }
   ],
   "source": [
    "l2[:-9]"
   ]
  },
  {
   "cell_type": "code",
   "execution_count": 159,
   "id": "4dd25719-e13b-4ebf-9f35-86803dd44933",
   "metadata": {},
   "outputs": [
    {
     "data": {
      "text/plain": [
       "[100,\n",
       " 20,\n",
       " 60,\n",
       " 40,\n",
       " 50,\n",
       " 'jan',\n",
       " 'feb',\n",
       " 40,\n",
       " 10,\n",
       " 3.4,\n",
       " True,\n",
       " (2+3j),\n",
       " 10,\n",
       " 3.4,\n",
       " True,\n",
       " 'Ansari',\n",
       " 10]"
      ]
     },
     "execution_count": 159,
     "metadata": {},
     "output_type": "execute_result"
    }
   ],
   "source": [
    "l2[:-3]"
   ]
  },
  {
   "cell_type": "code",
   "execution_count": 160,
   "id": "3474ab9e-f82f-4f4b-83b0-72eeccb535d9",
   "metadata": {},
   "outputs": [
    {
     "data": {
      "text/plain": [
       "[100, 20, 60, 40]"
      ]
     },
     "execution_count": 160,
     "metadata": {},
     "output_type": "execute_result"
    }
   ],
   "source": [
    "l2[:-16]"
   ]
  },
  {
   "cell_type": "code",
   "execution_count": 161,
   "id": "ef9bac7f-b025-4b1e-825a-b98a40cdd74e",
   "metadata": {},
   "outputs": [
    {
     "data": {
      "text/plain": [
       "[100, 20]"
      ]
     },
     "execution_count": 161,
     "metadata": {},
     "output_type": "execute_result"
    }
   ],
   "source": [
    "l2[:-18]"
   ]
  },
  {
   "cell_type": "code",
   "execution_count": 164,
   "id": "25ac5323-7721-4422-9bca-37dab204e43a",
   "metadata": {},
   "outputs": [
    {
     "data": {
      "text/plain": [
       "[100,\n",
       " 20,\n",
       " 60,\n",
       " 40,\n",
       " 50,\n",
       " 'jan',\n",
       " 'feb',\n",
       " 40,\n",
       " 10,\n",
       " 3.4,\n",
       " True,\n",
       " (2+3j),\n",
       " 10,\n",
       " 3.4,\n",
       " True,\n",
       " 'Ansari',\n",
       " 10,\n",
       " 3.4,\n",
       " 'Abid',\n",
       " 'jan']"
      ]
     },
     "execution_count": 164,
     "metadata": {},
     "output_type": "execute_result"
    }
   ],
   "source": [
    "l2"
   ]
  },
  {
   "cell_type": "code",
   "execution_count": 165,
   "id": "1f624374-0aee-4fac-b1d4-0bdc9df952b4",
   "metadata": {},
   "outputs": [
    {
     "data": {
      "text/plain": [
       "[3.4, 'Abid', 'jan']"
      ]
     },
     "execution_count": 165,
     "metadata": {},
     "output_type": "execute_result"
    }
   ],
   "source": [
    "l2[-3:]"
   ]
  },
  {
   "cell_type": "code",
   "execution_count": 166,
   "id": "e1e25a52-b506-48f7-91f8-4c56d6b9214f",
   "metadata": {},
   "outputs": [
    {
     "data": {
      "text/plain": [
       "['Ansari', 10, 3.4, 'Abid', 'jan']"
      ]
     },
     "execution_count": 166,
     "metadata": {},
     "output_type": "execute_result"
    }
   ],
   "source": [
    "l2[-5:]"
   ]
  },
  {
   "cell_type": "code",
   "execution_count": 167,
   "id": "e07ef1c3-0206-40b1-a7ea-ae617873b42e",
   "metadata": {},
   "outputs": [
    {
     "data": {
      "text/plain": [
       "[(2+3j), 10, 3.4, True, 'Ansari', 10, 3.4, 'Abid', 'jan']"
      ]
     },
     "execution_count": 167,
     "metadata": {},
     "output_type": "execute_result"
    }
   ],
   "source": [
    "l2[-9:]"
   ]
  },
  {
   "cell_type": "code",
   "execution_count": 168,
   "id": "68c0c70d-3a53-49e2-b5df-fa5d14efaacf",
   "metadata": {},
   "outputs": [
    {
     "data": {
      "text/plain": [
       "['jan',\n",
       " 'feb',\n",
       " 40,\n",
       " 10,\n",
       " 3.4,\n",
       " True,\n",
       " (2+3j),\n",
       " 10,\n",
       " 3.4,\n",
       " True,\n",
       " 'Ansari',\n",
       " 10,\n",
       " 3.4,\n",
       " 'Abid',\n",
       " 'jan']"
      ]
     },
     "execution_count": 168,
     "metadata": {},
     "output_type": "execute_result"
    }
   ],
   "source": [
    "l2[-15:]"
   ]
  },
  {
   "cell_type": "code",
   "execution_count": null,
   "id": "b9d1f8c4-014b-4190-b11b-25de9e6dfc04",
   "metadata": {},
   "outputs": [],
   "source": []
  }
 ],
 "metadata": {
  "kernelspec": {
   "display_name": "Python [conda env:base] *",
   "language": "python",
   "name": "conda-base-py"
  },
  "language_info": {
   "codemirror_mode": {
    "name": "ipython",
    "version": 3
   },
   "file_extension": ".py",
   "mimetype": "text/x-python",
   "name": "python",
   "nbconvert_exporter": "python",
   "pygments_lexer": "ipython3",
   "version": "3.13.5"
  }
 },
 "nbformat": 4,
 "nbformat_minor": 5
}
