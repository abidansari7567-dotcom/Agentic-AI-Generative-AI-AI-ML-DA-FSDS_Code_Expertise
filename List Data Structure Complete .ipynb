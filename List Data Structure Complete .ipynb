{
 "cells": [
  {
   "cell_type": "markdown",
   "id": "2db79552-ebee-4567-af90-1e85887b3cfa",
   "metadata": {},
   "source": [
    "# Lisrt"
   ]
  },
  {
   "cell_type": "code",
   "execution_count": 1,
   "id": "48d8ec4f-be81-4feb-85d3-3b3efd985af0",
   "metadata": {},
   "outputs": [
    {
     "data": {
      "text/plain": [
       "[]"
      ]
     },
     "execution_count": 1,
     "metadata": {},
     "output_type": "execute_result"
    }
   ],
   "source": [
    "l = []\n",
    "l"
   ]
  },
  {
   "cell_type": "code",
   "execution_count": 2,
   "id": "7c0664fb-421e-45cd-a984-396ab1a586f8",
   "metadata": {},
   "outputs": [
    {
     "data": {
      "text/plain": [
       "list"
      ]
     },
     "execution_count": 2,
     "metadata": {},
     "output_type": "execute_result"
    }
   ],
   "source": [
    "type(l)"
   ]
  },
  {
   "cell_type": "code",
   "execution_count": 3,
   "id": "2fd3376b-7d3f-4106-b08a-1bbdd19bb794",
   "metadata": {},
   "outputs": [
    {
     "data": {
      "text/plain": [
       "0"
      ]
     },
     "execution_count": 3,
     "metadata": {},
     "output_type": "execute_result"
    }
   ],
   "source": [
    "len(l)"
   ]
  },
  {
   "cell_type": "code",
   "execution_count": 4,
   "id": "ac56e965-9e0f-4316-86b1-298a50363a28",
   "metadata": {},
   "outputs": [
    {
     "ename": "TypeError",
     "evalue": "list.append() takes exactly one argument (0 given)",
     "output_type": "error",
     "traceback": [
      "\u001b[1;31m---------------------------------------------------------------------------\u001b[0m",
      "\u001b[1;31mTypeError\u001b[0m                                 Traceback (most recent call last)",
      "Cell \u001b[1;32mIn[4], line 1\u001b[0m\n\u001b[1;32m----> 1\u001b[0m l\u001b[38;5;241m.\u001b[39mappend()\n",
      "\u001b[1;31mTypeError\u001b[0m: list.append() takes exactly one argument (0 given)"
     ]
    }
   ],
   "source": [
    "l.append()"
   ]
  },
  {
   "cell_type": "code",
   "execution_count": 5,
   "id": "fe72bee7-f2e8-4222-a8d0-15d578568b50",
   "metadata": {},
   "outputs": [],
   "source": [
    "l.append(10)"
   ]
  },
  {
   "cell_type": "code",
   "execution_count": 6,
   "id": "7b4530a0-b167-4d36-8f51-8ee516c2e76a",
   "metadata": {},
   "outputs": [
    {
     "data": {
      "text/plain": [
       "[10]"
      ]
     },
     "execution_count": 6,
     "metadata": {},
     "output_type": "execute_result"
    }
   ],
   "source": [
    "l"
   ]
  },
  {
   "cell_type": "code",
   "execution_count": 7,
   "id": "73341d8e-c655-4f4d-93f7-c7ff8f8a1a1e",
   "metadata": {},
   "outputs": [],
   "source": [
    "l.append(20)\n",
    "l.append(30)\n",
    "l.append(40)"
   ]
  },
  {
   "cell_type": "code",
   "execution_count": 8,
   "id": "85ed9db9-5db2-4805-96da-ac3021e09600",
   "metadata": {},
   "outputs": [
    {
     "data": {
      "text/plain": [
       "[10, 20, 30, 40]"
      ]
     },
     "execution_count": 8,
     "metadata": {},
     "output_type": "execute_result"
    }
   ],
   "source": [
    "l"
   ]
  },
  {
   "cell_type": "code",
   "execution_count": 9,
   "id": "683df6b4-490e-4cf2-9e4f-c5b4feef9d69",
   "metadata": {},
   "outputs": [
    {
     "data": {
      "text/plain": [
       "[10, 20, 30, 40]"
      ]
     },
     "execution_count": 9,
     "metadata": {},
     "output_type": "execute_result"
    }
   ],
   "source": [
    "l"
   ]
  },
  {
   "cell_type": "code",
   "execution_count": 10,
   "id": "7c1b991a-9da7-4846-a8f4-442d3491bb0c",
   "metadata": {},
   "outputs": [
    {
     "data": {
      "text/plain": [
       "4"
      ]
     },
     "execution_count": 10,
     "metadata": {},
     "output_type": "execute_result"
    }
   ],
   "source": [
    "len(l)"
   ]
  },
  {
   "cell_type": "code",
   "execution_count": 11,
   "id": "3a7a3900-1784-4edb-b5a9-0ddfa68480f7",
   "metadata": {},
   "outputs": [],
   "source": [
    "l.append(50)"
   ]
  },
  {
   "cell_type": "code",
   "execution_count": 12,
   "id": "cef50a99-dcb7-4dc3-bf92-41d633254af7",
   "metadata": {},
   "outputs": [
    {
     "data": {
      "text/plain": [
       "[10, 20, 30, 40, 50]"
      ]
     },
     "execution_count": 12,
     "metadata": {},
     "output_type": "execute_result"
    }
   ],
   "source": [
    "l"
   ]
  },
  {
   "cell_type": "code",
   "execution_count": 13,
   "id": "a6155100-89a0-4ef7-91d1-a1bfbc779edd",
   "metadata": {},
   "outputs": [
    {
     "data": {
      "text/plain": [
       "5"
      ]
     },
     "execution_count": 13,
     "metadata": {},
     "output_type": "execute_result"
    }
   ],
   "source": [
    "len(l)"
   ]
  },
  {
   "cell_type": "code",
   "execution_count": 14,
   "id": "c2b1ac3e-0fb1-420d-9275-7842a19e412c",
   "metadata": {},
   "outputs": [],
   "source": [
    "l1 = [10, 2.3, True, (2+4j)]"
   ]
  },
  {
   "cell_type": "code",
   "execution_count": 15,
   "id": "0e1efe17-1603-481b-8592-1202f6bb385c",
   "metadata": {},
   "outputs": [
    {
     "data": {
      "text/plain": [
       "[10, 2.3, True, (2+4j)]"
      ]
     },
     "execution_count": 15,
     "metadata": {},
     "output_type": "execute_result"
    }
   ],
   "source": [
    "l1"
   ]
  },
  {
   "cell_type": "code",
   "execution_count": 16,
   "id": "d9b60cbd-32c7-479c-9a84-5a3368741d99",
   "metadata": {},
   "outputs": [
    {
     "name": "stdout",
     "output_type": "stream",
     "text": [
      "[10, 20, 30, 40, 50]\n",
      "[10, 2.3, True, (2+4j)]\n"
     ]
    }
   ],
   "source": [
    "print(l)\n",
    "print(l1)"
   ]
  },
  {
   "cell_type": "code",
   "execution_count": 17,
   "id": "a70ba9a8-d0d1-41b6-921e-498fcfc806d7",
   "metadata": {},
   "outputs": [
    {
     "name": "stdout",
     "output_type": "stream",
     "text": [
      "5\n",
      "4\n"
     ]
    }
   ],
   "source": [
    "print(len(l))\n",
    "print(len(l1))"
   ]
  },
  {
   "cell_type": "code",
   "execution_count": 18,
   "id": "a72bec23-25a1-4e38-80fb-0b5fd1582b40",
   "metadata": {},
   "outputs": [
    {
     "name": "stdout",
     "output_type": "stream",
     "text": [
      "3068980081920\n",
      "3069032723456\n"
     ]
    }
   ],
   "source": [
    "print(id(l))\n",
    "print(id(l1))"
   ]
  },
  {
   "cell_type": "code",
   "execution_count": 19,
   "id": "d1e85a88-18f8-49a2-95e6-d50bd819a98b",
   "metadata": {},
   "outputs": [
    {
     "ename": "NameError",
     "evalue": "name 'l2' is not defined",
     "output_type": "error",
     "traceback": [
      "\u001b[1;31m---------------------------------------------------------------------------\u001b[0m",
      "\u001b[1;31mNameError\u001b[0m                                 Traceback (most recent call last)",
      "Cell \u001b[1;32mIn[19], line 1\u001b[0m\n\u001b[1;32m----> 1\u001b[0m l2\n",
      "\u001b[1;31mNameError\u001b[0m: name 'l2' is not defined"
     ]
    }
   ],
   "source": [
    "l2"
   ]
  },
  {
   "cell_type": "code",
   "execution_count": 20,
   "id": "c089ebfa-9c28-4674-b628-1bbc1fcd9ec7",
   "metadata": {},
   "outputs": [],
   "source": [
    "l2 = l1.copy()"
   ]
  },
  {
   "cell_type": "code",
   "execution_count": 21,
   "id": "aef4b9fd-5bd6-45c9-9fe1-168e40a567a5",
   "metadata": {},
   "outputs": [
    {
     "data": {
      "text/plain": [
       "[10, 2.3, True, (2+4j)]"
      ]
     },
     "execution_count": 21,
     "metadata": {},
     "output_type": "execute_result"
    }
   ],
   "source": [
    "l2"
   ]
  },
  {
   "cell_type": "code",
   "execution_count": 22,
   "id": "6df621a1-685f-490b-ad18-a83c97af715d",
   "metadata": {},
   "outputs": [
    {
     "name": "stdout",
     "output_type": "stream",
     "text": [
      "[10, 20, 30, 40, 50]\n",
      "[10, 2.3, True, (2+4j)]\n",
      "[10, 2.3, True, (2+4j)]\n"
     ]
    }
   ],
   "source": [
    "print(l)\n",
    "print(l1)\n",
    "print(l2)"
   ]
  },
  {
   "cell_type": "code",
   "execution_count": 23,
   "id": "4b7d780e-5255-418f-b4d3-1f8a6e59b549",
   "metadata": {},
   "outputs": [
    {
     "data": {
      "text/plain": [
       "True"
      ]
     },
     "execution_count": 23,
     "metadata": {},
     "output_type": "execute_result"
    }
   ],
   "source": [
    "l1 == l2"
   ]
  },
  {
   "cell_type": "code",
   "execution_count": 24,
   "id": "8d86b2d6-32b9-4967-afb8-3e006bbcd92b",
   "metadata": {},
   "outputs": [
    {
     "data": {
      "text/plain": [
       "False"
      ]
     },
     "execution_count": 24,
     "metadata": {},
     "output_type": "execute_result"
    }
   ],
   "source": [
    "l == l2"
   ]
  },
  {
   "cell_type": "code",
   "execution_count": 25,
   "id": "85dcfbd7-5d7e-4a4c-89db-143d4378cf37",
   "metadata": {},
   "outputs": [
    {
     "data": {
      "text/plain": [
       "False"
      ]
     },
     "execution_count": 25,
     "metadata": {},
     "output_type": "execute_result"
    }
   ],
   "source": [
    "l == l1"
   ]
  },
  {
   "cell_type": "code",
   "execution_count": 26,
   "id": "117a12d6-4472-4c5c-ad50-134168c6b0fb",
   "metadata": {},
   "outputs": [
    {
     "data": {
      "text/plain": [
       "True"
      ]
     },
     "execution_count": 26,
     "metadata": {},
     "output_type": "execute_result"
    }
   ],
   "source": [
    "l2 == l1"
   ]
  },
  {
   "cell_type": "code",
   "execution_count": 27,
   "id": "f631d873-6d0d-4baa-bd78-3376925edc26",
   "metadata": {},
   "outputs": [
    {
     "data": {
      "text/plain": [
       "True"
      ]
     },
     "execution_count": 27,
     "metadata": {},
     "output_type": "execute_result"
    }
   ],
   "source": [
    "l != l2"
   ]
  },
  {
   "cell_type": "code",
   "execution_count": 28,
   "id": "68c72d8c-cf9e-41d4-b0bd-e164619b01c8",
   "metadata": {},
   "outputs": [
    {
     "data": {
      "text/plain": [
       "False"
      ]
     },
     "execution_count": 28,
     "metadata": {},
     "output_type": "execute_result"
    }
   ],
   "source": [
    "l1 != l2"
   ]
  },
  {
   "cell_type": "code",
   "execution_count": 29,
   "id": "920ff224-c264-4598-94a5-af7041eb051d",
   "metadata": {},
   "outputs": [
    {
     "data": {
      "text/plain": [
       "[10, 20, 30, 40, 50]"
      ]
     },
     "execution_count": 29,
     "metadata": {},
     "output_type": "execute_result"
    }
   ],
   "source": [
    "l"
   ]
  },
  {
   "cell_type": "code",
   "execution_count": 30,
   "id": "68259c7c-9fbe-4d3a-9899-93893c193c69",
   "metadata": {},
   "outputs": [
    {
     "data": {
      "text/plain": [
       "[10, 20, 30, 40, 50]"
      ]
     },
     "execution_count": 30,
     "metadata": {},
     "output_type": "execute_result"
    }
   ],
   "source": [
    "l[:]"
   ]
  },
  {
   "cell_type": "code",
   "execution_count": 31,
   "id": "0e787d14-5992-4fa7-9585-f50dfdca9441",
   "metadata": {},
   "outputs": [
    {
     "data": {
      "text/plain": [
       "10"
      ]
     },
     "execution_count": 31,
     "metadata": {},
     "output_type": "execute_result"
    }
   ],
   "source": [
    "l[0]"
   ]
  },
  {
   "cell_type": "code",
   "execution_count": 32,
   "id": "39b2e71b-2d2d-4866-9c9a-c1ab20733c28",
   "metadata": {},
   "outputs": [
    {
     "data": {
      "text/plain": [
       "50"
      ]
     },
     "execution_count": 32,
     "metadata": {},
     "output_type": "execute_result"
    }
   ],
   "source": [
    "l[-1]"
   ]
  },
  {
   "cell_type": "code",
   "execution_count": 33,
   "id": "cdd9e986-6f49-4104-9cae-2bd6d4094ca8",
   "metadata": {},
   "outputs": [
    {
     "data": {
      "text/plain": [
       "[10, 20, 30, 40, 50]"
      ]
     },
     "execution_count": 33,
     "metadata": {},
     "output_type": "execute_result"
    }
   ],
   "source": [
    "l"
   ]
  },
  {
   "cell_type": "code",
   "execution_count": 34,
   "id": "3cb11580-1119-4104-9329-d055bbc9cafe",
   "metadata": {},
   "outputs": [
    {
     "data": {
      "text/plain": [
       "50"
      ]
     },
     "execution_count": 34,
     "metadata": {},
     "output_type": "execute_result"
    }
   ],
   "source": [
    "l[4]"
   ]
  },
  {
   "cell_type": "code",
   "execution_count": 35,
   "id": "5572ea2e-f215-42d2-b56f-160771d3771e",
   "metadata": {},
   "outputs": [
    {
     "ename": "IndexError",
     "evalue": "list index out of range",
     "output_type": "error",
     "traceback": [
      "\u001b[1;31m---------------------------------------------------------------------------\u001b[0m",
      "\u001b[1;31mIndexError\u001b[0m                                Traceback (most recent call last)",
      "Cell \u001b[1;32mIn[35], line 1\u001b[0m\n\u001b[1;32m----> 1\u001b[0m l[\u001b[38;5;241m5\u001b[39m]\n",
      "\u001b[1;31mIndexError\u001b[0m: list index out of range"
     ]
    }
   ],
   "source": [
    "l[5]"
   ]
  },
  {
   "cell_type": "code",
   "execution_count": 36,
   "id": "fbc3f58f-ad80-43b7-ae45-f38486158c58",
   "metadata": {},
   "outputs": [
    {
     "data": {
      "text/plain": [
       "40"
      ]
     },
     "execution_count": 36,
     "metadata": {},
     "output_type": "execute_result"
    }
   ],
   "source": [
    "l[3]"
   ]
  },
  {
   "cell_type": "code",
   "execution_count": 37,
   "id": "67b0d416-bf7e-4deb-8b51-70c68d81e5d8",
   "metadata": {},
   "outputs": [
    {
     "data": {
      "text/plain": [
       "30"
      ]
     },
     "execution_count": 37,
     "metadata": {},
     "output_type": "execute_result"
    }
   ],
   "source": [
    "l[2]"
   ]
  },
  {
   "cell_type": "code",
   "execution_count": 38,
   "id": "3f233e7d-5514-4c7f-b732-e5fb9a73125b",
   "metadata": {},
   "outputs": [
    {
     "data": {
      "text/plain": [
       "40"
      ]
     },
     "execution_count": 38,
     "metadata": {},
     "output_type": "execute_result"
    }
   ],
   "source": [
    "l[3]"
   ]
  },
  {
   "cell_type": "code",
   "execution_count": 39,
   "id": "ac089329-6df5-48f1-b34e-a4386fe5ea3b",
   "metadata": {},
   "outputs": [
    {
     "data": {
      "text/plain": [
       "[10, 2.3, True, (2+4j)]"
      ]
     },
     "execution_count": 39,
     "metadata": {},
     "output_type": "execute_result"
    }
   ],
   "source": [
    "l1"
   ]
  },
  {
   "cell_type": "code",
   "execution_count": 40,
   "id": "a8a64a5d-262f-4777-ad93-7238d290c49f",
   "metadata": {},
   "outputs": [
    {
     "ename": "IndexError",
     "evalue": "list index out of range",
     "output_type": "error",
     "traceback": [
      "\u001b[1;31m---------------------------------------------------------------------------\u001b[0m",
      "\u001b[1;31mIndexError\u001b[0m                                Traceback (most recent call last)",
      "Cell \u001b[1;32mIn[40], line 1\u001b[0m\n\u001b[1;32m----> 1\u001b[0m l1[\u001b[38;5;241m4\u001b[39m]\n",
      "\u001b[1;31mIndexError\u001b[0m: list index out of range"
     ]
    }
   ],
   "source": [
    "l1[4]"
   ]
  },
  {
   "cell_type": "code",
   "execution_count": 41,
   "id": "0b105135-a1fc-4312-bf80-39b760b559a9",
   "metadata": {},
   "outputs": [
    {
     "data": {
      "text/plain": [
       "30"
      ]
     },
     "execution_count": 41,
     "metadata": {},
     "output_type": "execute_result"
    }
   ],
   "source": [
    "l[2]"
   ]
  },
  {
   "cell_type": "code",
   "execution_count": 42,
   "id": "9e0da86e-692e-4338-a9b0-521ebe78dd06",
   "metadata": {},
   "outputs": [
    {
     "data": {
      "text/plain": [
       "(2+4j)"
      ]
     },
     "execution_count": 42,
     "metadata": {},
     "output_type": "execute_result"
    }
   ],
   "source": [
    "\n",
    "\n",
    "l2[3]"
   ]
  },
  {
   "cell_type": "code",
   "execution_count": 43,
   "id": "498832af-a14a-4c7a-b8a3-a614dbc16ada",
   "metadata": {},
   "outputs": [
    {
     "ename": "IndexError",
     "evalue": "list index out of range",
     "output_type": "error",
     "traceback": [
      "\u001b[1;31m---------------------------------------------------------------------------\u001b[0m",
      "\u001b[1;31mIndexError\u001b[0m                                Traceback (most recent call last)",
      "Cell \u001b[1;32mIn[43], line 1\u001b[0m\n\u001b[1;32m----> 1\u001b[0m l[\u001b[38;5;241m10\u001b[39m]\n",
      "\u001b[1;31mIndexError\u001b[0m: list index out of range"
     ]
    }
   ],
   "source": [
    "l[10]"
   ]
  },
  {
   "cell_type": "code",
   "execution_count": 44,
   "id": "2d5b2cb4-1c2b-4ef4-9b05-c182eec75170",
   "metadata": {},
   "outputs": [
    {
     "data": {
      "text/plain": [
       "[10, 20, 30, 40, 50]"
      ]
     },
     "execution_count": 44,
     "metadata": {},
     "output_type": "execute_result"
    }
   ],
   "source": [
    "l"
   ]
  },
  {
   "cell_type": "code",
   "execution_count": 45,
   "id": "0f904a29-f68b-453e-baea-6f40bc6c5053",
   "metadata": {},
   "outputs": [
    {
     "data": {
      "text/plain": [
       "[10, 20, 30, 40, 50, 10, 2.3, True, (2+4j)]"
      ]
     },
     "execution_count": 45,
     "metadata": {},
     "output_type": "execute_result"
    }
   ],
   "source": [
    "l  + l2"
   ]
  },
  {
   "cell_type": "code",
   "execution_count": 46,
   "id": "5b2d8699-be88-4b24-9bae-441697ebdacd",
   "metadata": {},
   "outputs": [],
   "source": [
    "l3 = l1 + l2"
   ]
  },
  {
   "cell_type": "code",
   "execution_count": 47,
   "id": "8b5f8255-4ade-4d65-a93c-9578dc79e50b",
   "metadata": {},
   "outputs": [
    {
     "data": {
      "text/plain": [
       "[10, 2.3, True, (2+4j), 10, 2.3, True, (2+4j)]"
      ]
     },
     "execution_count": 47,
     "metadata": {},
     "output_type": "execute_result"
    }
   ],
   "source": [
    "l3"
   ]
  },
  {
   "cell_type": "code",
   "execution_count": 48,
   "id": "6821a550-bf7a-417c-84a1-e9937d78346b",
   "metadata": {},
   "outputs": [
    {
     "data": {
      "text/plain": [
       "True"
      ]
     },
     "execution_count": 48,
     "metadata": {},
     "output_type": "execute_result"
    }
   ],
   "source": [
    "l3[6]"
   ]
  },
  {
   "cell_type": "code",
   "execution_count": 49,
   "id": "e9583e96-192d-4170-b4c3-a2830df3e4b5",
   "metadata": {},
   "outputs": [
    {
     "data": {
      "text/plain": [
       "(2+4j)"
      ]
     },
     "execution_count": 49,
     "metadata": {},
     "output_type": "execute_result"
    }
   ],
   "source": [
    "l3[7]"
   ]
  },
  {
   "cell_type": "code",
   "execution_count": 50,
   "id": "1e6152ec-450c-443f-9c89-10a74dc854bc",
   "metadata": {},
   "outputs": [
    {
     "data": {
      "text/plain": [
       "[10, 2.3, True, (2+4j), 10, 2.3, True, (2+4j)]"
      ]
     },
     "execution_count": 50,
     "metadata": {},
     "output_type": "execute_result"
    }
   ],
   "source": [
    "l3"
   ]
  },
  {
   "cell_type": "code",
   "execution_count": 51,
   "id": "9120befb-d0bb-493e-a731-45eb682fe1df",
   "metadata": {},
   "outputs": [],
   "source": [
    "l3[-1] = 'jan'"
   ]
  },
  {
   "cell_type": "code",
   "execution_count": 52,
   "id": "9d4d4623-d8fa-4d47-9343-b13ab5ad624e",
   "metadata": {},
   "outputs": [
    {
     "data": {
      "text/plain": [
       "[10, 2.3, True, (2+4j), 10, 2.3, True, 'jan']"
      ]
     },
     "execution_count": 52,
     "metadata": {},
     "output_type": "execute_result"
    }
   ],
   "source": [
    "l3"
   ]
  },
  {
   "cell_type": "code",
   "execution_count": 53,
   "id": "2c068053-f4c0-4a8c-99be-874bed594926",
   "metadata": {},
   "outputs": [],
   "source": [
    "l3[4] = 'Abid'"
   ]
  },
  {
   "cell_type": "code",
   "execution_count": 54,
   "id": "5882dd8c-d495-4a30-a72e-b4a144ceab0d",
   "metadata": {},
   "outputs": [
    {
     "data": {
      "text/plain": [
       "[10, 2.3, True, (2+4j), 'Abid', 2.3, True, 'jan']"
      ]
     },
     "execution_count": 54,
     "metadata": {},
     "output_type": "execute_result"
    }
   ],
   "source": [
    "l3"
   ]
  },
  {
   "cell_type": "code",
   "execution_count": 55,
   "id": "920a050a-9d6d-414e-ab4b-46b4bbad8ed2",
   "metadata": {},
   "outputs": [],
   "source": [
    "l3[2] = 'Ansari'"
   ]
  },
  {
   "cell_type": "code",
   "execution_count": 56,
   "id": "173039e3-85ec-41b2-b66c-be67f08df453",
   "metadata": {},
   "outputs": [
    {
     "data": {
      "text/plain": [
       "[10, 2.3, 'Ansari', (2+4j), 'Abid', 2.3, True, 'jan']"
      ]
     },
     "execution_count": 56,
     "metadata": {},
     "output_type": "execute_result"
    }
   ],
   "source": [
    "l3"
   ]
  },
  {
   "cell_type": "code",
   "execution_count": 57,
   "id": "60d3b3f1-92cf-48fd-a82d-afb562c9f8ee",
   "metadata": {},
   "outputs": [
    {
     "data": {
      "text/plain": [
       "[10, 20, 30, 40, 50]"
      ]
     },
     "execution_count": 57,
     "metadata": {},
     "output_type": "execute_result"
    }
   ],
   "source": [
    "l"
   ]
  },
  {
   "cell_type": "code",
   "execution_count": 58,
   "id": "c62e3f80-dbd3-4726-860a-3f065f9e1ab1",
   "metadata": {},
   "outputs": [
    {
     "data": {
      "text/plain": [
       "[10, 2.3, True, (2+4j)]"
      ]
     },
     "execution_count": 58,
     "metadata": {},
     "output_type": "execute_result"
    }
   ],
   "source": [
    "l1"
   ]
  },
  {
   "cell_type": "code",
   "execution_count": 59,
   "id": "9ba2af34-e0ed-4550-9770-dde5e1382ff5",
   "metadata": {},
   "outputs": [
    {
     "data": {
      "text/plain": [
       "[10, 2.3, True, (2+4j)]"
      ]
     },
     "execution_count": 59,
     "metadata": {},
     "output_type": "execute_result"
    }
   ],
   "source": [
    "l2"
   ]
  },
  {
   "cell_type": "code",
   "execution_count": 60,
   "id": "4d49d5ab-a75b-466d-8ee3-6a247c385993",
   "metadata": {},
   "outputs": [
    {
     "data": {
      "text/plain": [
       "[10, 2.3, 'Ansari', (2+4j), 'Abid', 2.3, True, 'jan']"
      ]
     },
     "execution_count": 60,
     "metadata": {},
     "output_type": "execute_result"
    }
   ],
   "source": [
    "l3"
   ]
  },
  {
   "cell_type": "code",
   "execution_count": 61,
   "id": "45bf70bb-8a3b-4f03-8503-ca75ca952edf",
   "metadata": {},
   "outputs": [],
   "source": [
    "l.append('jan')"
   ]
  },
  {
   "cell_type": "code",
   "execution_count": 62,
   "id": "582030e5-3a43-4432-800a-a5cb84e0474b",
   "metadata": {},
   "outputs": [
    {
     "data": {
      "text/plain": [
       "[10, 20, 30, 40, 50, 'jan']"
      ]
     },
     "execution_count": 62,
     "metadata": {},
     "output_type": "execute_result"
    }
   ],
   "source": [
    "l"
   ]
  },
  {
   "cell_type": "code",
   "execution_count": 63,
   "id": "5a3042a4-4674-463e-a8ee-63fc68f6894a",
   "metadata": {},
   "outputs": [],
   "source": [
    "l.append('feb')"
   ]
  },
  {
   "cell_type": "code",
   "execution_count": 64,
   "id": "7fb3afda-445b-4901-b294-1e148b07a410",
   "metadata": {},
   "outputs": [
    {
     "data": {
      "text/plain": [
       "[10, 20, 30, 40, 50, 'jan', 'feb']"
      ]
     },
     "execution_count": 64,
     "metadata": {},
     "output_type": "execute_result"
    }
   ],
   "source": [
    "l"
   ]
  },
  {
   "cell_type": "code",
   "execution_count": 65,
   "id": "e7371621-745c-4cf4-991d-54ee4a54576b",
   "metadata": {},
   "outputs": [],
   "source": [
    "l.append(40)"
   ]
  },
  {
   "cell_type": "code",
   "execution_count": 66,
   "id": "1c78f7de-6b77-454b-bd1b-aeb73c9539a8",
   "metadata": {},
   "outputs": [
    {
     "data": {
      "text/plain": [
       "[10, 20, 30, 40, 50, 'jan', 'feb', 40]"
      ]
     },
     "execution_count": 66,
     "metadata": {},
     "output_type": "execute_result"
    }
   ],
   "source": [
    "l"
   ]
  },
  {
   "cell_type": "code",
   "execution_count": 67,
   "id": "d3d10b08-bc9f-4752-bda0-096cf604dfd9",
   "metadata": {},
   "outputs": [
    {
     "data": {
      "text/plain": [
       "[10, 2.3, True, (2+4j)]"
      ]
     },
     "execution_count": 67,
     "metadata": {},
     "output_type": "execute_result"
    }
   ],
   "source": [
    "l2"
   ]
  },
  {
   "cell_type": "code",
   "execution_count": 68,
   "id": "feff56cc-1df7-409b-a27d-6ec2927fcb91",
   "metadata": {},
   "outputs": [
    {
     "data": {
      "text/plain": [
       "[10, 2.3, 'Ansari', (2+4j), 'Abid', 2.3, True, 'jan']"
      ]
     },
     "execution_count": 68,
     "metadata": {},
     "output_type": "execute_result"
    }
   ],
   "source": [
    "l3"
   ]
  },
  {
   "cell_type": "code",
   "execution_count": 69,
   "id": "a57025f5-2ed7-4c0e-a1a9-550b0326c863",
   "metadata": {},
   "outputs": [
    {
     "data": {
      "text/plain": [
       "8"
      ]
     },
     "execution_count": 69,
     "metadata": {},
     "output_type": "execute_result"
    }
   ],
   "source": [
    "len(l3)"
   ]
  },
  {
   "cell_type": "code",
   "execution_count": 70,
   "id": "d001eda0-989e-4cc6-8882-e5f32c441153",
   "metadata": {},
   "outputs": [
    {
     "name": "stdout",
     "output_type": "stream",
     "text": [
      "8\n",
      "4\n",
      "4\n",
      "8\n"
     ]
    }
   ],
   "source": [
    "print(len(l))\n",
    "print(len(l1))\n",
    "print(len(l2))\n",
    "print(len(l3))"
   ]
  },
  {
   "cell_type": "code",
   "execution_count": 71,
   "id": "73a54ae8-dfad-42e2-915e-e4349855c107",
   "metadata": {},
   "outputs": [],
   "source": [
    "l2.clear()"
   ]
  },
  {
   "cell_type": "code",
   "execution_count": 72,
   "id": "86104135-da8f-480a-8cc6-7e47a1d2794f",
   "metadata": {},
   "outputs": [
    {
     "data": {
      "text/plain": [
       "[]"
      ]
     },
     "execution_count": 72,
     "metadata": {},
     "output_type": "execute_result"
    }
   ],
   "source": [
    "l2"
   ]
  },
  {
   "cell_type": "code",
   "execution_count": 73,
   "id": "32f95337-b540-4e68-8aaf-d06e8bdcb1a9",
   "metadata": {},
   "outputs": [
    {
     "data": {
      "text/plain": [
       "0"
      ]
     },
     "execution_count": 73,
     "metadata": {},
     "output_type": "execute_result"
    }
   ],
   "source": [
    "len(l2)"
   ]
  },
  {
   "cell_type": "code",
   "execution_count": 74,
   "id": "36da3376-c70b-4a1e-a89f-6d74e98bf593",
   "metadata": {},
   "outputs": [
    {
     "data": {
      "text/plain": [
       "[10, 20, 30, 40, 50, 'jan', 'feb', 40]"
      ]
     },
     "execution_count": 74,
     "metadata": {},
     "output_type": "execute_result"
    }
   ],
   "source": [
    "l"
   ]
  },
  {
   "cell_type": "code",
   "execution_count": 75,
   "id": "d1fcc7e9-5340-4ded-a05d-b47317df6f8f",
   "metadata": {},
   "outputs": [],
   "source": [
    "del l2"
   ]
  },
  {
   "cell_type": "code",
   "execution_count": 76,
   "id": "d9ae44e3-9845-48cd-890e-0dce38b20951",
   "metadata": {},
   "outputs": [],
   "source": [
    "l[0] = 100"
   ]
  },
  {
   "cell_type": "code",
   "execution_count": 77,
   "id": "644efa14-d548-49c6-98f3-9fbe1e7ed3d1",
   "metadata": {},
   "outputs": [
    {
     "data": {
      "text/plain": [
       "[100, 20, 30, 40, 50, 'jan', 'feb', 40]"
      ]
     },
     "execution_count": 77,
     "metadata": {},
     "output_type": "execute_result"
    }
   ],
   "source": [
    "l"
   ]
  },
  {
   "cell_type": "code",
   "execution_count": 78,
   "id": "f27b8274-04b0-4ecf-b844-2901b218f7bc",
   "metadata": {},
   "outputs": [],
   "source": [
    "l[2] = 60"
   ]
  },
  {
   "cell_type": "code",
   "execution_count": 79,
   "id": "66d19074-61f9-4a6b-b8a0-df29b251d2b4",
   "metadata": {},
   "outputs": [
    {
     "data": {
      "text/plain": [
       "[100, 20, 60, 40, 50, 'jan', 'feb', 40]"
      ]
     },
     "execution_count": 79,
     "metadata": {},
     "output_type": "execute_result"
    }
   ],
   "source": [
    "l"
   ]
  },
  {
   "cell_type": "code",
   "execution_count": 80,
   "id": "2f7e393e-6417-47b9-977c-6b39868b9821",
   "metadata": {},
   "outputs": [
    {
     "data": {
      "text/plain": [
       "2"
      ]
     },
     "execution_count": 80,
     "metadata": {},
     "output_type": "execute_result"
    }
   ],
   "source": [
    "l.count(40)"
   ]
  },
  {
   "cell_type": "code",
   "execution_count": 81,
   "id": "2b840419-81f7-4460-b597-414ae3b86d65",
   "metadata": {},
   "outputs": [
    {
     "data": {
      "text/plain": [
       "1"
      ]
     },
     "execution_count": 81,
     "metadata": {},
     "output_type": "execute_result"
    }
   ],
   "source": [
    "l.count(50)"
   ]
  },
  {
   "cell_type": "code",
   "execution_count": 82,
   "id": "13a8b4e0-f000-4437-b0eb-cf2dcef4b4c4",
   "metadata": {},
   "outputs": [
    {
     "data": {
      "text/plain": [
       "0"
      ]
     },
     "execution_count": 82,
     "metadata": {},
     "output_type": "execute_result"
    }
   ],
   "source": [
    "l.count(1000)"
   ]
  },
  {
   "cell_type": "code",
   "execution_count": 83,
   "id": "aa7f2be0-2b8b-46c7-ace4-fa3d5da9f620",
   "metadata": {},
   "outputs": [
    {
     "name": "stdout",
     "output_type": "stream",
     "text": [
      "[100, 20, 60, 40, 50, 'jan', 'feb', 40]\n",
      "[10, 2.3, True, (2+4j)]\n"
     ]
    }
   ],
   "source": [
    "print(l)\n",
    "print(l1)"
   ]
  },
  {
   "cell_type": "code",
   "execution_count": 84,
   "id": "203846cc-52a4-40da-8e33-40a6a532962a",
   "metadata": {},
   "outputs": [
    {
     "name": "stdout",
     "output_type": "stream",
     "text": [
      "[100, 20, 60, 40, 50, 'jan', 'feb', 40]\n",
      "[10, 2.3, True, (2+4j)]\n"
     ]
    },
    {
     "ename": "NameError",
     "evalue": "name 'l2' is not defined",
     "output_type": "error",
     "traceback": [
      "\u001b[1;31m---------------------------------------------------------------------------\u001b[0m",
      "\u001b[1;31mNameError\u001b[0m                                 Traceback (most recent call last)",
      "Cell \u001b[1;32mIn[84], line 3\u001b[0m\n\u001b[0;32m      1\u001b[0m \u001b[38;5;28mprint\u001b[39m(l)\n\u001b[0;32m      2\u001b[0m \u001b[38;5;28mprint\u001b[39m(l1)\n\u001b[1;32m----> 3\u001b[0m \u001b[38;5;28mprint\u001b[39m(l2)\n",
      "\u001b[1;31mNameError\u001b[0m: name 'l2' is not defined"
     ]
    }
   ],
   "source": [
    "print(l)\n",
    "print(l1)\n",
    "print(l2)"
   ]
  },
  {
   "cell_type": "code",
   "execution_count": 85,
   "id": "619f5d1a-1497-4643-a55d-fb8230ca9cfd",
   "metadata": {},
   "outputs": [
    {
     "name": "stdout",
     "output_type": "stream",
     "text": [
      "[100, 20, 60, 40, 50, 'jan', 'feb', 40]\n",
      "[10, 2.3, True, (2+4j)]\n",
      "[10, 2.3, 'Ansari', (2+4j), 'Abid', 2.3, True, 'jan']\n"
     ]
    }
   ],
   "source": [
    "print(l)\n",
    "print(l1)\n",
    "print(l3)"
   ]
  },
  {
   "cell_type": "code",
   "execution_count": 86,
   "id": "d9892b49-012a-43d6-9b07-2a42efdca0e8",
   "metadata": {},
   "outputs": [
    {
     "name": "stdout",
     "output_type": "stream",
     "text": [
      "8\n",
      "4\n"
     ]
    }
   ],
   "source": [
    "print(len(l))\n",
    "print(len(l1))"
   ]
  },
  {
   "cell_type": "code",
   "execution_count": 87,
   "id": "b694d94d-addc-44af-a52c-96d50065b0e1",
   "metadata": {},
   "outputs": [
    {
     "name": "stdout",
     "output_type": "stream",
     "text": [
      "8\n",
      "4\n",
      "8\n"
     ]
    }
   ],
   "source": [
    "print(len(l))\n",
    "print(len(l1))\n",
    "print(len(l3))"
   ]
  },
  {
   "cell_type": "markdown",
   "id": "80a4ce94-0f2b-4f7c-8592-8b54b30a58fc",
   "metadata": {},
   "source": [
    "# List MemberShip"
   ]
  },
  {
   "cell_type": "code",
   "execution_count": 88,
   "id": "9d2688b4-4da7-406a-8373-a2f4e53c9963",
   "metadata": {},
   "outputs": [
    {
     "data": {
      "text/plain": [
       "[100, 20, 60, 40, 50, 'jan', 'feb', 40]"
      ]
     },
     "execution_count": 88,
     "metadata": {},
     "output_type": "execute_result"
    }
   ],
   "source": [
    "l"
   ]
  },
  {
   "cell_type": "code",
   "execution_count": 89,
   "id": "81dc1fce-33ea-4e96-98fe-2f07b666f8ef",
   "metadata": {},
   "outputs": [
    {
     "data": {
      "text/plain": [
       "True"
      ]
     },
     "execution_count": 89,
     "metadata": {},
     "output_type": "execute_result"
    }
   ],
   "source": [
    "100 in l"
   ]
  },
  {
   "cell_type": "code",
   "execution_count": 90,
   "id": "a7591ada-a77b-4b2f-b426-f4d8d530af51",
   "metadata": {},
   "outputs": [
    {
     "data": {
      "text/plain": [
       "False"
      ]
     },
     "execution_count": 90,
     "metadata": {},
     "output_type": "execute_result"
    }
   ],
   "source": [
    "1000 in l"
   ]
  },
  {
   "cell_type": "code",
   "execution_count": 91,
   "id": "9a84d65a-e658-4f68-a535-e9139ec18217",
   "metadata": {
    "jp-MarkdownHeadingCollapsed": true
   },
   "outputs": [
    {
     "data": {
      "text/plain": [
       "True"
      ]
     },
     "execution_count": 91,
     "metadata": {},
     "output_type": "execute_result"
    }
   ],
   "source": [
    "40 in l"
   ]
  },
  {
   "cell_type": "code",
   "execution_count": null,
   "id": "8eb7a2bf-41f3-45f1-a129-abda46f26dfb",
   "metadata": {},
   "outputs": [],
   "source": []
  },
  {
   "cell_type": "code",
   "execution_count": 92,
   "id": "2e0654b3-a342-4fbf-b8a1-d5880db2173e",
   "metadata": {},
   "outputs": [
    {
     "data": {
      "text/plain": [
       "False"
      ]
     },
     "execution_count": 92,
     "metadata": {},
     "output_type": "execute_result"
    }
   ],
   "source": [
    "30 in l"
   ]
  },
  {
   "cell_type": "code",
   "execution_count": null,
   "id": "7c32d50d-c1f8-4206-a8b3-59f38a1a24a7",
   "metadata": {},
   "outputs": [],
   "source": []
  },
  {
   "cell_type": "code",
   "execution_count": 93,
   "id": "072b35c6-6909-4876-9334-7d98fbb19343",
   "metadata": {},
   "outputs": [
    {
     "data": {
      "text/plain": [
       "[10, 2.3, True, (2+4j)]"
      ]
     },
     "execution_count": 93,
     "metadata": {},
     "output_type": "execute_result"
    }
   ],
   "source": [
    "l1"
   ]
  },
  {
   "cell_type": "code",
   "execution_count": 94,
   "id": "45c8a2ac-a429-4ba9-8352-433c4360abf2",
   "metadata": {},
   "outputs": [
    {
     "data": {
      "text/plain": [
       "[10, 2.3, 'Ansari', (2+4j), 'Abid', 2.3, True, 'jan']"
      ]
     },
     "execution_count": 94,
     "metadata": {},
     "output_type": "execute_result"
    }
   ],
   "source": [
    "l3"
   ]
  },
  {
   "cell_type": "code",
   "execution_count": 95,
   "id": "cdb1fa63-a402-4263-8004-59aeb87b550e",
   "metadata": {},
   "outputs": [
    {
     "data": {
      "text/plain": [
       "True"
      ]
     },
     "execution_count": 95,
     "metadata": {},
     "output_type": "execute_result"
    }
   ],
   "source": [
    "'Abid' in l3"
   ]
  },
  {
   "cell_type": "code",
   "execution_count": 96,
   "id": "c1c0f5e3-8749-4401-8f58-7bc6cfc2796e",
   "metadata": {},
   "outputs": [
    {
     "data": {
      "text/plain": [
       "True"
      ]
     },
     "execution_count": 96,
     "metadata": {},
     "output_type": "execute_result"
    }
   ],
   "source": [
    "2.3 in l3"
   ]
  },
  {
   "cell_type": "code",
   "execution_count": 97,
   "id": "0f884fc1-2959-4d4a-a6a4-87e04b5699b6",
   "metadata": {},
   "outputs": [
    {
     "data": {
      "text/plain": [
       "False"
      ]
     },
     "execution_count": 97,
     "metadata": {},
     "output_type": "execute_result"
    }
   ],
   "source": [
    "2.4 in l3"
   ]
  },
  {
   "cell_type": "code",
   "execution_count": 98,
   "id": "41dd9bdb-72c4-41e4-b36a-683b86e93c61",
   "metadata": {},
   "outputs": [
    {
     "data": {
      "text/plain": [
       "False"
      ]
     },
     "execution_count": 98,
     "metadata": {},
     "output_type": "execute_result"
    }
   ],
   "source": [
    "400 in l1"
   ]
  },
  {
   "cell_type": "code",
   "execution_count": 99,
   "id": "97ac9a2b-e097-4403-9a42-f4d8867f6b24",
   "metadata": {},
   "outputs": [],
   "source": [
    "l2 = []"
   ]
  },
  {
   "cell_type": "code",
   "execution_count": 100,
   "id": "a8b7bab0-a5a0-4d28-a92b-fea258a25e24",
   "metadata": {},
   "outputs": [
    {
     "name": "stdout",
     "output_type": "stream",
     "text": [
      "8\n",
      "4\n",
      "0\n"
     ]
    }
   ],
   "source": [
    "print(len(l))\n",
    "print(len(l1))\n",
    "print(len(l2))"
   ]
  },
  {
   "cell_type": "code",
   "execution_count": 101,
   "id": "4a094b42-459c-441b-9438-4e208238788c",
   "metadata": {},
   "outputs": [
    {
     "name": "stdout",
     "output_type": "stream",
     "text": [
      "8\n",
      "4\n",
      "0\n",
      "8\n"
     ]
    }
   ],
   "source": [
    "print(len(l))\n",
    "print(len(l1))\n",
    "print(len(l2))\n",
    "print(len(l3))"
   ]
  },
  {
   "cell_type": "code",
   "execution_count": 102,
   "id": "8c1a1992-7799-4055-9143-ea71ff683612",
   "metadata": {},
   "outputs": [
    {
     "data": {
      "text/plain": [
       "[100, 20, 60, 40, 50, 'jan', 'feb', 40]"
      ]
     },
     "execution_count": 102,
     "metadata": {},
     "output_type": "execute_result"
    }
   ],
   "source": [
    "l"
   ]
  },
  {
   "cell_type": "code",
   "execution_count": 103,
   "id": "5b098265-fc17-478a-a54b-98dbda1f21bf",
   "metadata": {},
   "outputs": [
    {
     "data": {
      "text/plain": [
       "[10, 2.3, True, (2+4j)]"
      ]
     },
     "execution_count": 103,
     "metadata": {},
     "output_type": "execute_result"
    }
   ],
   "source": [
    "l1"
   ]
  },
  {
   "cell_type": "code",
   "execution_count": 104,
   "id": "4ba94cef-49e4-461b-9cb0-304c65a664aa",
   "metadata": {},
   "outputs": [
    {
     "data": {
      "text/plain": [
       "[]"
      ]
     },
     "execution_count": 104,
     "metadata": {},
     "output_type": "execute_result"
    }
   ],
   "source": [
    "l2"
   ]
  },
  {
   "cell_type": "code",
   "execution_count": 105,
   "id": "062adafd-c311-4155-8761-2f4207f93123",
   "metadata": {},
   "outputs": [
    {
     "data": {
      "text/plain": [
       "[10, 2.3, 'Ansari', (2+4j), 'Abid', 2.3, True, 'jan']"
      ]
     },
     "execution_count": 105,
     "metadata": {},
     "output_type": "execute_result"
    }
   ],
   "source": [
    "l3"
   ]
  },
  {
   "cell_type": "code",
   "execution_count": null,
   "id": "0961e7c7-f204-4066-8666-70d640996416",
   "metadata": {},
   "outputs": [],
   "source": []
  },
  {
   "cell_type": "code",
   "execution_count": 106,
   "id": "550861b4-d57f-405e-ba18-bd3a9d92cee6",
   "metadata": {},
   "outputs": [],
   "source": [
    "l2.extend(l)"
   ]
  },
  {
   "cell_type": "code",
   "execution_count": 107,
   "id": "b30d85f0-ce60-4935-8242-f560ff3022c3",
   "metadata": {},
   "outputs": [
    {
     "data": {
      "text/plain": [
       "[100, 20, 60, 40, 50, 'jan', 'feb', 40]"
      ]
     },
     "execution_count": 107,
     "metadata": {},
     "output_type": "execute_result"
    }
   ],
   "source": [
    "l2 "
   ]
  },
  {
   "cell_type": "code",
   "execution_count": 108,
   "id": "8acce3f0-c0eb-4cef-8a59-a0becec44ed4",
   "metadata": {},
   "outputs": [],
   "source": [
    "l2.extend(l1)"
   ]
  },
  {
   "cell_type": "code",
   "execution_count": 109,
   "id": "1a86fb15-f6c2-4544-b574-2398b41cc65a",
   "metadata": {},
   "outputs": [
    {
     "data": {
      "text/plain": [
       "[100, 20, 60, 40, 50, 'jan', 'feb', 40, 10, 2.3, True, (2+4j)]"
      ]
     },
     "execution_count": 109,
     "metadata": {},
     "output_type": "execute_result"
    }
   ],
   "source": [
    "l2"
   ]
  },
  {
   "cell_type": "code",
   "execution_count": 110,
   "id": "07c1e49c-4aa3-44dc-9bee-fbe810dd04c2",
   "metadata": {},
   "outputs": [],
   "source": [
    "l1.extend(l3)"
   ]
  },
  {
   "cell_type": "code",
   "execution_count": 111,
   "id": "58d802d0-aed7-45e6-9f2a-c3e37a71948d",
   "metadata": {},
   "outputs": [
    {
     "data": {
      "text/plain": [
       "[10, 2.3, True, (2+4j), 10, 2.3, 'Ansari', (2+4j), 'Abid', 2.3, True, 'jan']"
      ]
     },
     "execution_count": 111,
     "metadata": {},
     "output_type": "execute_result"
    }
   ],
   "source": [
    "l1"
   ]
  },
  {
   "cell_type": "code",
   "execution_count": 112,
   "id": "1a942755-e5fe-4296-8887-4edfe30b9670",
   "metadata": {},
   "outputs": [
    {
     "data": {
      "text/plain": [
       "[100, 20, 60, 40, 50, 'jan', 'feb', 40]"
      ]
     },
     "execution_count": 112,
     "metadata": {},
     "output_type": "execute_result"
    }
   ],
   "source": [
    "l"
   ]
  },
  {
   "cell_type": "code",
   "execution_count": 113,
   "id": "5f46ea5a-7f9a-41d8-85c8-8c75657efb5c",
   "metadata": {},
   "outputs": [
    {
     "data": {
      "text/plain": [
       "[100, 20, 60, 40, 50, 'jan', 'feb', 40, 10, 2.3, True, (2+4j)]"
      ]
     },
     "execution_count": 113,
     "metadata": {},
     "output_type": "execute_result"
    }
   ],
   "source": [
    "l2"
   ]
  },
  {
   "cell_type": "code",
   "execution_count": 114,
   "id": "4c597818-5b99-432c-8929-909af3b440a4",
   "metadata": {},
   "outputs": [
    {
     "data": {
      "text/plain": [
       "[10, 2.3, 'Ansari', (2+4j), 'Abid', 2.3, True, 'jan']"
      ]
     },
     "execution_count": 114,
     "metadata": {},
     "output_type": "execute_result"
    }
   ],
   "source": [
    "l3"
   ]
  },
  {
   "cell_type": "code",
   "execution_count": 115,
   "id": "4cf08c3c-387b-4e54-a804-af88e0971c5c",
   "metadata": {},
   "outputs": [
    {
     "data": {
      "text/plain": [
       "[10, 2.3, True, (2+4j), 10, 2.3, 'Ansari', (2+4j), 'Abid', 2.3, True, 'jan']"
      ]
     },
     "execution_count": 115,
     "metadata": {},
     "output_type": "execute_result"
    }
   ],
   "source": [
    "l1"
   ]
  },
  {
   "cell_type": "code",
   "execution_count": 116,
   "id": "c4def810-565e-42ce-92a3-6f7c558258a0",
   "metadata": {},
   "outputs": [],
   "source": [
    "l3.extend(l1)"
   ]
  },
  {
   "cell_type": "code",
   "execution_count": 117,
   "id": "adc4fdab-4df9-4886-b0f5-11175bfc4240",
   "metadata": {},
   "outputs": [
    {
     "data": {
      "text/plain": [
       "[10,\n",
       " 2.3,\n",
       " 'Ansari',\n",
       " (2+4j),\n",
       " 'Abid',\n",
       " 2.3,\n",
       " True,\n",
       " 'jan',\n",
       " 10,\n",
       " 2.3,\n",
       " True,\n",
       " (2+4j),\n",
       " 10,\n",
       " 2.3,\n",
       " 'Ansari',\n",
       " (2+4j),\n",
       " 'Abid',\n",
       " 2.3,\n",
       " True,\n",
       " 'jan']"
      ]
     },
     "execution_count": 117,
     "metadata": {},
     "output_type": "execute_result"
    }
   ],
   "source": [
    "l3"
   ]
  },
  {
   "cell_type": "code",
   "execution_count": 118,
   "id": "a8927e86-e859-4c4c-becb-f6ad5d907c90",
   "metadata": {},
   "outputs": [
    {
     "data": {
      "text/plain": [
       "[100, 20, 60, 40, 50, 'jan', 'feb', 40]"
      ]
     },
     "execution_count": 118,
     "metadata": {},
     "output_type": "execute_result"
    }
   ],
   "source": [
    "l"
   ]
  },
  {
   "cell_type": "code",
   "execution_count": 119,
   "id": "659f875b-b2f8-4909-aa27-fe7c4c34cd83",
   "metadata": {},
   "outputs": [
    {
     "data": {
      "text/plain": [
       "5"
      ]
     },
     "execution_count": 119,
     "metadata": {},
     "output_type": "execute_result"
    }
   ],
   "source": [
    "l.index('jan')"
   ]
  },
  {
   "cell_type": "code",
   "execution_count": 120,
   "id": "9179d5f6-619a-474d-bb0c-69804ad2acc1",
   "metadata": {},
   "outputs": [
    {
     "data": {
      "text/plain": [
       "[10,\n",
       " 2.3,\n",
       " 'Ansari',\n",
       " (2+4j),\n",
       " 'Abid',\n",
       " 2.3,\n",
       " True,\n",
       " 'jan',\n",
       " 10,\n",
       " 2.3,\n",
       " True,\n",
       " (2+4j),\n",
       " 10,\n",
       " 2.3,\n",
       " 'Ansari',\n",
       " (2+4j),\n",
       " 'Abid',\n",
       " 2.3,\n",
       " True,\n",
       " 'jan']"
      ]
     },
     "execution_count": 120,
     "metadata": {},
     "output_type": "execute_result"
    }
   ],
   "source": [
    "l3"
   ]
  },
  {
   "cell_type": "code",
   "execution_count": 121,
   "id": "4dc3519d-9522-440d-ae6a-bbb48217b5f5",
   "metadata": {},
   "outputs": [
    {
     "data": {
      "text/plain": [
       "4"
      ]
     },
     "execution_count": 121,
     "metadata": {},
     "output_type": "execute_result"
    }
   ],
   "source": [
    "l3.index('Abid')"
   ]
  },
  {
   "cell_type": "code",
   "execution_count": 122,
   "id": "385da2ba-34c7-4adc-9903-d3f6d3a39949",
   "metadata": {},
   "outputs": [
    {
     "data": {
      "text/plain": [
       "1"
      ]
     },
     "execution_count": 122,
     "metadata": {},
     "output_type": "execute_result"
    }
   ],
   "source": [
    "l3.index(2.3)"
   ]
  },
  {
   "cell_type": "code",
   "execution_count": 123,
   "id": "b722d759-096f-442f-99bd-4e915f665d95",
   "metadata": {},
   "outputs": [
    {
     "data": {
      "text/plain": [
       "6"
      ]
     },
     "execution_count": 123,
     "metadata": {},
     "output_type": "execute_result"
    }
   ],
   "source": [
    "l3.index(True)"
   ]
  },
  {
   "cell_type": "code",
   "execution_count": 124,
   "id": "651d8070-3f5a-4c99-a54b-7b6c5a42664f",
   "metadata": {},
   "outputs": [
    {
     "ename": "ValueError",
     "evalue": "5 is not in list",
     "output_type": "error",
     "traceback": [
      "\u001b[1;31m---------------------------------------------------------------------------\u001b[0m",
      "\u001b[1;31mValueError\u001b[0m                                Traceback (most recent call last)",
      "Cell \u001b[1;32mIn[124], line 1\u001b[0m\n\u001b[1;32m----> 1\u001b[0m l3\u001b[38;5;241m.\u001b[39mindex(\u001b[38;5;241m5\u001b[39m)\n",
      "\u001b[1;31mValueError\u001b[0m: 5 is not in list"
     ]
    }
   ],
   "source": [
    "l3.index(5)"
   ]
  },
  {
   "cell_type": "code",
   "execution_count": 125,
   "id": "6151f604-e189-484d-9876-0d506c9a9659",
   "metadata": {},
   "outputs": [
    {
     "data": {
      "text/plain": [
       "2"
      ]
     },
     "execution_count": 125,
     "metadata": {},
     "output_type": "execute_result"
    }
   ],
   "source": [
    "l.index(60)"
   ]
  },
  {
   "cell_type": "code",
   "execution_count": 126,
   "id": "8dedc639-6188-453e-919b-60f076dcf899",
   "metadata": {},
   "outputs": [
    {
     "data": {
      "text/plain": [
       "[10,\n",
       " 2.3,\n",
       " 'Ansari',\n",
       " (2+4j),\n",
       " 'Abid',\n",
       " 2.3,\n",
       " True,\n",
       " 'jan',\n",
       " 10,\n",
       " 2.3,\n",
       " True,\n",
       " (2+4j),\n",
       " 10,\n",
       " 2.3,\n",
       " 'Ansari',\n",
       " (2+4j),\n",
       " 'Abid',\n",
       " 2.3,\n",
       " True,\n",
       " 'jan']"
      ]
     },
     "execution_count": 126,
     "metadata": {},
     "output_type": "execute_result"
    }
   ],
   "source": [
    "l3"
   ]
  },
  {
   "cell_type": "code",
   "execution_count": 127,
   "id": "74c0ff28-1e8c-408c-aef1-9fe29b89436a",
   "metadata": {},
   "outputs": [
    {
     "data": {
      "text/plain": [
       "[100, 20, 60, 40, 50, 'jan', 'feb', 40]"
      ]
     },
     "execution_count": 127,
     "metadata": {},
     "output_type": "execute_result"
    }
   ],
   "source": [
    "l"
   ]
  },
  {
   "cell_type": "code",
   "execution_count": 128,
   "id": "e8f2d963-fbee-450d-aa32-57699f3336aa",
   "metadata": {},
   "outputs": [
    {
     "data": {
      "text/plain": [
       "[100, 20, 60, 40, 50, 'jan', 'feb', 40]"
      ]
     },
     "execution_count": 128,
     "metadata": {},
     "output_type": "execute_result"
    }
   ],
   "source": [
    "l[:]"
   ]
  },
  {
   "cell_type": "code",
   "execution_count": null,
   "id": "daf0d4b5-61e5-45cb-a62d-d1b1543b378a",
   "metadata": {},
   "outputs": [],
   "source": []
  },
  {
   "cell_type": "code",
   "execution_count": 129,
   "id": "26741ac8-e65f-4a23-bf2f-2d8bc2e1116d",
   "metadata": {},
   "outputs": [
    {
     "data": {
      "text/plain": [
       "[10,\n",
       " 2.3,\n",
       " 'Ansari',\n",
       " (2+4j),\n",
       " 'Abid',\n",
       " 2.3,\n",
       " True,\n",
       " 'jan',\n",
       " 10,\n",
       " 2.3,\n",
       " True,\n",
       " (2+4j),\n",
       " 10,\n",
       " 2.3,\n",
       " 'Ansari',\n",
       " (2+4j),\n",
       " 'Abid',\n",
       " 2.3,\n",
       " True,\n",
       " 'jan']"
      ]
     },
     "execution_count": 129,
     "metadata": {},
     "output_type": "execute_result"
    }
   ],
   "source": [
    "l3[:]"
   ]
  },
  {
   "cell_type": "code",
   "execution_count": 130,
   "id": "c4980cee-1cdd-4c8c-90fd-075dfb073d8d",
   "metadata": {},
   "outputs": [
    {
     "data": {
      "text/plain": [
       "[100, 20, 60, 40, 50, 'jan', 'feb', 40, 10, 2.3, True, (2+4j)]"
      ]
     },
     "execution_count": 130,
     "metadata": {},
     "output_type": "execute_result"
    }
   ],
   "source": [
    "l2"
   ]
  },
  {
   "cell_type": "code",
   "execution_count": 131,
   "id": "3424b4f2-a0b8-4b7f-be04-0e69362cba4c",
   "metadata": {},
   "outputs": [
    {
     "data": {
      "text/plain": [
       "[100, 20, 60, 40, 50, 'jan']"
      ]
     },
     "execution_count": 131,
     "metadata": {},
     "output_type": "execute_result"
    }
   ],
   "source": [
    "l2[:6]"
   ]
  },
  {
   "cell_type": "code",
   "execution_count": 132,
   "id": "8bba2730-fb43-4614-8101-bdd17de70793",
   "metadata": {},
   "outputs": [
    {
     "data": {
      "text/plain": [
       "[100, 20, 60, 40, 50, 'jan']"
      ]
     },
     "execution_count": 132,
     "metadata": {},
     "output_type": "execute_result"
    }
   ],
   "source": [
    "l2[0:6]"
   ]
  },
  {
   "cell_type": "code",
   "execution_count": 133,
   "id": "261692a0-36d5-422e-b722-86626cfba9a6",
   "metadata": {},
   "outputs": [
    {
     "data": {
      "text/plain": [
       "12"
      ]
     },
     "execution_count": 133,
     "metadata": {},
     "output_type": "execute_result"
    }
   ],
   "source": [
    "len(l2)"
   ]
  },
  {
   "cell_type": "code",
   "execution_count": 134,
   "id": "fe6975ff-70a8-4c29-9838-7eba27d0ed9f",
   "metadata": {},
   "outputs": [
    {
     "data": {
      "text/plain": [
       "[100, 20, 60, 40, 50, 'jan', 'feb', 40, 10, 2.3]"
      ]
     },
     "execution_count": 134,
     "metadata": {},
     "output_type": "execute_result"
    }
   ],
   "source": [
    "l2[0:10]"
   ]
  },
  {
   "cell_type": "code",
   "execution_count": 135,
   "id": "bc9dcfa5-d219-4646-a0a9-b320d1286624",
   "metadata": {},
   "outputs": [
    {
     "data": {
      "text/plain": [
       "[20, 60, 40, 50, 'jan', 'feb', 40, 10, 2.3]"
      ]
     },
     "execution_count": 135,
     "metadata": {},
     "output_type": "execute_result"
    }
   ],
   "source": [
    "l2[1:10]"
   ]
  },
  {
   "cell_type": "code",
   "execution_count": 136,
   "id": "eca205e2-6c86-4039-9935-4ffa9ca4edf6",
   "metadata": {},
   "outputs": [
    {
     "data": {
      "text/plain": [
       "[60, 40, 50]"
      ]
     },
     "execution_count": 136,
     "metadata": {},
     "output_type": "execute_result"
    }
   ],
   "source": [
    "l2[2:5]"
   ]
  },
  {
   "cell_type": "code",
   "execution_count": 137,
   "id": "6a2273ba-58d4-45af-a6c1-7549fc5c3e4f",
   "metadata": {},
   "outputs": [
    {
     "data": {
      "text/plain": [
       "[40, 50]"
      ]
     },
     "execution_count": 137,
     "metadata": {},
     "output_type": "execute_result"
    }
   ],
   "source": [
    "l2[3:5]"
   ]
  },
  {
   "cell_type": "code",
   "execution_count": 138,
   "id": "687beabd-2c25-4601-9fd4-12728a5cfbed",
   "metadata": {},
   "outputs": [
    {
     "data": {
      "text/plain": [
       "[100, 20, 60, 40, 50, 'jan', 'feb', 40, 10, 2.3, True, (2+4j)]"
      ]
     },
     "execution_count": 138,
     "metadata": {},
     "output_type": "execute_result"
    }
   ],
   "source": [
    "l2"
   ]
  },
  {
   "cell_type": "code",
   "execution_count": 139,
   "id": "8ae503ec-fcee-4972-9d1c-d3025339ab45",
   "metadata": {},
   "outputs": [
    {
     "data": {
      "text/plain": [
       "[100, 60, 50, 'feb', 10, True]"
      ]
     },
     "execution_count": 139,
     "metadata": {},
     "output_type": "execute_result"
    }
   ],
   "source": [
    "l2[::2]"
   ]
  },
  {
   "cell_type": "code",
   "execution_count": 140,
   "id": "bdfc6bfd-8f5d-4e48-ab30-b46bce91a0bc",
   "metadata": {},
   "outputs": [
    {
     "data": {
      "text/plain": [
       "[100, 'jan', True]"
      ]
     },
     "execution_count": 140,
     "metadata": {},
     "output_type": "execute_result"
    }
   ],
   "source": [
    "l2[::5]"
   ]
  },
  {
   "cell_type": "code",
   "execution_count": 141,
   "id": "91451ea7-d346-4068-8ca2-e2b1c01fb485",
   "metadata": {},
   "outputs": [
    {
     "data": {
      "text/plain": [
       "[100, 'feb']"
      ]
     },
     "execution_count": 141,
     "metadata": {},
     "output_type": "execute_result"
    }
   ],
   "source": [
    "l2[::6]"
   ]
  },
  {
   "cell_type": "code",
   "execution_count": 142,
   "id": "d6e51d53-e54d-413b-8be5-ec771d89a8f3",
   "metadata": {},
   "outputs": [
    {
     "data": {
      "text/plain": [
       "[100, 10]"
      ]
     },
     "execution_count": 142,
     "metadata": {},
     "output_type": "execute_result"
    }
   ],
   "source": [
    "l2[::8]"
   ]
  },
  {
   "cell_type": "code",
   "execution_count": 143,
   "id": "ee1361c8-96ed-4725-849c-99563933ef5d",
   "metadata": {},
   "outputs": [
    {
     "data": {
      "text/plain": [
       "[100, 20, 60, 40, 50, 'jan', 'feb', 40, 10, 2.3, True, (2+4j)]"
      ]
     },
     "execution_count": 143,
     "metadata": {},
     "output_type": "execute_result"
    }
   ],
   "source": [
    "l2"
   ]
  },
  {
   "cell_type": "code",
   "execution_count": 144,
   "id": "9cf420e1-57ce-4b06-8f15-ce1af46bb22c",
   "metadata": {},
   "outputs": [
    {
     "data": {
      "text/plain": [
       "[100, True]"
      ]
     },
     "execution_count": 144,
     "metadata": {},
     "output_type": "execute_result"
    }
   ],
   "source": [
    "l2[::10] "
   ]
  },
  {
   "cell_type": "markdown",
   "id": "7081879c-3638-4da0-8614-afa2d27b0745",
   "metadata": {},
   "source": [
    "# Backward indexing & Backward Slicing"
   ]
  },
  {
   "cell_type": "code",
   "execution_count": 145,
   "id": "aabd5ef5-b11f-4d31-b93b-caa4399bfe19",
   "metadata": {},
   "outputs": [
    {
     "data": {
      "text/plain": [
       "[100, 20, 60, 40, 50, 'jan', 'feb', 40, 10, 2.3, True, (2+4j)]"
      ]
     },
     "execution_count": 145,
     "metadata": {},
     "output_type": "execute_result"
    }
   ],
   "source": [
    "l2"
   ]
  },
  {
   "cell_type": "code",
   "execution_count": 146,
   "id": "9c0bc00a-3240-4af2-9a63-644dbb227d16",
   "metadata": {},
   "outputs": [
    {
     "data": {
      "text/plain": [
       "[100, 20, 60, 40, 50, 'jan', 'feb', 40, 10, 2.3, True, (2+4j)]"
      ]
     },
     "execution_count": 146,
     "metadata": {},
     "output_type": "execute_result"
    }
   ],
   "source": [
    "l2[:]"
   ]
  },
  {
   "cell_type": "code",
   "execution_count": 147,
   "id": "e1e7b366-f5c0-4726-9ac2-13c5213f06e8",
   "metadata": {},
   "outputs": [
    {
     "data": {
      "text/plain": [
       "(2+4j)"
      ]
     },
     "execution_count": 147,
     "metadata": {},
     "output_type": "execute_result"
    }
   ],
   "source": [
    "l3[-5]"
   ]
  },
  {
   "cell_type": "code",
   "execution_count": 148,
   "id": "bcbd2965-80aa-4cc6-9ab8-401460fdfcba",
   "metadata": {},
   "outputs": [
    {
     "data": {
      "text/plain": [
       "'Ansari'"
      ]
     },
     "execution_count": 148,
     "metadata": {},
     "output_type": "execute_result"
    }
   ],
   "source": [
    "l3[-6]"
   ]
  },
  {
   "cell_type": "code",
   "execution_count": 149,
   "id": "51c8582e-53f2-4101-818d-0e977e2ebe35",
   "metadata": {},
   "outputs": [
    {
     "data": {
      "text/plain": [
       "'Abid'"
      ]
     },
     "execution_count": 149,
     "metadata": {},
     "output_type": "execute_result"
    }
   ],
   "source": [
    "l3[-4]"
   ]
  },
  {
   "cell_type": "code",
   "execution_count": 150,
   "id": "da59b169-1bef-4978-9605-727fddfeb4e1",
   "metadata": {},
   "outputs": [
    {
     "data": {
      "text/plain": [
       "12"
      ]
     },
     "execution_count": 150,
     "metadata": {},
     "output_type": "execute_result"
    }
   ],
   "source": [
    "len(l2)"
   ]
  },
  {
   "cell_type": "code",
   "execution_count": 151,
   "id": "796be10d-bdd4-484d-b50a-7b6f7373a65f",
   "metadata": {},
   "outputs": [
    {
     "ename": "IndexError",
     "evalue": "list index out of range",
     "output_type": "error",
     "traceback": [
      "\u001b[1;31m---------------------------------------------------------------------------\u001b[0m",
      "\u001b[1;31mIndexError\u001b[0m                                Traceback (most recent call last)",
      "Cell \u001b[1;32mIn[151], line 1\u001b[0m\n\u001b[1;32m----> 1\u001b[0m l2[\u001b[38;5;241m-\u001b[39m\u001b[38;5;241m14\u001b[39m]\n",
      "\u001b[1;31mIndexError\u001b[0m: list index out of range"
     ]
    }
   ],
   "source": [
    "l2[-14]"
   ]
  },
  {
   "cell_type": "code",
   "execution_count": 152,
   "id": "1025503f-7eba-4964-b0ac-9cc7d32e642d",
   "metadata": {},
   "outputs": [
    {
     "data": {
      "text/plain": [
       "[(2+4j), 60]"
      ]
     },
     "execution_count": 152,
     "metadata": {},
     "output_type": "execute_result"
    }
   ],
   "source": [
    "l2[::-9]"
   ]
  },
  {
   "cell_type": "code",
   "execution_count": 153,
   "id": "2c5f4f58-56e0-4965-b38f-94fd9dbc79cd",
   "metadata": {},
   "outputs": [
    {
     "data": {
      "text/plain": [
       "[(2+4j), 10, 'jan', 60]"
      ]
     },
     "execution_count": 153,
     "metadata": {},
     "output_type": "execute_result"
    }
   ],
   "source": [
    "l2[::-3]"
   ]
  },
  {
   "cell_type": "code",
   "execution_count": 154,
   "id": "017755b9-c5cd-464c-8ed7-0520fde66613",
   "metadata": {},
   "outputs": [
    {
     "data": {
      "text/plain": [
       "[100, 20, 60, 40, 50]"
      ]
     },
     "execution_count": 154,
     "metadata": {},
     "output_type": "execute_result"
    }
   ],
   "source": [
    "l2[:-7]"
   ]
  },
  {
   "cell_type": "code",
   "execution_count": 155,
   "id": "81e67baa-3a7a-49d2-ab13-d80430e95436",
   "metadata": {},
   "outputs": [
    {
     "data": {
      "text/plain": [
       "[]"
      ]
     },
     "execution_count": 155,
     "metadata": {},
     "output_type": "execute_result"
    }
   ],
   "source": [
    "l2[:-12]"
   ]
  },
  {
   "cell_type": "code",
   "execution_count": 156,
   "id": "924aaca3-c691-49cf-935a-e936b1133f3e",
   "metadata": {},
   "outputs": [
    {
     "data": {
      "text/plain": [
       "[100, 20, 60, 40, 50, 'jan', 'feb', 40, 10, 2.3, True, (2+4j)]"
      ]
     },
     "execution_count": 156,
     "metadata": {},
     "output_type": "execute_result"
    }
   ],
   "source": [
    "l2"
   ]
  },
  {
   "cell_type": "code",
   "execution_count": 157,
   "id": "1012c1bb-8c70-4cba-aff5-b711adab85ff",
   "metadata": {},
   "outputs": [
    {
     "data": {
      "text/plain": [
       "[10,\n",
       " 2.3,\n",
       " 'Ansari',\n",
       " (2+4j),\n",
       " 'Abid',\n",
       " 2.3,\n",
       " True,\n",
       " 'jan',\n",
       " 10,\n",
       " 2.3,\n",
       " True,\n",
       " (2+4j),\n",
       " 10,\n",
       " 2.3,\n",
       " 'Ansari',\n",
       " (2+4j),\n",
       " 'Abid',\n",
       " 2.3,\n",
       " True,\n",
       " 'jan']"
      ]
     },
     "execution_count": 157,
     "metadata": {},
     "output_type": "execute_result"
    }
   ],
   "source": [
    "l3"
   ]
  },
  {
   "cell_type": "code",
   "execution_count": 158,
   "id": "6134300e-da76-4946-ab72-cb59f0f392ce",
   "metadata": {},
   "outputs": [
    {
     "data": {
      "text/plain": [
       "[2.3, True, 'jan']"
      ]
     },
     "execution_count": 158,
     "metadata": {},
     "output_type": "execute_result"
    }
   ],
   "source": [
    "l3[-3:]"
   ]
  },
  {
   "cell_type": "code",
   "execution_count": 159,
   "id": "32a47f31-6ca9-406e-918f-97d73a579567",
   "metadata": {},
   "outputs": [
    {
     "data": {
      "text/plain": [
       "[(2+4j), 'Abid', 2.3, True, 'jan']"
      ]
     },
     "execution_count": 159,
     "metadata": {},
     "output_type": "execute_result"
    }
   ],
   "source": [
    "l3[-5:]"
   ]
  },
  {
   "cell_type": "code",
   "execution_count": 160,
   "id": "edf05f75-3a4f-4407-8e92-7d4a9e3a4940",
   "metadata": {},
   "outputs": [
    {
     "data": {
      "text/plain": [
       "[40, 10, 2.3, True, (2+4j)]"
      ]
     },
     "execution_count": 160,
     "metadata": {},
     "output_type": "execute_result"
    }
   ],
   "source": [
    "l2[-5::]"
   ]
  },
  {
   "cell_type": "code",
   "execution_count": 161,
   "id": "37ca8697-1575-42ea-9f8c-94880ca96f92",
   "metadata": {},
   "outputs": [
    {
     "data": {
      "text/plain": [
       "[40, 50, 'jan', 'feb', 40, 10, 2.3, True, (2+4j)]"
      ]
     },
     "execution_count": 161,
     "metadata": {},
     "output_type": "execute_result"
    }
   ],
   "source": [
    "l2[-9:]"
   ]
  },
  {
   "cell_type": "code",
   "execution_count": 162,
   "id": "ea882ba4-7c7e-43fb-88b9-6175533aab39",
   "metadata": {},
   "outputs": [
    {
     "data": {
      "text/plain": [
       "[60, 40, 50, 'jan', 'feb', 40, 10, 2.3, True, (2+4j)]"
      ]
     },
     "execution_count": 162,
     "metadata": {},
     "output_type": "execute_result"
    }
   ],
   "source": [
    "l2[-10:]"
   ]
  },
  {
   "cell_type": "code",
   "execution_count": 163,
   "id": "7e0d93b2-8e70-4fca-928c-852c872ed3e8",
   "metadata": {},
   "outputs": [
    {
     "name": "stdout",
     "output_type": "stream",
     "text": [
      "[100, 20, 60, 40, 50, 'jan', 'feb', 40]\n",
      "[10, 2.3, True, (2+4j), 10, 2.3, 'Ansari', (2+4j), 'Abid', 2.3, True, 'jan']\n",
      "[100, 20, 60, 40, 50, 'jan', 'feb', 40, 10, 2.3, True, (2+4j)]\n"
     ]
    }
   ],
   "source": [
    "print(l)\n",
    "print(l1)\n",
    "print(l2)"
   ]
  },
  {
   "cell_type": "code",
   "execution_count": 164,
   "id": "5549d810-b3a6-4123-a8fd-36b80afa76f9",
   "metadata": {},
   "outputs": [
    {
     "data": {
      "text/plain": [
       "[100, 20, 60, 40, 50, 'jan', 'feb', 40]"
      ]
     },
     "execution_count": 164,
     "metadata": {},
     "output_type": "execute_result"
    }
   ],
   "source": [
    "l"
   ]
  },
  {
   "cell_type": "code",
   "execution_count": 165,
   "id": "45307aee-ba48-43ae-a3b5-aa20b8223d9c",
   "metadata": {},
   "outputs": [],
   "source": [
    "l.append(10)"
   ]
  },
  {
   "cell_type": "code",
   "execution_count": 166,
   "id": "6f80742b-6c90-4549-81ad-7a11c9252318",
   "metadata": {},
   "outputs": [
    {
     "data": {
      "text/plain": [
       "[100, 20, 60, 40, 50, 'jan', 'feb', 40, 10]"
      ]
     },
     "execution_count": 166,
     "metadata": {},
     "output_type": "execute_result"
    }
   ],
   "source": [
    "l"
   ]
  },
  {
   "cell_type": "code",
   "execution_count": 167,
   "id": "4cae3855-70b8-4733-b109-65f4770ae97c",
   "metadata": {},
   "outputs": [
    {
     "ename": "TypeError",
     "evalue": "list.remove() takes exactly one argument (0 given)",
     "output_type": "error",
     "traceback": [
      "\u001b[1;31m---------------------------------------------------------------------------\u001b[0m",
      "\u001b[1;31mTypeError\u001b[0m                                 Traceback (most recent call last)",
      "Cell \u001b[1;32mIn[167], line 1\u001b[0m\n\u001b[1;32m----> 1\u001b[0m l\u001b[38;5;241m.\u001b[39mremove()\n",
      "\u001b[1;31mTypeError\u001b[0m: list.remove() takes exactly one argument (0 given)"
     ]
    }
   ],
   "source": [
    "l.remove()"
   ]
  },
  {
   "cell_type": "code",
   "execution_count": 168,
   "id": "f6f0a3de-a51d-446a-8b90-e2299b01f799",
   "metadata": {},
   "outputs": [],
   "source": [
    "l.remove(10)"
   ]
  },
  {
   "cell_type": "code",
   "execution_count": 169,
   "id": "2ed73517-199a-4a4f-a701-117f9fe7f7f6",
   "metadata": {},
   "outputs": [
    {
     "data": {
      "text/plain": [
       "[100, 20, 60, 40, 50, 'jan', 'feb', 40]"
      ]
     },
     "execution_count": 169,
     "metadata": {},
     "output_type": "execute_result"
    }
   ],
   "source": [
    "l"
   ]
  },
  {
   "cell_type": "code",
   "execution_count": 170,
   "id": "478986a1-d11e-4385-9923-3952aba9ff68",
   "metadata": {},
   "outputs": [],
   "source": [
    "l.append(35)"
   ]
  },
  {
   "cell_type": "code",
   "execution_count": 171,
   "id": "a3cc2391-aeb0-4c8c-b152-7eab524d5129",
   "metadata": {},
   "outputs": [
    {
     "data": {
      "text/plain": [
       "[100, 20, 60, 40, 50, 'jan', 'feb', 40, 35]"
      ]
     },
     "execution_count": 171,
     "metadata": {},
     "output_type": "execute_result"
    }
   ],
   "source": [
    "l"
   ]
  },
  {
   "cell_type": "code",
   "execution_count": 172,
   "id": "688f3e60-6c38-4ad1-8745-5c98e4f7a61c",
   "metadata": {},
   "outputs": [],
   "source": [
    "l.append(45)"
   ]
  },
  {
   "cell_type": "code",
   "execution_count": 173,
   "id": "e5176256-6f2f-4548-9a79-da7ff46a8083",
   "metadata": {},
   "outputs": [
    {
     "data": {
      "text/plain": [
       "[100, 20, 60, 40, 50, 'jan', 'feb', 40, 35, 45]"
      ]
     },
     "execution_count": 173,
     "metadata": {},
     "output_type": "execute_result"
    }
   ],
   "source": [
    "l"
   ]
  },
  {
   "cell_type": "code",
   "execution_count": 174,
   "id": "501a6378-d624-4eba-af22-22c9c9e6f7f8",
   "metadata": {},
   "outputs": [],
   "source": [
    "l.append(50)"
   ]
  },
  {
   "cell_type": "code",
   "execution_count": 175,
   "id": "73f770b8-3894-4a76-b3ba-98f553194906",
   "metadata": {},
   "outputs": [
    {
     "data": {
      "text/plain": [
       "[100, 20, 60, 40, 50, 'jan', 'feb', 40, 35, 45, 50]"
      ]
     },
     "execution_count": 175,
     "metadata": {},
     "output_type": "execute_result"
    }
   ],
   "source": [
    "l"
   ]
  },
  {
   "cell_type": "code",
   "execution_count": 176,
   "id": "958d9216-9f21-4605-8dfd-c5ffe0ca25f2",
   "metadata": {},
   "outputs": [],
   "source": [
    "l.remove(35)"
   ]
  },
  {
   "cell_type": "code",
   "execution_count": 177,
   "id": "187d5316-a90f-408f-a39c-fb39d32e2a6a",
   "metadata": {},
   "outputs": [
    {
     "data": {
      "text/plain": [
       "[100, 20, 60, 40, 50, 'jan', 'feb', 40, 45, 50]"
      ]
     },
     "execution_count": 177,
     "metadata": {},
     "output_type": "execute_result"
    }
   ],
   "source": [
    "l"
   ]
  },
  {
   "cell_type": "code",
   "execution_count": 178,
   "id": "b87323b9-c03a-497d-b01b-7cd112c61f39",
   "metadata": {},
   "outputs": [],
   "source": [
    "l.remove(45)"
   ]
  },
  {
   "cell_type": "code",
   "execution_count": 179,
   "id": "5397eac7-55e6-4d14-b6d6-06cb191210bf",
   "metadata": {},
   "outputs": [
    {
     "data": {
      "text/plain": [
       "[100, 20, 60, 40, 50, 'jan', 'feb', 40, 50]"
      ]
     },
     "execution_count": 179,
     "metadata": {},
     "output_type": "execute_result"
    }
   ],
   "source": [
    "l"
   ]
  },
  {
   "cell_type": "code",
   "execution_count": 180,
   "id": "3a5b1a69-7d33-4cc2-a3cd-44c56a4521be",
   "metadata": {},
   "outputs": [],
   "source": [
    "l.remove(50)"
   ]
  },
  {
   "cell_type": "code",
   "execution_count": 181,
   "id": "b64183a4-b5db-4b06-b184-489d1135b601",
   "metadata": {},
   "outputs": [
    {
     "data": {
      "text/plain": [
       "[100, 20, 60, 40, 'jan', 'feb', 40, 50]"
      ]
     },
     "execution_count": 181,
     "metadata": {},
     "output_type": "execute_result"
    }
   ],
   "source": [
    "l"
   ]
  },
  {
   "cell_type": "code",
   "execution_count": 182,
   "id": "deeebe58-432b-4254-a868-aed0a63ec1ec",
   "metadata": {},
   "outputs": [],
   "source": [
    "l.insert(25, 3)"
   ]
  },
  {
   "cell_type": "code",
   "execution_count": 183,
   "id": "220d10df-8d72-4e78-b0d3-c3b5298ca785",
   "metadata": {},
   "outputs": [
    {
     "data": {
      "text/plain": [
       "[100, 20, 60, 40, 'jan', 'feb', 40, 50, 3]"
      ]
     },
     "execution_count": 183,
     "metadata": {},
     "output_type": "execute_result"
    }
   ],
   "source": [
    "l"
   ]
  },
  {
   "cell_type": "code",
   "execution_count": 184,
   "id": "ecb8a678-f0a5-44b8-9d9e-6b6d98ba5abd",
   "metadata": {},
   "outputs": [],
   "source": [
    "l.insert(3, 25)"
   ]
  },
  {
   "cell_type": "code",
   "execution_count": 185,
   "id": "5361c40b-62e6-48bc-acef-2b7412a44a9f",
   "metadata": {},
   "outputs": [
    {
     "data": {
      "text/plain": [
       "[100, 20, 60, 25, 40, 'jan', 'feb', 40, 50, 3]"
      ]
     },
     "execution_count": 185,
     "metadata": {},
     "output_type": "execute_result"
    }
   ],
   "source": [
    "l"
   ]
  },
  {
   "cell_type": "code",
   "execution_count": 186,
   "id": "f089fe67-e7e2-47cf-b939-62d50011c7e8",
   "metadata": {},
   "outputs": [],
   "source": [
    "l.insert(1,35)"
   ]
  },
  {
   "cell_type": "code",
   "execution_count": 187,
   "id": "d1d3cc3a-962c-4689-bc3d-c120e88ca274",
   "metadata": {},
   "outputs": [
    {
     "data": {
      "text/plain": [
       "[100, 35, 20, 60, 25, 40, 'jan', 'feb', 40, 50, 3]"
      ]
     },
     "execution_count": 187,
     "metadata": {},
     "output_type": "execute_result"
    }
   ],
   "source": [
    "l"
   ]
  },
  {
   "cell_type": "code",
   "execution_count": 188,
   "id": "ec5c97e3-1a60-4715-b6a7-b68d7fcc2998",
   "metadata": {},
   "outputs": [],
   "source": [
    "l.insert(0, 10)"
   ]
  },
  {
   "cell_type": "code",
   "execution_count": 189,
   "id": "14ae675d-58d7-48d2-9422-5773cb87f8b7",
   "metadata": {},
   "outputs": [
    {
     "data": {
      "text/plain": [
       "[10, 100, 35, 20, 60, 25, 40, 'jan', 'feb', 40, 50, 3]"
      ]
     },
     "execution_count": 189,
     "metadata": {},
     "output_type": "execute_result"
    }
   ],
   "source": [
    "l"
   ]
  },
  {
   "cell_type": "code",
   "execution_count": 190,
   "id": "77727eef-8a76-4fb0-961f-9cf61caee56d",
   "metadata": {},
   "outputs": [
    {
     "ename": "SyntaxError",
     "evalue": "closing parenthesis ']' does not match opening parenthesis '(' (2184948789.py, line 1)",
     "output_type": "error",
     "traceback": [
      "\u001b[1;36m  Cell \u001b[1;32mIn[190], line 1\u001b[1;36m\u001b[0m\n\u001b[1;33m    l.insert([1,2,3], 10]\u001b[0m\n\u001b[1;37m                        ^\u001b[0m\n\u001b[1;31mSyntaxError\u001b[0m\u001b[1;31m:\u001b[0m closing parenthesis ']' does not match opening parenthesis '('\n"
     ]
    }
   ],
   "source": [
    "l.insert([1,2,3], 10]"
   ]
  },
  {
   "cell_type": "code",
   "execution_count": 191,
   "id": "69dde595-2b4a-4b9e-b840-51f3def254a2",
   "metadata": {},
   "outputs": [
    {
     "data": {
      "text/plain": [
       "[10, 100, 35, 20, 60, 25, 40, 'jan', 'feb', 40, 50, 3]"
      ]
     },
     "execution_count": 191,
     "metadata": {},
     "output_type": "execute_result"
    }
   ],
   "source": [
    "l"
   ]
  },
  {
   "cell_type": "code",
   "execution_count": 192,
   "id": "3cc45386-9e7b-4d4a-9808-c92516c32f21",
   "metadata": {},
   "outputs": [],
   "source": [
    "l.append([1,2,3])"
   ]
  },
  {
   "cell_type": "code",
   "execution_count": 193,
   "id": "893d6391-8a0e-4636-a300-116c12e1fd21",
   "metadata": {},
   "outputs": [
    {
     "data": {
      "text/plain": [
       "[10, 100, 35, 20, 60, 25, 40, 'jan', 'feb', 40, 50, 3, [1, 2, 3]]"
      ]
     },
     "execution_count": 193,
     "metadata": {},
     "output_type": "execute_result"
    }
   ],
   "source": [
    "l"
   ]
  },
  {
   "cell_type": "code",
   "execution_count": 194,
   "id": "dd8811e9-c502-4ca0-aeec-4c70fe832a0e",
   "metadata": {},
   "outputs": [],
   "source": [
    "l.append([2,4])"
   ]
  },
  {
   "cell_type": "code",
   "execution_count": 195,
   "id": "16ea85e0-b7b6-4c7c-b5a6-2a4ba7412962",
   "metadata": {},
   "outputs": [
    {
     "data": {
      "text/plain": [
       "[10, 100, 35, 20, 60, 25, 40, 'jan', 'feb', 40, 50, 3, [1, 2, 3], [2, 4]]"
      ]
     },
     "execution_count": 195,
     "metadata": {},
     "output_type": "execute_result"
    }
   ],
   "source": [
    "l"
   ]
  },
  {
   "cell_type": "code",
   "execution_count": 196,
   "id": "27989991-ca57-4265-9174-d238d80f7417",
   "metadata": {},
   "outputs": [
    {
     "data": {
      "text/plain": [
       "[2, 4]"
      ]
     },
     "execution_count": 196,
     "metadata": {},
     "output_type": "execute_result"
    }
   ],
   "source": [
    "l.pop()"
   ]
  },
  {
   "cell_type": "code",
   "execution_count": 197,
   "id": "4993e756-99db-4ff3-8ef7-b13681e00412",
   "metadata": {},
   "outputs": [
    {
     "data": {
      "text/plain": [
       "[1, 2, 3]"
      ]
     },
     "execution_count": 197,
     "metadata": {},
     "output_type": "execute_result"
    }
   ],
   "source": [
    "l.pop(-1)"
   ]
  },
  {
   "cell_type": "code",
   "execution_count": 198,
   "id": "bbf9b5c1-d80b-4b44-991e-1b7498b82882",
   "metadata": {},
   "outputs": [
    {
     "data": {
      "text/plain": [
       "'feb'"
      ]
     },
     "execution_count": 198,
     "metadata": {},
     "output_type": "execute_result"
    }
   ],
   "source": [
    "l.pop(-4)"
   ]
  },
  {
   "cell_type": "code",
   "execution_count": 199,
   "id": "f7a44e75-1b48-46ba-a17e-9695f1f82df2",
   "metadata": {},
   "outputs": [
    {
     "data": {
      "text/plain": [
       "[10, 100, 35, 20, 60, 25, 40, 'jan', 40, 50, 3]"
      ]
     },
     "execution_count": 199,
     "metadata": {},
     "output_type": "execute_result"
    }
   ],
   "source": [
    "l"
   ]
  },
  {
   "cell_type": "code",
   "execution_count": 200,
   "id": "c928dc93-56ef-413a-995a-87a211ada7bd",
   "metadata": {},
   "outputs": [
    {
     "data": {
      "text/plain": [
       "3"
      ]
     },
     "execution_count": 200,
     "metadata": {},
     "output_type": "execute_result"
    }
   ],
   "source": [
    "l.pop()"
   ]
  },
  {
   "cell_type": "code",
   "execution_count": 201,
   "id": "21afa6f1-d031-45c9-a0c7-25c49b7498bc",
   "metadata": {},
   "outputs": [
    {
     "data": {
      "text/plain": [
       "[10, 100, 35, 20, 60, 25, 40, 'jan', 40, 50]"
      ]
     },
     "execution_count": 201,
     "metadata": {},
     "output_type": "execute_result"
    }
   ],
   "source": [
    "l"
   ]
  },
  {
   "cell_type": "code",
   "execution_count": 202,
   "id": "1d79c64e-9f54-4004-83b3-92e2d39418a9",
   "metadata": {},
   "outputs": [
    {
     "name": "stdout",
     "output_type": "stream",
     "text": [
      "[10, 2.3, True, (2+4j), 10, 2.3, 'Ansari', (2+4j), 'Abid', 2.3, True, 'jan']\n"
     ]
    }
   ],
   "source": [
    "print(l1)"
   ]
  },
  {
   "cell_type": "code",
   "execution_count": 203,
   "id": "b7ba6e3a-907d-4282-9833-857a127cd37f",
   "metadata": {},
   "outputs": [
    {
     "ename": "ValueError",
     "evalue": "list.remove(x): x not in list",
     "output_type": "error",
     "traceback": [
      "\u001b[1;31m---------------------------------------------------------------------------\u001b[0m",
      "\u001b[1;31mValueError\u001b[0m                                Traceback (most recent call last)",
      "Cell \u001b[1;32mIn[203], line 1\u001b[0m\n\u001b[1;32m----> 1\u001b[0m l\u001b[38;5;241m.\u001b[39mremove((\u001b[38;5;241m2\u001b[39m\u001b[38;5;241m+\u001b[39m\u001b[38;5;241m4\u001b[39mj))\n",
      "\u001b[1;31mValueError\u001b[0m: list.remove(x): x not in list"
     ]
    }
   ],
   "source": [
    "l.remove((2+4j))"
   ]
  },
  {
   "cell_type": "code",
   "execution_count": 204,
   "id": "44caad18-7100-44bb-aa4a-8d375d9065b6",
   "metadata": {},
   "outputs": [],
   "source": [
    "l1.remove((2+4j))"
   ]
  },
  {
   "cell_type": "code",
   "execution_count": 205,
   "id": "3f008057-0a63-4a27-8baa-07fac6180e40",
   "metadata": {},
   "outputs": [
    {
     "data": {
      "text/plain": [
       "[10, 2.3, True, 10, 2.3, 'Ansari', (2+4j), 'Abid', 2.3, True, 'jan']"
      ]
     },
     "execution_count": 205,
     "metadata": {},
     "output_type": "execute_result"
    }
   ],
   "source": [
    "l1"
   ]
  },
  {
   "cell_type": "code",
   "execution_count": 206,
   "id": "6a738a2d-662e-444b-b0ad-4e958f6e1da6",
   "metadata": {},
   "outputs": [
    {
     "data": {
      "text/plain": [
       "[100, 20, 60, 40, 50, 'jan', 'feb', 40, 10, 2.3, True, (2+4j)]"
      ]
     },
     "execution_count": 206,
     "metadata": {},
     "output_type": "execute_result"
    }
   ],
   "source": [
    "l2"
   ]
  },
  {
   "cell_type": "code",
   "execution_count": 207,
   "id": "8fdbceaa-f0b5-4762-948a-c13c79933233",
   "metadata": {},
   "outputs": [],
   "source": [
    "l2.remove('jan')"
   ]
  },
  {
   "cell_type": "code",
   "execution_count": 208,
   "id": "01798221-5a88-4495-99d8-c41c4890d9a6",
   "metadata": {},
   "outputs": [
    {
     "data": {
      "text/plain": [
       "[100, 20, 60, 40, 50, 'feb', 40, 10, 2.3, True, (2+4j)]"
      ]
     },
     "execution_count": 208,
     "metadata": {},
     "output_type": "execute_result"
    }
   ],
   "source": [
    "l2"
   ]
  },
  {
   "cell_type": "code",
   "execution_count": 209,
   "id": "b471b1d6-1a30-4ed8-b26e-72710ed068e0",
   "metadata": {},
   "outputs": [],
   "source": [
    "l2.remove(50)"
   ]
  },
  {
   "cell_type": "code",
   "execution_count": 210,
   "id": "99e7c923-e041-4663-b916-1b2d3dc1c78b",
   "metadata": {},
   "outputs": [
    {
     "data": {
      "text/plain": [
       "[100, 20, 60, 40, 'feb', 40, 10, 2.3, True, (2+4j)]"
      ]
     },
     "execution_count": 210,
     "metadata": {},
     "output_type": "execute_result"
    }
   ],
   "source": [
    "l2"
   ]
  },
  {
   "cell_type": "code",
   "execution_count": 211,
   "id": "61f1d16d-16d2-49e3-91e5-d418837bc13b",
   "metadata": {},
   "outputs": [
    {
     "ename": "ValueError",
     "evalue": "list.remove(x): x not in list",
     "output_type": "error",
     "traceback": [
      "\u001b[1;31m---------------------------------------------------------------------------\u001b[0m",
      "\u001b[1;31mValueError\u001b[0m                                Traceback (most recent call last)",
      "Cell \u001b[1;32mIn[211], line 1\u001b[0m\n\u001b[1;32m----> 1\u001b[0m l2\u001b[38;5;241m.\u001b[39mremove(\u001b[38;5;241m30\u001b[39m)\n",
      "\u001b[1;31mValueError\u001b[0m: list.remove(x): x not in list"
     ]
    }
   ],
   "source": [
    "l2.remove(30)"
   ]
  },
  {
   "cell_type": "code",
   "execution_count": 212,
   "id": "e8f33b2a-cb57-43ee-b119-a3c64d724264",
   "metadata": {},
   "outputs": [
    {
     "data": {
      "text/plain": [
       "[100, 20, 60, 40, 'feb', 40, 10, 2.3, True, (2+4j)]"
      ]
     },
     "execution_count": 212,
     "metadata": {},
     "output_type": "execute_result"
    }
   ],
   "source": [
    "l2"
   ]
  },
  {
   "cell_type": "code",
   "execution_count": 213,
   "id": "168a9053-fe6e-444c-aecd-9f13597a9aa9",
   "metadata": {},
   "outputs": [],
   "source": [
    "l2.remove(100)"
   ]
  },
  {
   "cell_type": "code",
   "execution_count": 214,
   "id": "534a1db6-ed86-49dc-97ed-c50c33be7c3c",
   "metadata": {},
   "outputs": [
    {
     "data": {
      "text/plain": [
       "[20, 60, 40, 'feb', 40, 10, 2.3, True, (2+4j)]"
      ]
     },
     "execution_count": 214,
     "metadata": {},
     "output_type": "execute_result"
    }
   ],
   "source": [
    "l2"
   ]
  },
  {
   "cell_type": "code",
   "execution_count": 215,
   "id": "46ad637d-1528-444b-aa73-1a1c6ce14c35",
   "metadata": {},
   "outputs": [],
   "source": [
    "l2.remove(60)"
   ]
  },
  {
   "cell_type": "code",
   "execution_count": 216,
   "id": "d814351c-abd4-4c23-b51b-cee8e335d194",
   "metadata": {},
   "outputs": [
    {
     "data": {
      "text/plain": [
       "[20, 40, 'feb', 40, 10, 2.3, True, (2+4j)]"
      ]
     },
     "execution_count": 216,
     "metadata": {},
     "output_type": "execute_result"
    }
   ],
   "source": [
    "l2"
   ]
  },
  {
   "cell_type": "code",
   "execution_count": 217,
   "id": "8fc1acd3-3dc1-4922-bb68-ea25020a774e",
   "metadata": {},
   "outputs": [],
   "source": [
    "l2.remove('feb')"
   ]
  },
  {
   "cell_type": "code",
   "execution_count": 218,
   "id": "be71a912-bb28-47cb-9463-649945b17dfa",
   "metadata": {},
   "outputs": [
    {
     "data": {
      "text/plain": [
       "[20, 40, 40, 10, 2.3, True, (2+4j)]"
      ]
     },
     "execution_count": 218,
     "metadata": {},
     "output_type": "execute_result"
    }
   ],
   "source": [
    "l2"
   ]
  },
  {
   "cell_type": "code",
   "execution_count": 219,
   "id": "44ff6ef0-41cb-4609-8af1-48cc5f5d6aed",
   "metadata": {},
   "outputs": [],
   "source": [
    "l2.remove(40)"
   ]
  },
  {
   "cell_type": "code",
   "execution_count": 220,
   "id": "f83dada3-d044-4f7d-9917-eb1e381f9751",
   "metadata": {},
   "outputs": [
    {
     "data": {
      "text/plain": [
       "[20, 40, 10, 2.3, True, (2+4j)]"
      ]
     },
     "execution_count": 220,
     "metadata": {},
     "output_type": "execute_result"
    }
   ],
   "source": [
    "l2"
   ]
  },
  {
   "cell_type": "code",
   "execution_count": 221,
   "id": "ec8da756-3645-4f56-88d4-ac0d36269a1e",
   "metadata": {},
   "outputs": [
    {
     "name": "stdout",
     "output_type": "stream",
     "text": [
      "[20, 40, 10, 2.3, True, (2+4j)]\n"
     ]
    }
   ],
   "source": [
    "print(l2)"
   ]
  },
  {
   "cell_type": "code",
   "execution_count": 222,
   "id": "98217967-4443-4d73-9069-2a8aff5e9863",
   "metadata": {},
   "outputs": [
    {
     "data": {
      "text/plain": [
       "[10, 2.3, True, 10, 2.3, 'Ansari', (2+4j), 'Abid', 2.3, True, 'jan']"
      ]
     },
     "execution_count": 222,
     "metadata": {},
     "output_type": "execute_result"
    }
   ],
   "source": [
    "l1"
   ]
  },
  {
   "cell_type": "code",
   "execution_count": 223,
   "id": "b5a38d5f-3b18-495a-9da5-38ac3bab77e3",
   "metadata": {},
   "outputs": [
    {
     "data": {
      "text/plain": [
       "[10,\n",
       " 2.3,\n",
       " 'Ansari',\n",
       " (2+4j),\n",
       " 'Abid',\n",
       " 2.3,\n",
       " True,\n",
       " 'jan',\n",
       " 10,\n",
       " 2.3,\n",
       " True,\n",
       " (2+4j),\n",
       " 10,\n",
       " 2.3,\n",
       " 'Ansari',\n",
       " (2+4j),\n",
       " 'Abid',\n",
       " 2.3,\n",
       " True,\n",
       " 'jan']"
      ]
     },
     "execution_count": 223,
     "metadata": {},
     "output_type": "execute_result"
    }
   ],
   "source": [
    "l3"
   ]
  },
  {
   "cell_type": "code",
   "execution_count": 224,
   "id": "98cd99a4-db85-4943-945a-224f73580dfb",
   "metadata": {},
   "outputs": [
    {
     "data": {
      "text/plain": [
       "2.3"
      ]
     },
     "execution_count": 224,
     "metadata": {},
     "output_type": "execute_result"
    }
   ],
   "source": [
    "l3.pop(True)"
   ]
  },
  {
   "cell_type": "code",
   "execution_count": 225,
   "id": "f4a3d93e-04ed-4e7d-bce5-6ea0c1d95505",
   "metadata": {},
   "outputs": [
    {
     "data": {
      "text/plain": [
       "[10,\n",
       " 'Ansari',\n",
       " (2+4j),\n",
       " 'Abid',\n",
       " 2.3,\n",
       " True,\n",
       " 'jan',\n",
       " 10,\n",
       " 2.3,\n",
       " True,\n",
       " (2+4j),\n",
       " 10,\n",
       " 2.3,\n",
       " 'Ansari',\n",
       " (2+4j),\n",
       " 'Abid',\n",
       " 2.3,\n",
       " True,\n",
       " 'jan']"
      ]
     },
     "execution_count": 225,
     "metadata": {},
     "output_type": "execute_result"
    }
   ],
   "source": [
    "l3"
   ]
  },
  {
   "cell_type": "code",
   "execution_count": 226,
   "id": "542edb59-9f49-4d4f-87ff-1300d1524ab2",
   "metadata": {},
   "outputs": [
    {
     "data": {
      "text/plain": [
       "'Ansari'"
      ]
     },
     "execution_count": 226,
     "metadata": {},
     "output_type": "execute_result"
    }
   ],
   "source": [
    "l3.pop(True)"
   ]
  },
  {
   "cell_type": "code",
   "execution_count": 227,
   "id": "0c1e5140-2544-41ac-931d-97acedb41bbe",
   "metadata": {},
   "outputs": [
    {
     "ename": "TypeError",
     "evalue": "'str' object cannot be interpreted as an integer",
     "output_type": "error",
     "traceback": [
      "\u001b[1;31m---------------------------------------------------------------------------\u001b[0m",
      "\u001b[1;31mTypeError\u001b[0m                                 Traceback (most recent call last)",
      "Cell \u001b[1;32mIn[227], line 1\u001b[0m\n\u001b[1;32m----> 1\u001b[0m l3\u001b[38;5;241m.\u001b[39mpop(\u001b[38;5;124m'\u001b[39m\u001b[38;5;124mjan\u001b[39m\u001b[38;5;124m'\u001b[39m)\n",
      "\u001b[1;31mTypeError\u001b[0m: 'str' object cannot be interpreted as an integer"
     ]
    }
   ],
   "source": [
    "l3.pop('jan')"
   ]
  },
  {
   "cell_type": "code",
   "execution_count": 228,
   "id": "5c3230e7-96f5-4b52-915c-ec7bb48d2d4a",
   "metadata": {},
   "outputs": [
    {
     "data": {
      "text/plain": [
       "10"
      ]
     },
     "execution_count": 228,
     "metadata": {},
     "output_type": "execute_result"
    }
   ],
   "source": [
    "l3.pop(10)"
   ]
  },
  {
   "cell_type": "code",
   "execution_count": 229,
   "id": "e8fda366-884c-4e70-8a19-53af75bed2af",
   "metadata": {},
   "outputs": [
    {
     "data": {
      "text/plain": [
       "(2+4j)"
      ]
     },
     "execution_count": 229,
     "metadata": {},
     "output_type": "execute_result"
    }
   ],
   "source": [
    "l3.pop(True)"
   ]
  },
  {
   "cell_type": "code",
   "execution_count": 230,
   "id": "ec583fa7-8228-420a-ad92-eba4a00fa6fa",
   "metadata": {},
   "outputs": [
    {
     "data": {
      "text/plain": [
       "[10,\n",
       " 'Abid',\n",
       " 2.3,\n",
       " True,\n",
       " 'jan',\n",
       " 10,\n",
       " 2.3,\n",
       " True,\n",
       " (2+4j),\n",
       " 2.3,\n",
       " 'Ansari',\n",
       " (2+4j),\n",
       " 'Abid',\n",
       " 2.3,\n",
       " True,\n",
       " 'jan']"
      ]
     },
     "execution_count": 230,
     "metadata": {},
     "output_type": "execute_result"
    }
   ],
   "source": [
    "l3"
   ]
  },
  {
   "cell_type": "code",
   "execution_count": 231,
   "id": "210cdf58-144f-462f-8c15-1bc0a626dbd5",
   "metadata": {},
   "outputs": [
    {
     "data": {
      "text/plain": [
       "[10, 2.3, True, 10, 2.3, 'Ansari', (2+4j), 'Abid', 2.3, True, 'jan']"
      ]
     },
     "execution_count": 231,
     "metadata": {},
     "output_type": "execute_result"
    }
   ],
   "source": [
    "l1"
   ]
  },
  {
   "cell_type": "code",
   "execution_count": 232,
   "id": "723044af-6f14-44c7-be3b-67b2dc22bfcc",
   "metadata": {},
   "outputs": [
    {
     "data": {
      "text/plain": [
       "[10, 100, 35, 20, 60, 25, 40, 'jan', 40, 50]"
      ]
     },
     "execution_count": 232,
     "metadata": {},
     "output_type": "execute_result"
    }
   ],
   "source": [
    "l"
   ]
  },
  {
   "cell_type": "code",
   "execution_count": 233,
   "id": "bb2a59ec-1dbf-4adf-9606-7bf381839386",
   "metadata": {},
   "outputs": [
    {
     "ename": "TypeError",
     "evalue": "'<' not supported between instances of 'bool' and 'str'",
     "output_type": "error",
     "traceback": [
      "\u001b[1;31m---------------------------------------------------------------------------\u001b[0m",
      "\u001b[1;31mTypeError\u001b[0m                                 Traceback (most recent call last)",
      "Cell \u001b[1;32mIn[233], line 1\u001b[0m\n\u001b[1;32m----> 1\u001b[0m l1\u001b[38;5;241m.\u001b[39msort(reverse\u001b[38;5;241m=\u001b[39m\u001b[38;5;28;01mTrue\u001b[39;00m)\n",
      "\u001b[1;31mTypeError\u001b[0m: '<' not supported between instances of 'bool' and 'str'"
     ]
    }
   ],
   "source": [
    "l1.sort(reverse=True) # Hyperparameter"
   ]
  },
  {
   "cell_type": "code",
   "execution_count": 234,
   "id": "ffe05250-beb7-40d9-9234-3e76a87c8827",
   "metadata": {},
   "outputs": [
    {
     "data": {
      "text/plain": [
       "[10, 2.3, True, 10, 2.3, 'Ansari', (2+4j), 'Abid', 2.3, True, 'jan']"
      ]
     },
     "execution_count": 234,
     "metadata": {},
     "output_type": "execute_result"
    }
   ],
   "source": [
    "l1"
   ]
  },
  {
   "cell_type": "code",
   "execution_count": 235,
   "id": "130f06af-d688-41f1-8cf3-21bf62bda88e",
   "metadata": {},
   "outputs": [
    {
     "data": {
      "text/plain": [
       "[10, 100, 35, 20, 60, 25, 40, 'jan', 40, 50]"
      ]
     },
     "execution_count": 235,
     "metadata": {},
     "output_type": "execute_result"
    }
   ],
   "source": [
    "l"
   ]
  },
  {
   "cell_type": "code",
   "execution_count": 238,
   "id": "399d3786-f51b-4d4f-be2c-32730604a6bf",
   "metadata": {},
   "outputs": [
    {
     "ename": "TypeError",
     "evalue": "'<' not supported between instances of 'str' and 'int'",
     "output_type": "error",
     "traceback": [
      "\u001b[1;31m---------------------------------------------------------------------------\u001b[0m",
      "\u001b[1;31mTypeError\u001b[0m                                 Traceback (most recent call last)",
      "Cell \u001b[1;32mIn[238], line 1\u001b[0m\n\u001b[1;32m----> 1\u001b[0m l\u001b[38;5;241m.\u001b[39msort() \u001b[38;5;66;03m# parameter\u001b[39;00m\n\u001b[0;32m      2\u001b[0m l\n",
      "\u001b[1;31mTypeError\u001b[0m: '<' not supported between instances of 'str' and 'int'"
     ]
    }
   ],
   "source": [
    "l.sort() # parameter\n",
    "l"
   ]
  },
  {
   "cell_type": "code",
   "execution_count": 237,
   "id": "a9afb5c8-e32c-4deb-89ff-369f838fe21f",
   "metadata": {},
   "outputs": [
    {
     "data": {
      "text/plain": [
       "[10, 20, 25, 35, 40, 60, 100, 'jan', 40, 50]"
      ]
     },
     "execution_count": 237,
     "metadata": {},
     "output_type": "execute_result"
    }
   ],
   "source": [
    "l"
   ]
  },
  {
   "cell_type": "code",
   "execution_count": 244,
   "id": "d04193d4-36e1-48b8-a792-9e606a042879",
   "metadata": {},
   "outputs": [
    {
     "data": {
      "text/plain": [
       "[2, 2.4, True, 'ten', (1+2j)]"
      ]
     },
     "execution_count": 244,
     "metadata": {},
     "output_type": "execute_result"
    }
   ],
   "source": [
    "l4 = [2, 2.4, True, 'ten', 1+2j]\n",
    "l4"
   ]
  },
  {
   "cell_type": "code",
   "execution_count": 245,
   "id": "a9b831f3-93bb-461b-aa2f-37ed0e1e8a16",
   "metadata": {},
   "outputs": [
    {
     "ename": "TypeError",
     "evalue": "'<' not supported between instances of 'str' and 'int'",
     "output_type": "error",
     "traceback": [
      "\u001b[1;31m---------------------------------------------------------------------------\u001b[0m",
      "\u001b[1;31mTypeError\u001b[0m                                 Traceback (most recent call last)",
      "Cell \u001b[1;32mIn[245], line 1\u001b[0m\n\u001b[1;32m----> 1\u001b[0m l4\u001b[38;5;241m.\u001b[39msort()\n",
      "\u001b[1;31mTypeError\u001b[0m: '<' not supported between instances of 'str' and 'int'"
     ]
    }
   ],
   "source": [
    "l4.sort()"
   ]
  },
  {
   "cell_type": "code",
   "execution_count": 246,
   "id": "1986cbd9-2048-4424-ad56-e5afb96c8b4d",
   "metadata": {},
   "outputs": [
    {
     "data": {
      "text/plain": [
       "[10, 20, 25, 35, 40, 60, 100, 'jan', 40, 50]"
      ]
     },
     "execution_count": 246,
     "metadata": {},
     "output_type": "execute_result"
    }
   ],
   "source": [
    "l"
   ]
  },
  {
   "cell_type": "code",
   "execution_count": 247,
   "id": "dc1755a5-e1bf-4d22-b94e-5825d32dc55a",
   "metadata": {},
   "outputs": [],
   "source": [
    "l.reverse()"
   ]
  },
  {
   "cell_type": "code",
   "execution_count": 248,
   "id": "bacc570e-3c5e-4095-ac8b-c1a8c3b97aba",
   "metadata": {},
   "outputs": [
    {
     "data": {
      "text/plain": [
       "[50, 40, 'jan', 100, 60, 40, 35, 25, 20, 10]"
      ]
     },
     "execution_count": 248,
     "metadata": {},
     "output_type": "execute_result"
    }
   ],
   "source": [
    "l"
   ]
  },
  {
   "cell_type": "code",
   "execution_count": 249,
   "id": "1e9c22ba-bb91-42e3-9f09-e7e4d458b2f6",
   "metadata": {},
   "outputs": [
    {
     "data": {
      "text/plain": [
       "[20, 40, 10, 2.3, True, (2+4j)]"
      ]
     },
     "execution_count": 249,
     "metadata": {},
     "output_type": "execute_result"
    }
   ],
   "source": [
    "l2"
   ]
  },
  {
   "cell_type": "code",
   "execution_count": 250,
   "id": "8c3441ea-5b3e-4fc8-8b4d-f54e17b197c6",
   "metadata": {},
   "outputs": [],
   "source": [
    "l2.reverse()"
   ]
  },
  {
   "cell_type": "code",
   "execution_count": 251,
   "id": "fa4c957e-d28a-4a87-8580-badb31e102a6",
   "metadata": {},
   "outputs": [
    {
     "data": {
      "text/plain": [
       "[(2+4j), True, 2.3, 10, 40, 20]"
      ]
     },
     "execution_count": 251,
     "metadata": {},
     "output_type": "execute_result"
    }
   ],
   "source": [
    "l2"
   ]
  },
  {
   "cell_type": "code",
   "execution_count": 252,
   "id": "4b64fbd1-edcb-4abc-bdc2-cb35c7f8a990",
   "metadata": {},
   "outputs": [
    {
     "data": {
      "text/plain": [
       "[True, 2, 2.4, 'ten', (1+2j)]"
      ]
     },
     "execution_count": 252,
     "metadata": {},
     "output_type": "execute_result"
    }
   ],
   "source": [
    "l4"
   ]
  },
  {
   "cell_type": "code",
   "execution_count": 253,
   "id": "718133f2-c63c-4d52-9c7f-527c462bb6dc",
   "metadata": {},
   "outputs": [],
   "source": [
    "l4.reverse()"
   ]
  },
  {
   "cell_type": "code",
   "execution_count": 254,
   "id": "b3d82480-f9f3-4efe-bdfd-038ec1c9c6bf",
   "metadata": {},
   "outputs": [
    {
     "data": {
      "text/plain": [
       "[(1+2j), 'ten', 2.4, 2, True]"
      ]
     },
     "execution_count": 254,
     "metadata": {},
     "output_type": "execute_result"
    }
   ],
   "source": [
    "l4"
   ]
  },
  {
   "cell_type": "code",
   "execution_count": 255,
   "id": "6b62cd7c-7d01-46f3-9210-9f0c97b83f0b",
   "metadata": {},
   "outputs": [
    {
     "data": {
      "text/plain": [
       "[10,\n",
       " 'Abid',\n",
       " 2.3,\n",
       " True,\n",
       " 'jan',\n",
       " 10,\n",
       " 2.3,\n",
       " True,\n",
       " (2+4j),\n",
       " 2.3,\n",
       " 'Ansari',\n",
       " (2+4j),\n",
       " 'Abid',\n",
       " 2.3,\n",
       " True,\n",
       " 'jan']"
      ]
     },
     "execution_count": 255,
     "metadata": {},
     "output_type": "execute_result"
    }
   ],
   "source": [
    "l3"
   ]
  },
  {
   "cell_type": "code",
   "execution_count": 256,
   "id": "2f3f3a26-4a89-4d68-b7e6-2117531a4a15",
   "metadata": {},
   "outputs": [],
   "source": [
    "l3.reverse()"
   ]
  },
  {
   "cell_type": "code",
   "execution_count": 257,
   "id": "88c406d7-9a60-45fb-b186-da1b6c7a6d01",
   "metadata": {},
   "outputs": [
    {
     "data": {
      "text/plain": [
       "['jan',\n",
       " True,\n",
       " 2.3,\n",
       " 'Abid',\n",
       " (2+4j),\n",
       " 'Ansari',\n",
       " 2.3,\n",
       " (2+4j),\n",
       " True,\n",
       " 2.3,\n",
       " 10,\n",
       " 'jan',\n",
       " True,\n",
       " 2.3,\n",
       " 'Abid',\n",
       " 10]"
      ]
     },
     "execution_count": 257,
     "metadata": {},
     "output_type": "execute_result"
    }
   ],
   "source": [
    "l3"
   ]
  },
  {
   "cell_type": "code",
   "execution_count": 258,
   "id": "d999e21e-1dc5-4da1-bbc4-5dd1bf8300d7",
   "metadata": {},
   "outputs": [
    {
     "data": {
      "text/plain": [
       "[50, 40, 'jan', 100, 60, 40, 35, 25, 20, 10]"
      ]
     },
     "execution_count": 258,
     "metadata": {},
     "output_type": "execute_result"
    }
   ],
   "source": [
    "l"
   ]
  },
  {
   "cell_type": "code",
   "execution_count": 260,
   "id": "5c28ae58-6a53-4b21-9429-6a79c5f8123a",
   "metadata": {},
   "outputs": [
    {
     "name": "stdout",
     "output_type": "stream",
     "text": [
      "50\n",
      "40\n",
      "jan\n",
      "100\n",
      "60\n",
      "40\n",
      "35\n",
      "25\n",
      "20\n",
      "10\n"
     ]
    }
   ],
   "source": [
    "print(l[0])\n",
    "print(l[1])\n",
    "print(l[2])\n",
    "print(l[3])\n",
    "print(l[4])\n",
    "print(l[5])\n",
    "print(l[6])\n",
    "print(l[7])\n",
    "print(l[8])\n",
    "print(l[9])"
   ]
  },
  {
   "cell_type": "code",
   "execution_count": 262,
   "id": "83877d00-a48a-445f-9db0-84eb541622f5",
   "metadata": {},
   "outputs": [
    {
     "name": "stdout",
     "output_type": "stream",
     "text": [
      "50\n",
      "40\n",
      "jan\n",
      "100\n",
      "60\n",
      "40\n",
      "35\n",
      "25\n",
      "20\n",
      "10\n"
     ]
    },
    {
     "ename": "IndexError",
     "evalue": "list index out of range",
     "output_type": "error",
     "traceback": [
      "\u001b[1;31m---------------------------------------------------------------------------\u001b[0m",
      "\u001b[1;31mIndexError\u001b[0m                                Traceback (most recent call last)",
      "Cell \u001b[1;32mIn[262], line 11\u001b[0m\n\u001b[0;32m      9\u001b[0m \u001b[38;5;28mprint\u001b[39m(l[\u001b[38;5;241m8\u001b[39m])\n\u001b[0;32m     10\u001b[0m \u001b[38;5;28mprint\u001b[39m(l[\u001b[38;5;241m9\u001b[39m])\n\u001b[1;32m---> 11\u001b[0m \u001b[38;5;28mprint\u001b[39m(l[\u001b[38;5;241m10\u001b[39m])\n",
      "\u001b[1;31mIndexError\u001b[0m: list index out of range"
     ]
    }
   ],
   "source": [
    "print(l[0])\n",
    "print(l[1])\n",
    "print(l[2])\n",
    "print(l[3])\n",
    "print(l[4])\n",
    "print(l[5])\n",
    "print(l[6])\n",
    "print(l[7])\n",
    "print(l[8])\n",
    "print(l[9])\n",
    "print(l[10])"
   ]
  },
  {
   "cell_type": "code",
   "execution_count": 263,
   "id": "ad1db42b-d2ff-4f2f-a214-78bd9eb32100",
   "metadata": {},
   "outputs": [
    {
     "name": "stdout",
     "output_type": "stream",
     "text": [
      "50\n",
      "50\n",
      "50\n",
      "50\n",
      "50\n",
      "50\n",
      "50\n",
      "50\n",
      "50\n",
      "50\n",
      "40\n",
      "40\n",
      "40\n",
      "40\n",
      "40\n",
      "40\n",
      "40\n",
      "40\n",
      "40\n",
      "40\n",
      "jan\n",
      "jan\n",
      "jan\n",
      "jan\n",
      "jan\n",
      "jan\n",
      "jan\n",
      "jan\n",
      "jan\n",
      "jan\n",
      "100\n",
      "100\n",
      "100\n",
      "100\n",
      "100\n",
      "100\n",
      "100\n",
      "100\n",
      "100\n",
      "100\n",
      "60\n",
      "60\n",
      "60\n",
      "60\n",
      "60\n",
      "60\n",
      "60\n",
      "60\n",
      "60\n",
      "60\n",
      "40\n",
      "40\n",
      "40\n",
      "40\n",
      "40\n",
      "40\n",
      "40\n",
      "40\n",
      "40\n",
      "40\n",
      "35\n",
      "35\n",
      "35\n",
      "35\n",
      "35\n",
      "35\n",
      "35\n",
      "35\n",
      "35\n",
      "35\n",
      "25\n",
      "25\n",
      "25\n",
      "25\n",
      "25\n",
      "25\n",
      "25\n",
      "25\n",
      "25\n",
      "25\n",
      "20\n",
      "20\n",
      "20\n",
      "20\n",
      "20\n",
      "20\n",
      "20\n",
      "20\n",
      "20\n",
      "20\n",
      "10\n",
      "10\n",
      "10\n",
      "10\n",
      "10\n",
      "10\n",
      "10\n",
      "10\n",
      "10\n",
      "10\n"
     ]
    }
   ],
   "source": [
    "for i in l:\n",
    "    for j in l:\n",
    "        print(i)"
   ]
  },
  {
   "cell_type": "code",
   "execution_count": 264,
   "id": "b85d235c-20f7-4280-a3a7-d93843a6ab91",
   "metadata": {},
   "outputs": [
    {
     "name": "stdout",
     "output_type": "stream",
     "text": [
      "50\n",
      "50\n",
      "50\n",
      "50\n",
      "50\n",
      "50\n",
      "50\n",
      "50\n",
      "50\n",
      "50\n",
      "50\n",
      "40\n",
      "40\n",
      "40\n",
      "40\n",
      "40\n",
      "40\n",
      "40\n",
      "40\n",
      "40\n",
      "40\n",
      "40\n",
      "jan\n",
      "jan\n",
      "jan\n",
      "jan\n",
      "jan\n",
      "jan\n",
      "jan\n",
      "jan\n",
      "jan\n",
      "jan\n",
      "jan\n",
      "100\n",
      "100\n",
      "100\n",
      "100\n",
      "100\n",
      "100\n",
      "100\n",
      "100\n",
      "100\n",
      "100\n",
      "100\n",
      "60\n",
      "60\n",
      "60\n",
      "60\n",
      "60\n",
      "60\n",
      "60\n",
      "60\n",
      "60\n",
      "60\n",
      "60\n",
      "40\n",
      "40\n",
      "40\n",
      "40\n",
      "40\n",
      "40\n",
      "40\n",
      "40\n",
      "40\n",
      "40\n",
      "40\n",
      "35\n",
      "35\n",
      "35\n",
      "35\n",
      "35\n",
      "35\n",
      "35\n",
      "35\n",
      "35\n",
      "35\n",
      "35\n",
      "25\n",
      "25\n",
      "25\n",
      "25\n",
      "25\n",
      "25\n",
      "25\n",
      "25\n",
      "25\n",
      "25\n",
      "25\n",
      "20\n",
      "20\n",
      "20\n",
      "20\n",
      "20\n",
      "20\n",
      "20\n",
      "20\n",
      "20\n",
      "20\n",
      "20\n",
      "10\n",
      "10\n",
      "10\n",
      "10\n",
      "10\n",
      "10\n",
      "10\n",
      "10\n",
      "10\n",
      "10\n",
      "10\n"
     ]
    }
   ],
   "source": [
    "for i in l:\n",
    "    for j in l1:\n",
    "        print(i)"
   ]
  },
  {
   "cell_type": "code",
   "execution_count": 265,
   "id": "fb3b4cd0-fea2-4809-a37d-a61983465181",
   "metadata": {},
   "outputs": [
    {
     "name": "stdout",
     "output_type": "stream",
     "text": [
      "50\n",
      "40\n",
      "jan\n",
      "100\n",
      "60\n",
      "40\n",
      "35\n",
      "25\n",
      "20\n",
      "10\n"
     ]
    }
   ],
   "source": [
    "for i in l:\n",
    "    print(i)"
   ]
  },
  {
   "cell_type": "code",
   "execution_count": 266,
   "id": "51c0ecae-53bb-4f97-a2e1-0e3aca46648a",
   "metadata": {},
   "outputs": [
    {
     "data": {
      "text/plain": [
       "[50, 40, 'jan', 100, 60, 40, 35, 25, 20, 10]"
      ]
     },
     "execution_count": 266,
     "metadata": {},
     "output_type": "execute_result"
    }
   ],
   "source": [
    "l"
   ]
  },
  {
   "cell_type": "code",
   "execution_count": 267,
   "id": "ca18b605-337b-4c1c-beda-8436178b0991",
   "metadata": {},
   "outputs": [
    {
     "name": "stdout",
     "output_type": "stream",
     "text": [
      "[10, 2.3, True, 10, 2.3, 'Ansari', (2+4j), 'Abid', 2.3, True, 'jan']\n",
      "[10, 2.3, True, 10, 2.3, 'Ansari', (2+4j), 'Abid', 2.3, True, 'jan']\n",
      "[10, 2.3, True, 10, 2.3, 'Ansari', (2+4j), 'Abid', 2.3, True, 'jan']\n",
      "[10, 2.3, True, 10, 2.3, 'Ansari', (2+4j), 'Abid', 2.3, True, 'jan']\n",
      "[10, 2.3, True, 10, 2.3, 'Ansari', (2+4j), 'Abid', 2.3, True, 'jan']\n",
      "[10, 2.3, True, 10, 2.3, 'Ansari', (2+4j), 'Abid', 2.3, True, 'jan']\n",
      "[10, 2.3, True, 10, 2.3, 'Ansari', (2+4j), 'Abid', 2.3, True, 'jan']\n",
      "[10, 2.3, True, 10, 2.3, 'Ansari', (2+4j), 'Abid', 2.3, True, 'jan']\n",
      "[10, 2.3, True, 10, 2.3, 'Ansari', (2+4j), 'Abid', 2.3, True, 'jan']\n",
      "[10, 2.3, True, 10, 2.3, 'Ansari', (2+4j), 'Abid', 2.3, True, 'jan']\n",
      "[10, 2.3, True, 10, 2.3, 'Ansari', (2+4j), 'Abid', 2.3, True, 'jan']\n"
     ]
    }
   ],
   "source": [
    "for i in l1:\n",
    "    print(l1)"
   ]
  },
  {
   "cell_type": "code",
   "execution_count": 268,
   "id": "bca3b2ce-0ad9-470e-b16d-b30eb1c1b1a0",
   "metadata": {},
   "outputs": [
    {
     "data": {
      "text/plain": [
       "[50, 40, 'jan', 100, 60, 40, 35, 25, 20, 10]"
      ]
     },
     "execution_count": 268,
     "metadata": {},
     "output_type": "execute_result"
    }
   ],
   "source": [
    "l"
   ]
  },
  {
   "cell_type": "code",
   "execution_count": 269,
   "id": "e9013013-ef3f-4e3d-ae88-a81338e1b97f",
   "metadata": {},
   "outputs": [
    {
     "data": {
      "text/plain": [
       "'jan'"
      ]
     },
     "execution_count": 269,
     "metadata": {},
     "output_type": "execute_result"
    }
   ],
   "source": [
    "l[2]"
   ]
  },
  {
   "cell_type": "code",
   "execution_count": 270,
   "id": "f6c3bdbb-7099-4b9a-b840-300cc39ea210",
   "metadata": {},
   "outputs": [
    {
     "data": {
      "text/plain": [
       "[(2+4j), True, 2.3, 10, 40, 20]"
      ]
     },
     "execution_count": 270,
     "metadata": {},
     "output_type": "execute_result"
    }
   ],
   "source": [
    "l2"
   ]
  },
  {
   "cell_type": "code",
   "execution_count": 271,
   "id": "fca65d1d-8ae0-4aac-a900-1771fab87a7b",
   "metadata": {},
   "outputs": [
    {
     "data": {
      "text/plain": [
       "['jan',\n",
       " True,\n",
       " 2.3,\n",
       " 'Abid',\n",
       " (2+4j),\n",
       " 'Ansari',\n",
       " 2.3,\n",
       " (2+4j),\n",
       " True,\n",
       " 2.3,\n",
       " 10,\n",
       " 'jan',\n",
       " True,\n",
       " 2.3,\n",
       " 'Abid',\n",
       " 10]"
      ]
     },
     "execution_count": 271,
     "metadata": {},
     "output_type": "execute_result"
    }
   ],
   "source": [
    "l3"
   ]
  },
  {
   "cell_type": "code",
   "execution_count": 272,
   "id": "f7fdf7d7-5245-4209-b5f4-7b7294414f5d",
   "metadata": {},
   "outputs": [
    {
     "data": {
      "text/plain": [
       "[(1+2j), 'ten', 2.4, 2, True]"
      ]
     },
     "execution_count": 272,
     "metadata": {},
     "output_type": "execute_result"
    }
   ],
   "source": [
    "l4"
   ]
  },
  {
   "cell_type": "code",
   "execution_count": 273,
   "id": "1177ab90-4677-49ba-904d-3b18a194e772",
   "metadata": {},
   "outputs": [
    {
     "data": {
      "text/plain": [
       "[10, 2.3, True, 10, 2.3, 'Ansari', (2+4j), 'Abid', 2.3, True, 'jan']"
      ]
     },
     "execution_count": 273,
     "metadata": {},
     "output_type": "execute_result"
    }
   ],
   "source": [
    "l1"
   ]
  },
  {
   "cell_type": "code",
   "execution_count": 276,
   "id": "6c7bb658-9725-4b0d-915b-55a3f81ef643",
   "metadata": {},
   "outputs": [
    {
     "ename": "TypeError",
     "evalue": "'int' object is not subscriptable",
     "output_type": "error",
     "traceback": [
      "\u001b[1;31m---------------------------------------------------------------------------\u001b[0m",
      "\u001b[1;31mTypeError\u001b[0m                                 Traceback (most recent call last)",
      "Cell \u001b[1;32mIn[276], line 1\u001b[0m\n\u001b[1;32m----> 1\u001b[0m \u001b[38;5;28mprint\u001b[39m(l[\u001b[38;5;241m6\u001b[39m][\u001b[38;5;241m0\u001b[39m])\n\u001b[0;32m      2\u001b[0m \u001b[38;5;28mprint\u001b[39m(l[\u001b[38;5;241m6\u001b[39m][\u001b[38;5;241m1\u001b[39m])\n\u001b[0;32m      3\u001b[0m \u001b[38;5;28mprint\u001b[39m(l[\u001b[38;5;241m6\u001b[39m][\u001b[38;5;241m2\u001b[39m])\n",
      "\u001b[1;31mTypeError\u001b[0m: 'int' object is not subscriptable"
     ]
    }
   ],
   "source": [
    "print(l[6][0])\n",
    "print(l[6][1])\n",
    "print(l[6][2])\n",
    "print(l[6][3])\n",
    "print(l[6][4])\n",
    "print(l[6][5])"
   ]
  },
  {
   "cell_type": "code",
   "execution_count": 277,
   "id": "80d4bfbf-88ca-4b72-9d60-74217a166ba2",
   "metadata": {},
   "outputs": [
    {
     "data": {
      "text/plain": [
       "[(2+4j), True, 2.3, 10, 40, 20]"
      ]
     },
     "execution_count": 277,
     "metadata": {},
     "output_type": "execute_result"
    }
   ],
   "source": [
    "l2"
   ]
  },
  {
   "cell_type": "code",
   "execution_count": 278,
   "id": "eb442c8c-416a-412d-a215-6200ab87d8e5",
   "metadata": {},
   "outputs": [
    {
     "name": "stdout",
     "output_type": "stream",
     "text": [
      "(2+4j)\n",
      "True\n",
      "2.3\n",
      "10\n",
      "40\n",
      "20\n"
     ]
    }
   ],
   "source": [
    "for i in l2:\n",
    "    print(i)"
   ]
  },
  {
   "cell_type": "code",
   "execution_count": 279,
   "id": "181a2f8f-1bd2-426d-920e-35fe8174d7b2",
   "metadata": {},
   "outputs": [
    {
     "name": "stdout",
     "output_type": "stream",
     "text": [
      "(0, (2+4j))\n",
      "(1, True)\n",
      "(2, 2.3)\n",
      "(3, 10)\n",
      "(4, 40)\n",
      "(5, 20)\n"
     ]
    }
   ],
   "source": [
    "for i in enumerate(l2):\n",
    "    print(i)"
   ]
  },
  {
   "cell_type": "code",
   "execution_count": 280,
   "id": "c192afef-107e-48c7-88aa-95a127ac841c",
   "metadata": {},
   "outputs": [
    {
     "data": {
      "text/plain": [
       "[50, 40, 'jan', 100, 60, 40, 35, 25, 20, 10]"
      ]
     },
     "execution_count": 280,
     "metadata": {},
     "output_type": "execute_result"
    }
   ],
   "source": [
    "l"
   ]
  },
  {
   "cell_type": "code",
   "execution_count": 281,
   "id": "d58f21a7-58e2-4b7b-8620-32c227937a9f",
   "metadata": {},
   "outputs": [
    {
     "name": "stdout",
     "output_type": "stream",
     "text": [
      "(0, 50)\n",
      "(1, 40)\n",
      "(2, 'jan')\n",
      "(3, 100)\n",
      "(4, 60)\n",
      "(5, 40)\n",
      "(6, 35)\n",
      "(7, 25)\n",
      "(8, 20)\n",
      "(9, 10)\n"
     ]
    }
   ],
   "source": [
    "for i in enumerate(l):\n",
    "    print(i)"
   ]
  },
  {
   "cell_type": "code",
   "execution_count": 282,
   "id": "2b9895d2-c413-40b4-8a94-41df1616fb53",
   "metadata": {},
   "outputs": [
    {
     "data": {
      "text/plain": [
       "[(2+4j), True, 2.3, 10, 40, 20]"
      ]
     },
     "execution_count": 282,
     "metadata": {},
     "output_type": "execute_result"
    }
   ],
   "source": [
    "l2"
   ]
  },
  {
   "cell_type": "code",
   "execution_count": 283,
   "id": "7181c9dd-1334-458e-b969-154ed16adee0",
   "metadata": {},
   "outputs": [
    {
     "name": "stdout",
     "output_type": "stream",
     "text": [
      "(0, (2+4j))\n",
      "(1, True)\n",
      "(2, 2.3)\n",
      "(3, 10)\n",
      "(4, 40)\n",
      "(5, 20)\n"
     ]
    }
   ],
   "source": [
    "for i in enumerate(l2):\n",
    "    print(i)"
   ]
  },
  {
   "cell_type": "code",
   "execution_count": 284,
   "id": "bf9090da-c10e-453f-9b5e-f8e50287069f",
   "metadata": {},
   "outputs": [],
   "source": [
    "l1 = [1,2,3,4,5]"
   ]
  },
  {
   "cell_type": "code",
   "execution_count": 285,
   "id": "74f781b7-189a-482d-9ca5-ee5c90d0d50e",
   "metadata": {},
   "outputs": [
    {
     "data": {
      "text/plain": [
       "True"
      ]
     },
     "execution_count": 285,
     "metadata": {},
     "output_type": "execute_result"
    }
   ],
   "source": [
    "all(l1)"
   ]
  },
  {
   "cell_type": "code",
   "execution_count": 286,
   "id": "5d251ea9-fed5-4ae7-8ea8-f714d799933d",
   "metadata": {},
   "outputs": [],
   "source": [
    "L1 = [1,2,3,4,5]"
   ]
  },
  {
   "cell_type": "code",
   "execution_count": 287,
   "id": "74d24833-055f-461f-8d87-24f810dcafaf",
   "metadata": {},
   "outputs": [
    {
     "data": {
      "text/plain": [
       "True"
      ]
     },
     "execution_count": 287,
     "metadata": {},
     "output_type": "execute_result"
    }
   ],
   "source": [
    "all(L1)"
   ]
  },
  {
   "cell_type": "code",
   "execution_count": 288,
   "id": "af1d26d3-921c-4127-adee-e390d5d4690e",
   "metadata": {},
   "outputs": [
    {
     "data": {
      "text/plain": [
       "True"
      ]
     },
     "execution_count": 288,
     "metadata": {},
     "output_type": "execute_result"
    }
   ],
   "source": [
    "any(l1)"
   ]
  },
  {
   "cell_type": "code",
   "execution_count": 289,
   "id": "78409bd5-d949-4903-ba1b-4f0ddd75d64c",
   "metadata": {},
   "outputs": [
    {
     "ename": "NameError",
     "evalue": "name 'Any' is not defined",
     "output_type": "error",
     "traceback": [
      "\u001b[1;31m---------------------------------------------------------------------------\u001b[0m",
      "\u001b[1;31mNameError\u001b[0m                                 Traceback (most recent call last)",
      "Cell \u001b[1;32mIn[289], line 1\u001b[0m\n\u001b[1;32m----> 1\u001b[0m Any(L1)\n",
      "\u001b[1;31mNameError\u001b[0m: name 'Any' is not defined"
     ]
    }
   ],
   "source": [
    "Any(L1)"
   ]
  },
  {
   "cell_type": "code",
   "execution_count": 290,
   "id": "26883b19-fa96-47ab-a688-81ce1007419d",
   "metadata": {},
   "outputs": [
    {
     "data": {
      "text/plain": [
       "True"
      ]
     },
     "execution_count": 290,
     "metadata": {},
     "output_type": "execute_result"
    }
   ],
   "source": [
    "any(L1)"
   ]
  },
  {
   "cell_type": "code",
   "execution_count": 291,
   "id": "ef3a7524-09cc-46d1-bd9f-d71a62f21bad",
   "metadata": {},
   "outputs": [],
   "source": [
    "L2 = [1,2,3,4]"
   ]
  },
  {
   "cell_type": "code",
   "execution_count": 292,
   "id": "2235b35f-e5ec-4d17-a834-01d2edb8aa2a",
   "metadata": {},
   "outputs": [
    {
     "ename": "TypeError",
     "evalue": "'builtin_function_or_method' object is not subscriptable",
     "output_type": "error",
     "traceback": [
      "\u001b[1;31m---------------------------------------------------------------------------\u001b[0m",
      "\u001b[1;31mTypeError\u001b[0m                                 Traceback (most recent call last)",
      "Cell \u001b[1;32mIn[292], line 1\u001b[0m\n\u001b[1;32m----> 1\u001b[0m \u001b[38;5;28mall\u001b[39m[l2]\n",
      "\u001b[1;31mTypeError\u001b[0m: 'builtin_function_or_method' object is not subscriptable"
     ]
    }
   ],
   "source": [
    "all[l2]"
   ]
  },
  {
   "cell_type": "code",
   "execution_count": 293,
   "id": "0248bcfd-d295-4ae8-93c4-3449b6645393",
   "metadata": {},
   "outputs": [
    {
     "ename": "TypeError",
     "evalue": "'builtin_function_or_method' object is not subscriptable",
     "output_type": "error",
     "traceback": [
      "\u001b[1;31m---------------------------------------------------------------------------\u001b[0m",
      "\u001b[1;31mTypeError\u001b[0m                                 Traceback (most recent call last)",
      "Cell \u001b[1;32mIn[293], line 1\u001b[0m\n\u001b[1;32m----> 1\u001b[0m \u001b[38;5;28mall\u001b[39m[L2]\n",
      "\u001b[1;31mTypeError\u001b[0m: 'builtin_function_or_method' object is not subscriptable"
     ]
    }
   ],
   "source": [
    "all[L2]"
   ]
  },
  {
   "cell_type": "code",
   "execution_count": 294,
   "id": "a92f6fe2-5585-460d-aa5b-17d669613490",
   "metadata": {},
   "outputs": [],
   "source": [
    "l2 = [1,2,3,4]"
   ]
  },
  {
   "cell_type": "code",
   "execution_count": 295,
   "id": "e3a6968c-529c-4243-b55f-9d57d110817c",
   "metadata": {},
   "outputs": [
    {
     "data": {
      "text/plain": [
       "True"
      ]
     },
     "execution_count": 295,
     "metadata": {},
     "output_type": "execute_result"
    }
   ],
   "source": [
    "all(l2)"
   ]
  },
  {
   "cell_type": "code",
   "execution_count": 296,
   "id": "f85e4ef2-ecce-433f-94d2-cfe95a8bd586",
   "metadata": {},
   "outputs": [
    {
     "data": {
      "text/plain": [
       "True"
      ]
     },
     "execution_count": 296,
     "metadata": {},
     "output_type": "execute_result"
    }
   ],
   "source": [
    "any(l2)"
   ]
  },
  {
   "cell_type": "code",
   "execution_count": 297,
   "id": "0798eca0-7694-4870-a3ed-22df2bc93e65",
   "metadata": {},
   "outputs": [],
   "source": [
    "l3 = [1,2,3,4,5]"
   ]
  },
  {
   "cell_type": "code",
   "execution_count": 298,
   "id": "78b86175-4285-4606-a1a2-9bdfd48251bf",
   "metadata": {},
   "outputs": [
    {
     "data": {
      "text/plain": [
       "True"
      ]
     },
     "execution_count": 298,
     "metadata": {},
     "output_type": "execute_result"
    }
   ],
   "source": [
    "all(l3)"
   ]
  },
  {
   "cell_type": "code",
   "execution_count": 299,
   "id": "69862f78-8ea3-45be-a533-52539cccd757",
   "metadata": {},
   "outputs": [
    {
     "data": {
      "text/plain": [
       "True"
      ]
     },
     "execution_count": 299,
     "metadata": {},
     "output_type": "execute_result"
    }
   ],
   "source": [
    "any(l3)"
   ]
  }
 ],
 "metadata": {
  "kernelspec": {
   "display_name": "Python [conda env:base] *",
   "language": "python",
   "name": "conda-base-py"
  },
  "language_info": {
   "codemirror_mode": {
    "name": "ipython",
    "version": 3
   },
   "file_extension": ".py",
   "mimetype": "text/x-python",
   "name": "python",
   "nbconvert_exporter": "python",
   "pygments_lexer": "ipython3",
   "version": "3.13.5"
  }
 },
 "nbformat": 4,
 "nbformat_minor": 5
}
