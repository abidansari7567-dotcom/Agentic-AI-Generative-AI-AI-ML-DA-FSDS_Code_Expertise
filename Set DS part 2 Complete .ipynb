{
 "cells": [
  {
   "cell_type": "code",
   "execution_count": 1,
   "id": "abf7cca3-7702-4edb-9438-781e22059c32",
   "metadata": {},
   "outputs": [],
   "source": [
    "a = {1,2,3,4,5}\n",
    "b = {4,5,6,7,8}\n",
    "c = {8,9,10}"
   ]
  },
  {
   "cell_type": "code",
   "execution_count": 2,
   "id": "ca27dd6c-95f5-4b36-8f6d-ba70a35fa8aa",
   "metadata": {},
   "outputs": [
    {
     "data": {
      "text/plain": [
       "{1, 2, 3, 6, 7, 8}"
      ]
     },
     "execution_count": 2,
     "metadata": {},
     "output_type": "execute_result"
    }
   ],
   "source": [
    "a.symmetric_difference(b)"
   ]
  },
  {
   "cell_type": "code",
   "execution_count": 3,
   "id": "128faede-4b18-47bf-b79a-520acd96543b",
   "metadata": {},
   "outputs": [
    {
     "ename": "NameError",
     "evalue": "name 'C' is not defined",
     "output_type": "error",
     "traceback": [
      "\u001b[1;31m---------------------------------------------------------------------------\u001b[0m",
      "\u001b[1;31mNameError\u001b[0m                                 Traceback (most recent call last)",
      "Cell \u001b[1;32mIn[3], line 1\u001b[0m\n\u001b[1;32m----> 1\u001b[0m b\u001b[38;5;241m^\u001b[39mC\n",
      "\u001b[1;31mNameError\u001b[0m: name 'C' is not defined"
     ]
    }
   ],
   "source": [
    "b^C"
   ]
  },
  {
   "cell_type": "code",
   "execution_count": 5,
   "id": "95cf71ba-d52b-4a46-b8d8-b3038062a776",
   "metadata": {},
   "outputs": [
    {
     "data": {
      "text/plain": [
       "{4, 5, 6, 7, 9, 10}"
      ]
     },
     "execution_count": 5,
     "metadata": {},
     "output_type": "execute_result"
    }
   ],
   "source": [
    "b.symmetric_difference(c)"
   ]
  },
  {
   "cell_type": "code",
   "execution_count": 6,
   "id": "25d0dc25-03a6-4307-a4ee-471ebb12e820",
   "metadata": {},
   "outputs": [
    {
     "data": {
      "text/plain": [
       "{4, 5, 6, 7, 9, 10}"
      ]
     },
     "execution_count": 6,
     "metadata": {},
     "output_type": "execute_result"
    }
   ],
   "source": [
    "b^c"
   ]
  },
  {
   "cell_type": "code",
   "execution_count": 7,
   "id": "5ba68ccd-7408-4a9b-a723-5bebcff13e65",
   "metadata": {},
   "outputs": [
    {
     "data": {
      "text/plain": [
       "{1, 2, 3, 4, 5, 8, 9, 10}"
      ]
     },
     "execution_count": 7,
     "metadata": {},
     "output_type": "execute_result"
    }
   ],
   "source": [
    "a^c"
   ]
  },
  {
   "cell_type": "code",
   "execution_count": 8,
   "id": "2756e6e5-f249-471c-bd00-256dd19d2b0e",
   "metadata": {},
   "outputs": [],
   "source": [
    "a = {1,2,3,4,5}\n",
    "b = {4,5,6,7,8}\n",
    "c = {8,9,10,11,12}\n",
    "d = {11,12,13}"
   ]
  },
  {
   "cell_type": "code",
   "execution_count": 9,
   "id": "4f6efcb2-36ab-449f-a59c-d2f38e232f72",
   "metadata": {},
   "outputs": [
    {
     "data": {
      "text/plain": [
       "{1, 2, 3, 6, 7, 8}"
      ]
     },
     "execution_count": 9,
     "metadata": {},
     "output_type": "execute_result"
    }
   ],
   "source": [
    "a^b"
   ]
  },
  {
   "cell_type": "code",
   "execution_count": 10,
   "id": "68334636-c704-44bb-86e0-149b790eeb10",
   "metadata": {},
   "outputs": [
    {
     "data": {
      "text/plain": [
       "{4, 5, 6, 7, 9, 10, 11, 12}"
      ]
     },
     "execution_count": 10,
     "metadata": {},
     "output_type": "execute_result"
    }
   ],
   "source": [
    "b^c"
   ]
  },
  {
   "cell_type": "code",
   "execution_count": 11,
   "id": "f6f9801b-216b-43e1-9b7e-36a4d17936f5",
   "metadata": {},
   "outputs": [
    {
     "data": {
      "text/plain": [
       "{1, 2, 3, 4, 5, 8, 9, 10, 11, 12}"
      ]
     },
     "execution_count": 11,
     "metadata": {},
     "output_type": "execute_result"
    }
   ],
   "source": [
    "c^a"
   ]
  },
  {
   "cell_type": "code",
   "execution_count": 12,
   "id": "f7114937-0c9c-492b-bed8-af584d7d0102",
   "metadata": {},
   "outputs": [
    {
     "ename": "NameError",
     "evalue": "name 'C' is not defined",
     "output_type": "error",
     "traceback": [
      "\u001b[1;31m---------------------------------------------------------------------------\u001b[0m",
      "\u001b[1;31mNameError\u001b[0m                                 Traceback (most recent call last)",
      "Cell \u001b[1;32mIn[12], line 1\u001b[0m\n\u001b[1;32m----> 1\u001b[0m C\u001b[38;5;241m^\u001b[39md\n",
      "\u001b[1;31mNameError\u001b[0m: name 'C' is not defined"
     ]
    }
   ],
   "source": [
    "C^d"
   ]
  },
  {
   "cell_type": "code",
   "execution_count": 13,
   "id": "c1ac163a-dde4-4970-8a39-526afa5a0351",
   "metadata": {},
   "outputs": [
    {
     "data": {
      "text/plain": [
       "{8, 9, 10, 13}"
      ]
     },
     "execution_count": 13,
     "metadata": {},
     "output_type": "execute_result"
    }
   ],
   "source": [
    "c^d"
   ]
  },
  {
   "cell_type": "code",
   "execution_count": 14,
   "id": "3b43a2ce-59e3-4826-ba73-11e9b923b2d9",
   "metadata": {},
   "outputs": [
    {
     "name": "stdout",
     "output_type": "stream",
     "text": [
      "{1, 2, 3, 4, 5}\n",
      "{4, 5, 6, 7, 8}\n",
      "{8, 9, 10, 11, 12}\n"
     ]
    }
   ],
   "source": [
    "print(a)\n",
    "print(b)\n",
    "print(c)"
   ]
  },
  {
   "cell_type": "code",
   "execution_count": 15,
   "id": "d1553678-d616-41fc-9e53-9dd682de0abe",
   "metadata": {},
   "outputs": [],
   "source": [
    "a.symmetric_difference_update(b)"
   ]
  },
  {
   "cell_type": "code",
   "execution_count": 16,
   "id": "5cf1dfab-abee-42b3-9920-fb0c62a57ad3",
   "metadata": {},
   "outputs": [
    {
     "data": {
      "text/plain": [
       "{1, 2, 3, 6, 7, 8}"
      ]
     },
     "execution_count": 16,
     "metadata": {},
     "output_type": "execute_result"
    }
   ],
   "source": [
    "a"
   ]
  },
  {
   "cell_type": "code",
   "execution_count": 17,
   "id": "c543fef9-6a5c-49bb-b728-64d1d4056544",
   "metadata": {},
   "outputs": [],
   "source": [
    "b.symmetric_difference_update(c)"
   ]
  },
  {
   "cell_type": "code",
   "execution_count": 18,
   "id": "94b6b738-e941-4ea5-8663-9b84229715b3",
   "metadata": {},
   "outputs": [
    {
     "data": {
      "text/plain": [
       "{4, 5, 6, 7, 9, 10, 11, 12}"
      ]
     },
     "execution_count": 18,
     "metadata": {},
     "output_type": "execute_result"
    }
   ],
   "source": [
    "b"
   ]
  },
  {
   "cell_type": "code",
   "execution_count": 19,
   "id": "59df0b34-ea1d-4e39-a9aa-eccf0d27bd99",
   "metadata": {},
   "outputs": [
    {
     "name": "stdout",
     "output_type": "stream",
     "text": [
      "{1, 2, 3, 6, 7, 8}\n",
      "{4, 5, 6, 7, 9, 10, 11, 12}\n",
      "{8, 9, 10, 11, 12}\n",
      "{11, 12, 13}\n"
     ]
    }
   ],
   "source": [
    "print(a)\n",
    "print(b)\n",
    "print(c)\n",
    "print(d)"
   ]
  },
  {
   "cell_type": "markdown",
   "id": "168b4b5b-0b56-4c36-a510-4f00951a0a4c",
   "metadata": {},
   "source": [
    "# Superset, subset, disjoint"
   ]
  },
  {
   "cell_type": "code",
   "execution_count": 20,
   "id": "be79e1b1-5435-4ce4-8796-fec12c7fe152",
   "metadata": {},
   "outputs": [],
   "source": [
    "s4 = {1,2,3,4,5,6,7,8,9}\n",
    "s5 = {3,4,5,6,7,8}\n",
    "s6 = {10,20,30,40}"
   ]
  },
  {
   "cell_type": "code",
   "execution_count": 21,
   "id": "fcd7bc37-cd11-45f8-b317-1db8362fef18",
   "metadata": {},
   "outputs": [
    {
     "data": {
      "text/plain": [
       "True"
      ]
     },
     "execution_count": 21,
     "metadata": {},
     "output_type": "execute_result"
    }
   ],
   "source": [
    "s4.issuperset(s5)"
   ]
  },
  {
   "cell_type": "code",
   "execution_count": 22,
   "id": "f39e4836-cbe3-4b5a-b094-36a373a935c3",
   "metadata": {},
   "outputs": [
    {
     "data": {
      "text/plain": [
       "True"
      ]
     },
     "execution_count": 22,
     "metadata": {},
     "output_type": "execute_result"
    }
   ],
   "source": [
    "s5.issubset(s4)"
   ]
  },
  {
   "cell_type": "code",
   "execution_count": 23,
   "id": "ed4193c4-91ba-412c-abe7-32848339831f",
   "metadata": {},
   "outputs": [
    {
     "data": {
      "text/plain": [
       "True"
      ]
     },
     "execution_count": 23,
     "metadata": {},
     "output_type": "execute_result"
    }
   ],
   "source": [
    "s6.isdisjoint(s4)"
   ]
  },
  {
   "cell_type": "code",
   "execution_count": 24,
   "id": "48962120-f5fc-480c-a99b-123ef7eec10e",
   "metadata": {},
   "outputs": [
    {
     "data": {
      "text/plain": [
       "True"
      ]
     },
     "execution_count": 24,
     "metadata": {},
     "output_type": "execute_result"
    }
   ],
   "source": [
    "s5.isdisjoint(s6)"
   ]
  },
  {
   "cell_type": "code",
   "execution_count": 25,
   "id": "541630db-6bed-45aa-8b7e-61868bfca25d",
   "metadata": {},
   "outputs": [
    {
     "data": {
      "text/plain": [
       "False"
      ]
     },
     "execution_count": 25,
     "metadata": {},
     "output_type": "execute_result"
    }
   ],
   "source": [
    "s4.issuperset(s6)"
   ]
  },
  {
   "cell_type": "code",
   "execution_count": 26,
   "id": "94fb3b63-5a76-4f9f-ba11-4b42766fa8b0",
   "metadata": {},
   "outputs": [
    {
     "data": {
      "text/plain": [
       "False"
      ]
     },
     "execution_count": 26,
     "metadata": {},
     "output_type": "execute_result"
    }
   ],
   "source": [
    "s5.issuperset(s6)"
   ]
  },
  {
   "cell_type": "code",
   "execution_count": 27,
   "id": "2c09303f-b267-4988-af76-5c53be9b849d",
   "metadata": {},
   "outputs": [
    {
     "data": {
      "text/plain": [
       "False"
      ]
     },
     "execution_count": 27,
     "metadata": {},
     "output_type": "execute_result"
    }
   ],
   "source": [
    "s6.issubset(s5)"
   ]
  },
  {
   "cell_type": "code",
   "execution_count": 28,
   "id": "f8077766-824a-4aff-a2b8-b4ca96a9e5fc",
   "metadata": {},
   "outputs": [
    {
     "data": {
      "text/plain": [
       "False"
      ]
     },
     "execution_count": 28,
     "metadata": {},
     "output_type": "execute_result"
    }
   ],
   "source": [
    "s4.isdisjoint(s5)"
   ]
  },
  {
   "cell_type": "code",
   "execution_count": 29,
   "id": "0ee1eee0-7dd1-4a87-a1d6-d49c90002f8a",
   "metadata": {},
   "outputs": [
    {
     "data": {
      "text/plain": [
       "False"
      ]
     },
     "execution_count": 29,
     "metadata": {},
     "output_type": "execute_result"
    }
   ],
   "source": [
    "s6.issubset(s4)"
   ]
  },
  {
   "cell_type": "code",
   "execution_count": 30,
   "id": "c5ddb6a1-4881-4bf7-808a-ae066c23278a",
   "metadata": {},
   "outputs": [],
   "source": [
    "s7 = {1,2,3,4,5,6,7,8,9}\n",
    "s8 = {15,25,36}\n",
    "s9 = {10,20,30,40}"
   ]
  },
  {
   "cell_type": "code",
   "execution_count": 32,
   "id": "6b0980e9-0374-488b-a2dc-fee4cc1b194b",
   "metadata": {},
   "outputs": [
    {
     "data": {
      "text/plain": [
       "False"
      ]
     },
     "execution_count": 32,
     "metadata": {},
     "output_type": "execute_result"
    }
   ],
   "source": [
    "s7.issuperset(s8)"
   ]
  },
  {
   "cell_type": "code",
   "execution_count": 33,
   "id": "0138e9d2-f642-4eeb-a49c-8ba8a5ac3539",
   "metadata": {},
   "outputs": [
    {
     "data": {
      "text/plain": [
       "False"
      ]
     },
     "execution_count": 33,
     "metadata": {},
     "output_type": "execute_result"
    }
   ],
   "source": [
    "s8.issubset(s7)"
   ]
  },
  {
   "cell_type": "code",
   "execution_count": 34,
   "id": "49bc3131-ca5d-476e-85a6-302ee8864363",
   "metadata": {},
   "outputs": [
    {
     "data": {
      "text/plain": [
       "True"
      ]
     },
     "execution_count": 34,
     "metadata": {},
     "output_type": "execute_result"
    }
   ],
   "source": [
    "s7.isdisjoint(s8)"
   ]
  },
  {
   "cell_type": "code",
   "execution_count": 35,
   "id": "2c455869-cdd2-42d8-b569-47cfd70b61ac",
   "metadata": {},
   "outputs": [
    {
     "data": {
      "text/plain": [
       "False"
      ]
     },
     "execution_count": 35,
     "metadata": {},
     "output_type": "execute_result"
    }
   ],
   "source": [
    "s8.issuperset(s9)"
   ]
  },
  {
   "cell_type": "code",
   "execution_count": 36,
   "id": "96583255-122d-4493-a4fd-65ea20769f14",
   "metadata": {},
   "outputs": [
    {
     "data": {
      "text/plain": [
       "False"
      ]
     },
     "execution_count": 36,
     "metadata": {},
     "output_type": "execute_result"
    }
   ],
   "source": [
    "s9.issubset(s8)"
   ]
  },
  {
   "cell_type": "code",
   "execution_count": 37,
   "id": "d56db0e9-08da-47fd-977e-5d7d0cca3efe",
   "metadata": {},
   "outputs": [
    {
     "data": {
      "text/plain": [
       "True"
      ]
     },
     "execution_count": 37,
     "metadata": {},
     "output_type": "execute_result"
    }
   ],
   "source": [
    "s8.isdisjoint(s9)"
   ]
  }
 ],
 "metadata": {
  "kernelspec": {
   "display_name": "Python [conda env:base] *",
   "language": "python",
   "name": "conda-base-py"
  },
  "language_info": {
   "codemirror_mode": {
    "name": "ipython",
    "version": 3
   },
   "file_extension": ".py",
   "mimetype": "text/x-python",
   "name": "python",
   "nbconvert_exporter": "python",
   "pygments_lexer": "ipython3",
   "version": "3.13.5"
  }
 },
 "nbformat": 4,
 "nbformat_minor": 5
}
