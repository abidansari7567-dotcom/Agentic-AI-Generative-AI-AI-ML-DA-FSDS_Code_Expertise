{
 "cells": [
  {
   "cell_type": "markdown",
   "id": "1ee207bd-608a-4c64-8167-f43949cbd812",
   "metadata": {},
   "source": [
    "# Set"
   ]
  },
  {
   "cell_type": "code",
   "execution_count": 1,
   "id": "7f969d46-0730-4e8d-b9fd-746dd3f090b8",
   "metadata": {},
   "outputs": [],
   "source": [
    "s = {}"
   ]
  },
  {
   "cell_type": "code",
   "execution_count": 2,
   "id": "797364c5-097f-49d2-a337-beced50e3d95",
   "metadata": {},
   "outputs": [
    {
     "data": {
      "text/plain": [
       "{}"
      ]
     },
     "execution_count": 2,
     "metadata": {},
     "output_type": "execute_result"
    }
   ],
   "source": [
    "s"
   ]
  },
  {
   "cell_type": "code",
   "execution_count": 3,
   "id": "dcfd7ef1-f5b6-4064-a49b-3ca40ac4c045",
   "metadata": {},
   "outputs": [
    {
     "data": {
      "text/plain": [
       "dict"
      ]
     },
     "execution_count": 3,
     "metadata": {},
     "output_type": "execute_result"
    }
   ],
   "source": [
    "type(s)"
   ]
  },
  {
   "cell_type": "code",
   "execution_count": 4,
   "id": "3c152a6a-ee3b-4b07-af44-76160cb9fd59",
   "metadata": {},
   "outputs": [
    {
     "ename": "SyntaxError",
     "evalue": "invalid syntax (1393981865.py, line 1)",
     "output_type": "error",
     "traceback": [
      "\u001b[1;36m  Cell \u001b[1;32mIn[4], line 1\u001b[1;36m\u001b[0m\n\u001b[1;33m    s1 = set{}\u001b[0m\n\u001b[1;37m            ^\u001b[0m\n\u001b[1;31mSyntaxError\u001b[0m\u001b[1;31m:\u001b[0m invalid syntax\n"
     ]
    }
   ],
   "source": [
    "s1 = set{}"
   ]
  },
  {
   "cell_type": "code",
   "execution_count": 5,
   "id": "2c7176b3-a165-4161-8e4f-c0c9449fcc6a",
   "metadata": {},
   "outputs": [
    {
     "ename": "NameError",
     "evalue": "name 's1' is not defined",
     "output_type": "error",
     "traceback": [
      "\u001b[1;31m---------------------------------------------------------------------------\u001b[0m",
      "\u001b[1;31mNameError\u001b[0m                                 Traceback (most recent call last)",
      "Cell \u001b[1;32mIn[5], line 1\u001b[0m\n\u001b[1;32m----> 1\u001b[0m s1\n",
      "\u001b[1;31mNameError\u001b[0m: name 's1' is not defined"
     ]
    }
   ],
   "source": [
    "s1"
   ]
  },
  {
   "cell_type": "code",
   "execution_count": 7,
   "id": "e60ec311-02e0-4cfe-9a03-30d74254604d",
   "metadata": {},
   "outputs": [
    {
     "data": {
      "text/plain": [
       "set()"
      ]
     },
     "execution_count": 7,
     "metadata": {},
     "output_type": "execute_result"
    }
   ],
   "source": [
    "s1 = set()\n",
    "s1"
   ]
  },
  {
   "cell_type": "code",
   "execution_count": 8,
   "id": "4e84165b-a119-42a0-97f5-433a9ee389cc",
   "metadata": {
    "jp-MarkdownHeadingCollapsed": true
   },
   "outputs": [],
   "source": [
    "s2 = {90, 10, 50, 40 ,25, 10, 50}"
   ]
  },
  {
   "cell_type": "code",
   "execution_count": 9,
   "id": "f94251de-5ca0-42c7-a19c-9f510b01fb78",
   "metadata": {},
   "outputs": [
    {
     "data": {
      "text/plain": [
       "{10, 25, 40, 50, 90}"
      ]
     },
     "execution_count": 9,
     "metadata": {},
     "output_type": "execute_result"
    }
   ],
   "source": [
    "s2"
   ]
  },
  {
   "cell_type": "code",
   "execution_count": 10,
   "id": "4fe357ed-28d6-426e-a9b5-302c570fc486",
   "metadata": {},
   "outputs": [
    {
     "data": {
      "text/plain": [
       "set"
      ]
     },
     "execution_count": 10,
     "metadata": {},
     "output_type": "execute_result"
    }
   ],
   "source": [
    "type(s1)"
   ]
  },
  {
   "cell_type": "code",
   "execution_count": 11,
   "id": "01121aeb-97c1-4ad4-883c-5a03248de6db",
   "metadata": {},
   "outputs": [
    {
     "data": {
      "text/plain": [
       "set"
      ]
     },
     "execution_count": 11,
     "metadata": {},
     "output_type": "execute_result"
    }
   ],
   "source": [
    "type(s2)"
   ]
  },
  {
   "cell_type": "code",
   "execution_count": 12,
   "id": "31bc2683-4b29-48d7-a24a-2005cbb70313",
   "metadata": {},
   "outputs": [
    {
     "data": {
      "text/plain": [
       "{10, 25, 40, 50, 90}"
      ]
     },
     "execution_count": 12,
     "metadata": {},
     "output_type": "execute_result"
    }
   ],
   "source": [
    "s2"
   ]
  },
  {
   "cell_type": "code",
   "execution_count": 13,
   "id": "6590307d-9ee5-4019-bd56-ef22a5489de5",
   "metadata": {},
   "outputs": [],
   "source": [
    "s3 = s2.copy()"
   ]
  },
  {
   "cell_type": "code",
   "execution_count": 14,
   "id": "779ec62d-a6b7-404e-b3c9-904e6f852024",
   "metadata": {},
   "outputs": [
    {
     "data": {
      "text/plain": [
       "{10, 25, 40, 50, 90}"
      ]
     },
     "execution_count": 14,
     "metadata": {},
     "output_type": "execute_result"
    }
   ],
   "source": [
    "s3"
   ]
  },
  {
   "cell_type": "code",
   "execution_count": 15,
   "id": "e8c4e6ca-993c-4ba2-a13a-c6f08c2e37b2",
   "metadata": {},
   "outputs": [
    {
     "data": {
      "text/plain": [
       "{10, 25, 40, 50, 90}"
      ]
     },
     "execution_count": 15,
     "metadata": {},
     "output_type": "execute_result"
    }
   ],
   "source": [
    "s3"
   ]
  },
  {
   "cell_type": "code",
   "execution_count": 16,
   "id": "7cbb7161-f289-4621-bc0f-edb77e685415",
   "metadata": {},
   "outputs": [],
   "source": [
    "s3.add(3.4)"
   ]
  },
  {
   "cell_type": "code",
   "execution_count": 17,
   "id": "df314d34-a0ac-49d9-b41d-0640f840be96",
   "metadata": {},
   "outputs": [
    {
     "data": {
      "text/plain": [
       "{3.4, 10, 25, 40, 50, 90}"
      ]
     },
     "execution_count": 17,
     "metadata": {},
     "output_type": "execute_result"
    }
   ],
   "source": [
    "s3"
   ]
  },
  {
   "cell_type": "code",
   "execution_count": 18,
   "id": "0516bd08-437b-41ac-bce0-0ef1a977e19b",
   "metadata": {},
   "outputs": [],
   "source": [
    "s3.add('jan')"
   ]
  },
  {
   "cell_type": "code",
   "execution_count": 19,
   "id": "54eb6695-fa84-4fd2-94aa-689814b50ad3",
   "metadata": {},
   "outputs": [
    {
     "data": {
      "text/plain": [
       "{10, 25, 3.4, 40, 50, 90, 'jan'}"
      ]
     },
     "execution_count": 19,
     "metadata": {},
     "output_type": "execute_result"
    }
   ],
   "source": [
    "s3"
   ]
  },
  {
   "cell_type": "code",
   "execution_count": 20,
   "id": "b3179722-1e21-462e-8a7c-4ac01d3d9756",
   "metadata": {},
   "outputs": [],
   "source": [
    "s3.add(25)"
   ]
  },
  {
   "cell_type": "code",
   "execution_count": 21,
   "id": "88160bcb-3a59-4bf3-90d7-f88df707eb96",
   "metadata": {},
   "outputs": [
    {
     "data": {
      "text/plain": [
       "{10, 25, 3.4, 40, 50, 90, 'jan'}"
      ]
     },
     "execution_count": 21,
     "metadata": {},
     "output_type": "execute_result"
    }
   ],
   "source": [
    "s3"
   ]
  },
  {
   "cell_type": "code",
   "execution_count": 22,
   "id": "79a7364a-40a1-4210-83f6-3aadd0fc2c15",
   "metadata": {},
   "outputs": [],
   "source": [
    "s3.add('Abid')"
   ]
  },
  {
   "cell_type": "code",
   "execution_count": 23,
   "id": "e14db86f-8663-4c60-830d-9bf052777efc",
   "metadata": {},
   "outputs": [
    {
     "data": {
      "text/plain": [
       "{10, 25, 3.4, 40, 50, 90, 'Abid', 'jan'}"
      ]
     },
     "execution_count": 23,
     "metadata": {},
     "output_type": "execute_result"
    }
   ],
   "source": [
    "s3"
   ]
  },
  {
   "cell_type": "code",
   "execution_count": 24,
   "id": "c759908c-4711-47ed-979f-4d2243fb1971",
   "metadata": {},
   "outputs": [],
   "source": [
    "s3.add(1+3j)\n",
    "s3.add(True)"
   ]
  },
  {
   "cell_type": "code",
   "execution_count": 25,
   "id": "d283de25-2194-47ad-8640-f114c5f9256b",
   "metadata": {},
   "outputs": [
    {
     "data": {
      "text/plain": [
       "{(1+3j), 10, 25, 3.4, 40, 50, 90, 'Abid', True, 'jan'}"
      ]
     },
     "execution_count": 25,
     "metadata": {},
     "output_type": "execute_result"
    }
   ],
   "source": [
    "s3"
   ]
  },
  {
   "cell_type": "code",
   "execution_count": 26,
   "id": "4bba9c5b-72fc-42e0-9d41-c412b938a9d7",
   "metadata": {},
   "outputs": [],
   "source": [
    "s4 = s3.copy()"
   ]
  },
  {
   "cell_type": "code",
   "execution_count": 27,
   "id": "1ad22985-c057-4639-955c-4a68ff4c5de8",
   "metadata": {},
   "outputs": [
    {
     "data": {
      "text/plain": [
       "{(1+3j), 10, 25, 3.4, 40, 50, 90, 'Abid', True, 'jan'}"
      ]
     },
     "execution_count": 27,
     "metadata": {},
     "output_type": "execute_result"
    }
   ],
   "source": [
    "s4"
   ]
  },
  {
   "cell_type": "code",
   "execution_count": 28,
   "id": "b95be789-5332-428b-a784-c95773f6ebb6",
   "metadata": {},
   "outputs": [],
   "source": [
    "s4.add(30)"
   ]
  },
  {
   "cell_type": "code",
   "execution_count": 29,
   "id": "9d9b7cc8-b710-48cc-a662-2f7d4381cf43",
   "metadata": {},
   "outputs": [
    {
     "data": {
      "text/plain": [
       "{(1+3j), 10, 25, 3.4, 30, 40, 50, 90, 'Abid', True, 'jan'}"
      ]
     },
     "execution_count": 29,
     "metadata": {},
     "output_type": "execute_result"
    }
   ],
   "source": [
    "s4"
   ]
  },
  {
   "cell_type": "code",
   "execution_count": 30,
   "id": "52be0f5f-6682-44eb-9b72-d7e4cab8881f",
   "metadata": {},
   "outputs": [
    {
     "name": "stdout",
     "output_type": "stream",
     "text": [
      "{}\n",
      "set()\n",
      "{50, 90, 40, 25, 10}\n"
     ]
    }
   ],
   "source": [
    "print(s)\n",
    "print(s1)\n",
    "print(s2)"
   ]
  },
  {
   "cell_type": "code",
   "execution_count": 31,
   "id": "eb5f2f57-556c-47fc-9fda-e0660346832b",
   "metadata": {},
   "outputs": [
    {
     "name": "stdout",
     "output_type": "stream",
     "text": [
      "{}\n",
      "set()\n",
      "{50, 90, 40, 25, 10}\n",
      "{True, 3.4, 10, (1+3j), 25, 90, 40, 50, 'Abid', 'jan'}\n"
     ]
    }
   ],
   "source": [
    "print(s)\n",
    "print(s1)\n",
    "print(s2)\n",
    "print(s3)"
   ]
  },
  {
   "cell_type": "code",
   "execution_count": 32,
   "id": "c895186d-3065-413a-a580-6d75e11b5eb3",
   "metadata": {},
   "outputs": [
    {
     "name": "stdout",
     "output_type": "stream",
     "text": [
      "{}\n",
      "set()\n",
      "{50, 90, 40, 25, 10}\n",
      "{True, 3.4, 10, (1+3j), 25, 90, 40, 50, 'Abid', 'jan'}\n",
      "{True, 3.4, 40, 10, (1+3j), 50, 'Abid', 'jan', 25, 90, 30}\n"
     ]
    }
   ],
   "source": [
    "print(s)\n",
    "print(s1)\n",
    "print(s2)\n",
    "print(s3)\n",
    "print(s4)"
   ]
  },
  {
   "cell_type": "code",
   "execution_count": 33,
   "id": "9e3c9eab-3fac-496b-8f98-6334d1b9abb7",
   "metadata": {},
   "outputs": [
    {
     "data": {
      "text/plain": [
       "{}"
      ]
     },
     "execution_count": 33,
     "metadata": {},
     "output_type": "execute_result"
    }
   ],
   "source": [
    "s"
   ]
  },
  {
   "cell_type": "code",
   "execution_count": 34,
   "id": "54882579-e6df-44e2-9719-64eeb5158804",
   "metadata": {},
   "outputs": [
    {
     "data": {
      "text/plain": [
       "dict"
      ]
     },
     "execution_count": 34,
     "metadata": {},
     "output_type": "execute_result"
    }
   ],
   "source": [
    "type(s)"
   ]
  },
  {
   "cell_type": "code",
   "execution_count": 35,
   "id": "961125cb-5c6a-4f94-b5c9-159742f8bb0d",
   "metadata": {},
   "outputs": [
    {
     "data": {
      "text/plain": [
       "{10, 25, 40, 50, 90}"
      ]
     },
     "execution_count": 35,
     "metadata": {},
     "output_type": "execute_result"
    }
   ],
   "source": [
    "s2"
   ]
  },
  {
   "cell_type": "code",
   "execution_count": 36,
   "id": "cfbc2cd1-f970-4ad4-aff3-69d9e8c0ba93",
   "metadata": {},
   "outputs": [
    {
     "data": {
      "text/plain": [
       "{(1+3j), 10, 25, 3.4, 40, 50, 90, 'Abid', True, 'jan'}"
      ]
     },
     "execution_count": 36,
     "metadata": {},
     "output_type": "execute_result"
    }
   ],
   "source": [
    "s3"
   ]
  },
  {
   "cell_type": "code",
   "execution_count": 37,
   "id": "faa1bf9e-2ae4-4e5a-8c2f-525f366cbcc4",
   "metadata": {},
   "outputs": [],
   "source": [
    "s3.remove(1+3j)"
   ]
  },
  {
   "cell_type": "code",
   "execution_count": 38,
   "id": "d9d5368a-687e-48d6-ab9a-23f5419b79bc",
   "metadata": {},
   "outputs": [
    {
     "data": {
      "text/plain": [
       "{10, 25, 3.4, 40, 50, 90, 'Abid', True, 'jan'}"
      ]
     },
     "execution_count": 38,
     "metadata": {},
     "output_type": "execute_result"
    }
   ],
   "source": [
    "s3"
   ]
  },
  {
   "cell_type": "code",
   "execution_count": 39,
   "id": "04c4102b-abad-41a5-80e2-35a337fec070",
   "metadata": {},
   "outputs": [],
   "source": [
    "s3.remove('Abid')"
   ]
  },
  {
   "cell_type": "code",
   "execution_count": 40,
   "id": "b740335d-ec3a-4f00-a771-09f44dcf68d6",
   "metadata": {},
   "outputs": [
    {
     "data": {
      "text/plain": [
       "{10, 25, 3.4, 40, 50, 90, True, 'jan'}"
      ]
     },
     "execution_count": 40,
     "metadata": {},
     "output_type": "execute_result"
    }
   ],
   "source": [
    "s3"
   ]
  },
  {
   "cell_type": "code",
   "execution_count": 41,
   "id": "cffb3b43-1051-4907-b9fc-b431e471fe0c",
   "metadata": {},
   "outputs": [
    {
     "data": {
      "text/plain": [
       "{10, 25, 3.4, 40, 50, 90, True, 'jan'}"
      ]
     },
     "execution_count": 41,
     "metadata": {},
     "output_type": "execute_result"
    }
   ],
   "source": [
    "s3"
   ]
  },
  {
   "cell_type": "code",
   "execution_count": 42,
   "id": "d49894fd-6ef6-489b-8117-7fa72f319390",
   "metadata": {},
   "outputs": [
    {
     "ename": "KeyError",
     "evalue": "1000",
     "output_type": "error",
     "traceback": [
      "\u001b[1;31m---------------------------------------------------------------------------\u001b[0m",
      "\u001b[1;31mKeyError\u001b[0m                                  Traceback (most recent call last)",
      "Cell \u001b[1;32mIn[42], line 1\u001b[0m\n\u001b[1;32m----> 1\u001b[0m s3\u001b[38;5;241m.\u001b[39mremove(\u001b[38;5;241m1000\u001b[39m)\n",
      "\u001b[1;31mKeyError\u001b[0m: 1000"
     ]
    }
   ],
   "source": [
    "s3.remove(1000)"
   ]
  },
  {
   "cell_type": "code",
   "execution_count": 43,
   "id": "4ded2a2d-e4a7-461d-8be5-e8104f6a872d",
   "metadata": {},
   "outputs": [
    {
     "data": {
      "text/plain": [
       "{10, 25, 3.4, 40, 50, 90, True, 'jan'}"
      ]
     },
     "execution_count": 43,
     "metadata": {},
     "output_type": "execute_result"
    }
   ],
   "source": [
    "s3"
   ]
  },
  {
   "cell_type": "code",
   "execution_count": 44,
   "id": "38e23707-a10d-44af-87a6-a2b5b052db43",
   "metadata": {},
   "outputs": [
    {
     "data": {
      "text/plain": [
       "{(1+3j), 10, 25, 3.4, 30, 40, 50, 90, 'Abid', True, 'jan'}"
      ]
     },
     "execution_count": 44,
     "metadata": {},
     "output_type": "execute_result"
    }
   ],
   "source": [
    "s4"
   ]
  },
  {
   "cell_type": "code",
   "execution_count": 45,
   "id": "63161356-c8ac-4ba5-885d-bd00c7eccacb",
   "metadata": {},
   "outputs": [],
   "source": [
    "s4.remove(1+3j)"
   ]
  },
  {
   "cell_type": "code",
   "execution_count": 46,
   "id": "cf22c14c-3d88-45d1-90a3-dd68a0e4d8bc",
   "metadata": {},
   "outputs": [
    {
     "data": {
      "text/plain": [
       "{10, 25, 3.4, 30, 40, 50, 90, 'Abid', True, 'jan'}"
      ]
     },
     "execution_count": 46,
     "metadata": {},
     "output_type": "execute_result"
    }
   ],
   "source": [
    "s4"
   ]
  },
  {
   "cell_type": "code",
   "execution_count": 47,
   "id": "81125ea4-24c8-4b1c-942f-1b3ffc8056ed",
   "metadata": {},
   "outputs": [],
   "source": [
    "s4.remove('Abid')"
   ]
  },
  {
   "cell_type": "code",
   "execution_count": 48,
   "id": "94ffe138-5d88-4569-9bfb-3543c8be0d8d",
   "metadata": {},
   "outputs": [
    {
     "data": {
      "text/plain": [
       "{10, 25, 3.4, 30, 40, 50, 90, True, 'jan'}"
      ]
     },
     "execution_count": 48,
     "metadata": {},
     "output_type": "execute_result"
    }
   ],
   "source": [
    "s4"
   ]
  },
  {
   "cell_type": "code",
   "execution_count": 49,
   "id": "d76de4a6-d0b6-4d3b-9256-20d0231070e2",
   "metadata": {},
   "outputs": [
    {
     "data": {
      "text/plain": [
       "{10, 25, 3.4, 40, 50, 90, True, 'jan'}"
      ]
     },
     "execution_count": 49,
     "metadata": {},
     "output_type": "execute_result"
    }
   ],
   "source": [
    "s3"
   ]
  },
  {
   "cell_type": "code",
   "execution_count": 50,
   "id": "b80af784-1300-4e2c-a6ba-3a567627730b",
   "metadata": {},
   "outputs": [],
   "source": [
    "s3.discard(10)"
   ]
  },
  {
   "cell_type": "code",
   "execution_count": 51,
   "id": "3b114f07-b432-407e-ad11-568e50205960",
   "metadata": {},
   "outputs": [
    {
     "data": {
      "text/plain": [
       "{25, 3.4, 40, 50, 90, True, 'jan'}"
      ]
     },
     "execution_count": 51,
     "metadata": {},
     "output_type": "execute_result"
    }
   ],
   "source": [
    "s3"
   ]
  },
  {
   "cell_type": "code",
   "execution_count": 52,
   "id": "5082159b-84c8-4e90-a9d1-a82ede30d5d5",
   "metadata": {},
   "outputs": [
    {
     "data": {
      "text/plain": [
       "{10, 25, 3.4, 30, 40, 50, 90, True, 'jan'}"
      ]
     },
     "execution_count": 52,
     "metadata": {},
     "output_type": "execute_result"
    }
   ],
   "source": [
    "s4"
   ]
  },
  {
   "cell_type": "code",
   "execution_count": 53,
   "id": "8a567aa4-7f97-4fb7-9264-ba22840a7d5e",
   "metadata": {},
   "outputs": [],
   "source": [
    "s4.discard(30)"
   ]
  },
  {
   "cell_type": "code",
   "execution_count": 54,
   "id": "000694fa-813f-461a-b0b1-6f48a08719d6",
   "metadata": {},
   "outputs": [
    {
     "data": {
      "text/plain": [
       "{10, 25, 3.4, 40, 50, 90, True, 'jan'}"
      ]
     },
     "execution_count": 54,
     "metadata": {},
     "output_type": "execute_result"
    }
   ],
   "source": [
    "s4"
   ]
  },
  {
   "cell_type": "code",
   "execution_count": 55,
   "id": "c4f15a94-3372-4339-8829-6849329b051b",
   "metadata": {},
   "outputs": [],
   "source": [
    "s4.discard(10)"
   ]
  },
  {
   "cell_type": "code",
   "execution_count": 56,
   "id": "a7ce7607-bddb-4155-a929-a865e786bdaa",
   "metadata": {},
   "outputs": [
    {
     "data": {
      "text/plain": [
       "{25, 3.4, 40, 50, 90, True, 'jan'}"
      ]
     },
     "execution_count": 56,
     "metadata": {},
     "output_type": "execute_result"
    }
   ],
   "source": [
    "s4"
   ]
  },
  {
   "cell_type": "code",
   "execution_count": 57,
   "id": "22662866-0add-445f-bea5-eb8573667373",
   "metadata": {},
   "outputs": [
    {
     "data": {
      "text/plain": [
       "{25, 3.4, 40, 50, 90, True, 'jan'}"
      ]
     },
     "execution_count": 57,
     "metadata": {},
     "output_type": "execute_result"
    }
   ],
   "source": [
    "s3"
   ]
  },
  {
   "cell_type": "code",
   "execution_count": 58,
   "id": "9121b472-61d0-4d28-a9d9-f41b10f76f81",
   "metadata": {},
   "outputs": [],
   "source": [
    "s3.discard(1000)"
   ]
  },
  {
   "cell_type": "code",
   "execution_count": 59,
   "id": "6837cfdd-61c1-4de5-8f68-b30ef678e5b4",
   "metadata": {},
   "outputs": [
    {
     "data": {
      "text/plain": [
       "{25, 3.4, 40, 50, 90, True, 'jan'}"
      ]
     },
     "execution_count": 59,
     "metadata": {},
     "output_type": "execute_result"
    }
   ],
   "source": [
    "s3"
   ]
  },
  {
   "cell_type": "code",
   "execution_count": 60,
   "id": "3b604355-66fb-4998-8bd4-9760223e0e7c",
   "metadata": {},
   "outputs": [],
   "source": [
    "s4.discard(2000)"
   ]
  },
  {
   "cell_type": "code",
   "execution_count": 61,
   "id": "8cc9d9d2-78d7-43f2-83c0-7f0a0ff5b3d1",
   "metadata": {},
   "outputs": [
    {
     "data": {
      "text/plain": [
       "{25, 3.4, 40, 50, 90, True, 'jan'}"
      ]
     },
     "execution_count": 61,
     "metadata": {},
     "output_type": "execute_result"
    }
   ],
   "source": [
    "s4"
   ]
  },
  {
   "cell_type": "code",
   "execution_count": 62,
   "id": "e9daca80-b077-4fdb-bc8b-1f2de58b1d0f",
   "metadata": {},
   "outputs": [
    {
     "data": {
      "text/plain": [
       "{25, 3.4, 40, 50, 90, True, 'jan'}"
      ]
     },
     "execution_count": 62,
     "metadata": {},
     "output_type": "execute_result"
    }
   ],
   "source": [
    "s3"
   ]
  },
  {
   "cell_type": "code",
   "execution_count": 63,
   "id": "38972964-7b4a-4e1b-83e3-40f5d7b7ef6a",
   "metadata": {},
   "outputs": [
    {
     "data": {
      "text/plain": [
       "True"
      ]
     },
     "execution_count": 63,
     "metadata": {},
     "output_type": "execute_result"
    }
   ],
   "source": [
    "s3.pop()"
   ]
  },
  {
   "cell_type": "code",
   "execution_count": 64,
   "id": "77ed5561-b031-4eae-ace4-dc45997c1530",
   "metadata": {},
   "outputs": [
    {
     "data": {
      "text/plain": [
       "{25, 3.4, 40, 50, 90, 'jan'}"
      ]
     },
     "execution_count": 64,
     "metadata": {},
     "output_type": "execute_result"
    }
   ],
   "source": [
    "s3"
   ]
  },
  {
   "cell_type": "code",
   "execution_count": 65,
   "id": "278a0a38-4eed-4413-8fab-a12fdd76d904",
   "metadata": {},
   "outputs": [
    {
     "data": {
      "text/plain": [
       "3.4"
      ]
     },
     "execution_count": 65,
     "metadata": {},
     "output_type": "execute_result"
    }
   ],
   "source": [
    "s3.pop()"
   ]
  },
  {
   "cell_type": "code",
   "execution_count": 66,
   "id": "50247f41-d0a0-4941-87f3-5a172c7b24ac",
   "metadata": {},
   "outputs": [
    {
     "data": {
      "text/plain": [
       "True"
      ]
     },
     "execution_count": 66,
     "metadata": {},
     "output_type": "execute_result"
    }
   ],
   "source": [
    "s4.pop()"
   ]
  },
  {
   "cell_type": "code",
   "execution_count": 67,
   "id": "0d81b819-d8b5-4137-b0b9-626e1336a43e",
   "metadata": {},
   "outputs": [
    {
     "data": {
      "text/plain": [
       "3.4"
      ]
     },
     "execution_count": 67,
     "metadata": {},
     "output_type": "execute_result"
    }
   ],
   "source": [
    "s4.pop()"
   ]
  },
  {
   "cell_type": "code",
   "execution_count": 68,
   "id": "6938b6eb-bfe4-4634-86b0-aed33212042f",
   "metadata": {},
   "outputs": [
    {
     "data": {
      "text/plain": [
       "50"
      ]
     },
     "execution_count": 68,
     "metadata": {},
     "output_type": "execute_result"
    }
   ],
   "source": [
    "s2.pop()"
   ]
  },
  {
   "cell_type": "code",
   "execution_count": 69,
   "id": "39a08afc-f7ca-43b6-8b23-b811cf93fd69",
   "metadata": {},
   "outputs": [
    {
     "data": {
      "text/plain": [
       "90"
      ]
     },
     "execution_count": 69,
     "metadata": {},
     "output_type": "execute_result"
    }
   ],
   "source": [
    "s2.pop()"
   ]
  },
  {
   "cell_type": "code",
   "execution_count": 70,
   "id": "ec62dae4-66ed-4d30-9091-4659b5a11fca",
   "metadata": {},
   "outputs": [
    {
     "data": {
      "text/plain": [
       "40"
      ]
     },
     "execution_count": 70,
     "metadata": {},
     "output_type": "execute_result"
    }
   ],
   "source": [
    "s2.pop()"
   ]
  },
  {
   "cell_type": "code",
   "execution_count": 71,
   "id": "5a2681b6-8e10-4393-90bc-e3c0a9bc96a7",
   "metadata": {},
   "outputs": [
    {
     "data": {
      "text/plain": [
       "40"
      ]
     },
     "execution_count": 71,
     "metadata": {},
     "output_type": "execute_result"
    }
   ],
   "source": [
    "s4.pop()"
   ]
  },
  {
   "cell_type": "code",
   "execution_count": 73,
   "id": "e1b8fe74-4718-47a4-82ca-7a6ef04ed40b",
   "metadata": {},
   "outputs": [
    {
     "data": {
      "text/plain": [
       "{25, 50, 90, 'jan'}"
      ]
     },
     "execution_count": 73,
     "metadata": {},
     "output_type": "execute_result"
    }
   ],
   "source": [
    "s4"
   ]
  },
  {
   "cell_type": "code",
   "execution_count": 74,
   "id": "003a61ed-f733-4eb4-b80f-f4d215be7b35",
   "metadata": {},
   "outputs": [
    {
     "data": {
      "text/plain": [
       "{25, 40, 50, 90, 'jan'}"
      ]
     },
     "execution_count": 74,
     "metadata": {},
     "output_type": "execute_result"
    }
   ],
   "source": [
    "s3"
   ]
  },
  {
   "cell_type": "code",
   "execution_count": 75,
   "id": "acccbd41-4067-40d4-938f-7c48c433dad6",
   "metadata": {},
   "outputs": [
    {
     "ename": "TypeError",
     "evalue": "set.pop() takes no arguments (1 given)",
     "output_type": "error",
     "traceback": [
      "\u001b[1;31m---------------------------------------------------------------------------\u001b[0m",
      "\u001b[1;31mTypeError\u001b[0m                                 Traceback (most recent call last)",
      "Cell \u001b[1;32mIn[75], line 1\u001b[0m\n\u001b[1;32m----> 1\u001b[0m s3\u001b[38;5;241m.\u001b[39mpop(\u001b[38;5;241m0\u001b[39m)\n",
      "\u001b[1;31mTypeError\u001b[0m: set.pop() takes no arguments (1 given)"
     ]
    }
   ],
   "source": [
    "s3.pop(0)"
   ]
  },
  {
   "cell_type": "code",
   "execution_count": 77,
   "id": "b06792a4-8c55-49cb-b89d-6906aba2ec35",
   "metadata": {},
   "outputs": [
    {
     "ename": "TypeError",
     "evalue": "set.pop() takes no arguments (1 given)",
     "output_type": "error",
     "traceback": [
      "\u001b[1;31m---------------------------------------------------------------------------\u001b[0m",
      "\u001b[1;31mTypeError\u001b[0m                                 Traceback (most recent call last)",
      "Cell \u001b[1;32mIn[77], line 1\u001b[0m\n\u001b[1;32m----> 1\u001b[0m s4\u001b[38;5;241m.\u001b[39mpop(\u001b[38;5;241m1\u001b[39m)\n",
      "\u001b[1;31mTypeError\u001b[0m: set.pop() takes no arguments (1 given)"
     ]
    }
   ],
   "source": [
    "s4.pop(1)"
   ]
  },
  {
   "cell_type": "code",
   "execution_count": 78,
   "id": "1ba23031-b424-4c2a-a0d8-0bac3a6e3aca",
   "metadata": {},
   "outputs": [
    {
     "ename": "TypeError",
     "evalue": "set.pop() takes no arguments (1 given)",
     "output_type": "error",
     "traceback": [
      "\u001b[1;31m---------------------------------------------------------------------------\u001b[0m",
      "\u001b[1;31mTypeError\u001b[0m                                 Traceback (most recent call last)",
      "Cell \u001b[1;32mIn[78], line 1\u001b[0m\n\u001b[1;32m----> 1\u001b[0m s2\u001b[38;5;241m.\u001b[39mpop(\u001b[38;5;241m0\u001b[39m)\n",
      "\u001b[1;31mTypeError\u001b[0m: set.pop() takes no arguments (1 given)"
     ]
    }
   ],
   "source": [
    "s2.pop(0)"
   ]
  },
  {
   "cell_type": "code",
   "execution_count": 79,
   "id": "1b688886-b322-4e40-b41e-6b7d1ff626c0",
   "metadata": {},
   "outputs": [
    {
     "data": {
      "text/plain": [
       "{25, 40, 50, 90, 'jan'}"
      ]
     },
     "execution_count": 79,
     "metadata": {},
     "output_type": "execute_result"
    }
   ],
   "source": [
    "s3"
   ]
  },
  {
   "cell_type": "code",
   "execution_count": 80,
   "id": "6b333f1d-3a5f-4198-b555-fa2808d83ebb",
   "metadata": {},
   "outputs": [
    {
     "data": {
      "text/plain": [
       "{25, 90, 'jan'}"
      ]
     },
     "execution_count": 80,
     "metadata": {},
     "output_type": "execute_result"
    }
   ],
   "source": [
    "s4"
   ]
  },
  {
   "cell_type": "code",
   "execution_count": 81,
   "id": "96c4934e-2a3c-488a-a27a-7e8360d1876e",
   "metadata": {},
   "outputs": [
    {
     "ename": "TypeError",
     "evalue": "'set' object is not subscriptable",
     "output_type": "error",
     "traceback": [
      "\u001b[1;31m---------------------------------------------------------------------------\u001b[0m",
      "\u001b[1;31mTypeError\u001b[0m                                 Traceback (most recent call last)",
      "Cell \u001b[1;32mIn[81], line 1\u001b[0m\n\u001b[1;32m----> 1\u001b[0m s3[:]\n",
      "\u001b[1;31mTypeError\u001b[0m: 'set' object is not subscriptable"
     ]
    }
   ],
   "source": [
    "s3[:]"
   ]
  },
  {
   "cell_type": "code",
   "execution_count": 82,
   "id": "5b5b25e2-2464-4a2b-9426-579c67007f19",
   "metadata": {},
   "outputs": [
    {
     "ename": "TypeError",
     "evalue": "'set' object is not subscriptable",
     "output_type": "error",
     "traceback": [
      "\u001b[1;31m---------------------------------------------------------------------------\u001b[0m",
      "\u001b[1;31mTypeError\u001b[0m                                 Traceback (most recent call last)",
      "Cell \u001b[1;32mIn[82], line 1\u001b[0m\n\u001b[1;32m----> 1\u001b[0m s4[:]\n",
      "\u001b[1;31mTypeError\u001b[0m: 'set' object is not subscriptable"
     ]
    }
   ],
   "source": [
    "s4[:]"
   ]
  },
  {
   "cell_type": "code",
   "execution_count": 83,
   "id": "e2ab17c2-840f-41f7-94d0-26f8a18cbb4b",
   "metadata": {},
   "outputs": [
    {
     "data": {
      "text/plain": [
       "{25, 40, 50, 90, 'jan'}"
      ]
     },
     "execution_count": 83,
     "metadata": {},
     "output_type": "execute_result"
    }
   ],
   "source": [
    "s3"
   ]
  },
  {
   "cell_type": "code",
   "execution_count": 84,
   "id": "037ff25f-7597-4707-bdf8-46a1f1881190",
   "metadata": {},
   "outputs": [
    {
     "data": {
      "text/plain": [
       "{25, 90, 'jan'}"
      ]
     },
     "execution_count": 84,
     "metadata": {},
     "output_type": "execute_result"
    }
   ],
   "source": [
    "s4"
   ]
  },
  {
   "cell_type": "code",
   "execution_count": 85,
   "id": "21202e64-2c4b-4e2c-b80d-bd5b13f19d2c",
   "metadata": {},
   "outputs": [
    {
     "ename": "TypeError",
     "evalue": "'set' object is not subscriptable",
     "output_type": "error",
     "traceback": [
      "\u001b[1;31m---------------------------------------------------------------------------\u001b[0m",
      "\u001b[1;31mTypeError\u001b[0m                                 Traceback (most recent call last)",
      "Cell \u001b[1;32mIn[85], line 1\u001b[0m\n\u001b[1;32m----> 1\u001b[0m s3[\u001b[38;5;241m1\u001b[39m:]\n",
      "\u001b[1;31mTypeError\u001b[0m: 'set' object is not subscriptable"
     ]
    }
   ],
   "source": [
    "s3[1:]"
   ]
  },
  {
   "cell_type": "code",
   "execution_count": 86,
   "id": "ea4d7ffe-faa3-4857-8c66-55dd3bd74072",
   "metadata": {},
   "outputs": [
    {
     "ename": "TypeError",
     "evalue": "'set' object is not subscriptable",
     "output_type": "error",
     "traceback": [
      "\u001b[1;31m---------------------------------------------------------------------------\u001b[0m",
      "\u001b[1;31mTypeError\u001b[0m                                 Traceback (most recent call last)",
      "Cell \u001b[1;32mIn[86], line 1\u001b[0m\n\u001b[1;32m----> 1\u001b[0m s4[\u001b[38;5;241m2\u001b[39m:]\n",
      "\u001b[1;31mTypeError\u001b[0m: 'set' object is not subscriptable"
     ]
    }
   ],
   "source": [
    "s4[2:]"
   ]
  },
  {
   "cell_type": "code",
   "execution_count": 87,
   "id": "44272e5b-c260-4ca4-a5d0-71d0cca6921e",
   "metadata": {},
   "outputs": [
    {
     "data": {
      "text/plain": [
       "{25, 40, 50, 90, 'jan'}"
      ]
     },
     "execution_count": 87,
     "metadata": {},
     "output_type": "execute_result"
    }
   ],
   "source": [
    "s3"
   ]
  },
  {
   "cell_type": "code",
   "execution_count": 88,
   "id": "a576a642-b943-47a5-8af9-e94ba50d27a4",
   "metadata": {},
   "outputs": [
    {
     "data": {
      "text/plain": [
       "{25, 90, 'jan'}"
      ]
     },
     "execution_count": 88,
     "metadata": {},
     "output_type": "execute_result"
    }
   ],
   "source": [
    "s4"
   ]
  },
  {
   "cell_type": "code",
   "execution_count": 89,
   "id": "1eebd1da-d88f-44df-8a88-ecc79cba3ac7",
   "metadata": {},
   "outputs": [
    {
     "ename": "TypeError",
     "evalue": "'set' object is not subscriptable",
     "output_type": "error",
     "traceback": [
      "\u001b[1;31m---------------------------------------------------------------------------\u001b[0m",
      "\u001b[1;31mTypeError\u001b[0m                                 Traceback (most recent call last)",
      "Cell \u001b[1;32mIn[89], line 1\u001b[0m\n\u001b[1;32m----> 1\u001b[0m s3[\u001b[38;5;241m2\u001b[39m]\n",
      "\u001b[1;31mTypeError\u001b[0m: 'set' object is not subscriptable"
     ]
    }
   ],
   "source": [
    "s3[2]"
   ]
  },
  {
   "cell_type": "code",
   "execution_count": 90,
   "id": "a6777d43-b466-4f76-a584-7bea00791118",
   "metadata": {},
   "outputs": [
    {
     "ename": "TypeError",
     "evalue": "'set' object is not subscriptable",
     "output_type": "error",
     "traceback": [
      "\u001b[1;31m---------------------------------------------------------------------------\u001b[0m",
      "\u001b[1;31mTypeError\u001b[0m                                 Traceback (most recent call last)",
      "Cell \u001b[1;32mIn[90], line 1\u001b[0m\n\u001b[1;32m----> 1\u001b[0m s4[\u001b[38;5;241m3\u001b[39m]\n",
      "\u001b[1;31mTypeError\u001b[0m: 'set' object is not subscriptable"
     ]
    }
   ],
   "source": [
    "s4[3]"
   ]
  },
  {
   "cell_type": "code",
   "execution_count": 91,
   "id": "cf442fc6-1504-4cf4-a824-177137e53913",
   "metadata": {},
   "outputs": [
    {
     "ename": "TypeError",
     "evalue": "'set' object is not subscriptable",
     "output_type": "error",
     "traceback": [
      "\u001b[1;31m---------------------------------------------------------------------------\u001b[0m",
      "\u001b[1;31mTypeError\u001b[0m                                 Traceback (most recent call last)",
      "Cell \u001b[1;32mIn[91], line 1\u001b[0m\n\u001b[1;32m----> 1\u001b[0m s4[\u001b[38;5;241m1\u001b[39m]\n",
      "\u001b[1;31mTypeError\u001b[0m: 'set' object is not subscriptable"
     ]
    }
   ],
   "source": [
    "s4[1]"
   ]
  },
  {
   "cell_type": "code",
   "execution_count": 92,
   "id": "1005adcf-e0a6-444b-923e-7dff0a849dea",
   "metadata": {},
   "outputs": [
    {
     "data": {
      "text/plain": [
       "{25, 40, 50, 90, 'jan'}"
      ]
     },
     "execution_count": 92,
     "metadata": {},
     "output_type": "execute_result"
    }
   ],
   "source": [
    "s3"
   ]
  },
  {
   "cell_type": "code",
   "execution_count": 93,
   "id": "11cc8523-ffb9-4f90-9e48-9424a3ebef09",
   "metadata": {},
   "outputs": [
    {
     "data": {
      "text/plain": [
       "{25, 90, 'jan'}"
      ]
     },
     "execution_count": 93,
     "metadata": {},
     "output_type": "execute_result"
    }
   ],
   "source": [
    "s4"
   ]
  },
  {
   "cell_type": "code",
   "execution_count": 94,
   "id": "856e98ae-959a-423c-b098-18a276b7f20a",
   "metadata": {},
   "outputs": [
    {
     "data": {
      "text/plain": [
       "True"
      ]
     },
     "execution_count": 94,
     "metadata": {},
     "output_type": "execute_result"
    }
   ],
   "source": [
    "40 in s3"
   ]
  },
  {
   "cell_type": "code",
   "execution_count": 95,
   "id": "c4571e36-3493-4036-875e-34b48c8a32ff",
   "metadata": {},
   "outputs": [
    {
     "data": {
      "text/plain": [
       "False"
      ]
     },
     "execution_count": 95,
     "metadata": {},
     "output_type": "execute_result"
    }
   ],
   "source": [
    "60 in s3"
   ]
  },
  {
   "cell_type": "code",
   "execution_count": 96,
   "id": "bef43e09-9295-4513-ab78-735459f95b13",
   "metadata": {},
   "outputs": [
    {
     "data": {
      "text/plain": [
       "True"
      ]
     },
     "execution_count": 96,
     "metadata": {},
     "output_type": "execute_result"
    }
   ],
   "source": [
    "90 in s3"
   ]
  },
  {
   "cell_type": "code",
   "execution_count": 97,
   "id": "36e73b16-a6d7-476b-ac88-68bd1a47a3bc",
   "metadata": {},
   "outputs": [
    {
     "data": {
      "text/plain": [
       "False"
      ]
     },
     "execution_count": 97,
     "metadata": {},
     "output_type": "execute_result"
    }
   ],
   "source": [
    "20 in s4"
   ]
  },
  {
   "cell_type": "code",
   "execution_count": 98,
   "id": "75dd47b7-3cef-4316-91b3-ca8e1c0e063d",
   "metadata": {},
   "outputs": [
    {
     "data": {
      "text/plain": [
       "True"
      ]
     },
     "execution_count": 98,
     "metadata": {},
     "output_type": "execute_result"
    }
   ],
   "source": [
    "25 in s4"
   ]
  },
  {
   "cell_type": "code",
   "execution_count": 99,
   "id": "cf587edc-a045-48b6-9c09-976468d26eb2",
   "metadata": {},
   "outputs": [
    {
     "data": {
      "text/plain": [
       "{25, 40, 50, 90, 'jan'}"
      ]
     },
     "execution_count": 99,
     "metadata": {},
     "output_type": "execute_result"
    }
   ],
   "source": [
    "s3"
   ]
  },
  {
   "cell_type": "code",
   "execution_count": 100,
   "id": "d79401eb-8924-4dfe-9f19-11ee02e92e97",
   "metadata": {},
   "outputs": [
    {
     "data": {
      "text/plain": [
       "{25, 90, 'jan'}"
      ]
     },
     "execution_count": 100,
     "metadata": {},
     "output_type": "execute_result"
    }
   ],
   "source": [
    "s4"
   ]
  },
  {
   "cell_type": "markdown",
   "id": "bb5d3d7d-bcf3-4558-a10e-b4b0dffa58ed",
   "metadata": {},
   "source": [
    "# Set Operation"
   ]
  },
  {
   "cell_type": "code",
   "execution_count": 101,
   "id": "88b95a45-93d1-45f2-b222-c489a4ee583e",
   "metadata": {},
   "outputs": [],
   "source": [
    "a = {1,2,3,4,5}\n",
    "b = {4,5,6,7,8}\n",
    "c = {8,9,10}"
   ]
  },
  {
   "cell_type": "code",
   "execution_count": 102,
   "id": "f54b32aa-f896-44c5-a8cc-3227f9e2f09f",
   "metadata": {},
   "outputs": [
    {
     "data": {
      "text/plain": [
       "set"
      ]
     },
     "execution_count": 102,
     "metadata": {},
     "output_type": "execute_result"
    }
   ],
   "source": [
    "type(c)"
   ]
  },
  {
   "cell_type": "code",
   "execution_count": 103,
   "id": "9221083c-c9c1-4d05-a118-7320bde99bf1",
   "metadata": {},
   "outputs": [
    {
     "data": {
      "text/plain": [
       "set"
      ]
     },
     "execution_count": 103,
     "metadata": {},
     "output_type": "execute_result"
    }
   ],
   "source": [
    "type(a)"
   ]
  },
  {
   "cell_type": "code",
   "execution_count": 104,
   "id": "b433cee8-f439-496b-aaa2-b0c50b995b6d",
   "metadata": {},
   "outputs": [
    {
     "data": {
      "text/plain": [
       "set"
      ]
     },
     "execution_count": 104,
     "metadata": {},
     "output_type": "execute_result"
    }
   ],
   "source": [
    "type(b)"
   ]
  },
  {
   "cell_type": "code",
   "execution_count": 105,
   "id": "36419259-bbcf-4936-a91c-c86be5a88d61",
   "metadata": {},
   "outputs": [
    {
     "data": {
      "text/plain": [
       "{1, 2, 3, 4, 5, 6, 7, 8}"
      ]
     },
     "execution_count": 105,
     "metadata": {},
     "output_type": "execute_result"
    }
   ],
   "source": [
    "a.union(b)"
   ]
  },
  {
   "cell_type": "code",
   "execution_count": 106,
   "id": "7e579a67-0a97-49cc-9767-5a7edc815b37",
   "metadata": {},
   "outputs": [
    {
     "data": {
      "text/plain": [
       "{1, 2, 3, 4, 5, 8, 9, 10}"
      ]
     },
     "execution_count": 106,
     "metadata": {},
     "output_type": "execute_result"
    }
   ],
   "source": [
    "a.union(c)"
   ]
  },
  {
   "cell_type": "code",
   "execution_count": 107,
   "id": "66ba6184-5cc0-4f14-804b-ec73140dcea0",
   "metadata": {},
   "outputs": [
    {
     "data": {
      "text/plain": [
       "{4, 5, 6, 7, 8, 9, 10}"
      ]
     },
     "execution_count": 107,
     "metadata": {},
     "output_type": "execute_result"
    }
   ],
   "source": [
    "b.union(c)"
   ]
  },
  {
   "cell_type": "code",
   "execution_count": 108,
   "id": "f0639a2c-d994-40cb-8f59-7633803c6c87",
   "metadata": {},
   "outputs": [
    {
     "data": {
      "text/plain": [
       "{1, 2, 3, 4, 5, 6, 7, 8, 9, 10}"
      ]
     },
     "execution_count": 108,
     "metadata": {},
     "output_type": "execute_result"
    }
   ],
   "source": [
    "a.union(b,c)"
   ]
  },
  {
   "cell_type": "code",
   "execution_count": 109,
   "id": "1860ba4e-48fe-49ab-8999-5c94999584bd",
   "metadata": {},
   "outputs": [
    {
     "data": {
      "text/plain": [
       "{1, 2, 3, 4, 5, 6, 7, 8, 9, 10}"
      ]
     },
     "execution_count": 109,
     "metadata": {},
     "output_type": "execute_result"
    }
   ],
   "source": [
    "b.union(a,c)"
   ]
  },
  {
   "cell_type": "code",
   "execution_count": 110,
   "id": "b8a0ce7d-1a3d-4806-ab8b-5437fbca10bb",
   "metadata": {},
   "outputs": [
    {
     "name": "stdout",
     "output_type": "stream",
     "text": [
      "{1, 2, 3, 4, 5}\n",
      "{4, 5, 6, 7, 8}\n",
      "{8, 9, 10}\n"
     ]
    }
   ],
   "source": [
    "print(a)\n",
    "print(b)\n",
    "print(c)"
   ]
  },
  {
   "cell_type": "code",
   "execution_count": 111,
   "id": "14b12861-b0b3-47f7-928d-21bede3071f5",
   "metadata": {},
   "outputs": [
    {
     "data": {
      "text/plain": [
       "{1, 2, 3, 4, 5, 6, 7, 8}"
      ]
     },
     "execution_count": 111,
     "metadata": {},
     "output_type": "execute_result"
    }
   ],
   "source": [
    "a | b"
   ]
  },
  {
   "cell_type": "code",
   "execution_count": 112,
   "id": "26b77f01-9f37-40d9-8069-df3918b5003f",
   "metadata": {},
   "outputs": [
    {
     "data": {
      "text/plain": [
       "{1, 2, 3, 4, 5, 8, 9, 10}"
      ]
     },
     "execution_count": 112,
     "metadata": {},
     "output_type": "execute_result"
    }
   ],
   "source": [
    "a | c"
   ]
  },
  {
   "cell_type": "code",
   "execution_count": 113,
   "id": "1edfb7ed-927b-4945-abb4-4a16c4f8826d",
   "metadata": {},
   "outputs": [
    {
     "data": {
      "text/plain": [
       "{4, 5, 6, 7, 8, 9, 10}"
      ]
     },
     "execution_count": 113,
     "metadata": {},
     "output_type": "execute_result"
    }
   ],
   "source": [
    "b | c"
   ]
  },
  {
   "cell_type": "code",
   "execution_count": 114,
   "id": "fb77a8b5-2419-4f7e-8299-39585cd43512",
   "metadata": {},
   "outputs": [
    {
     "data": {
      "text/plain": [
       "{1, 2, 3, 4, 5, 6, 7, 8, 9, 10}"
      ]
     },
     "execution_count": 114,
     "metadata": {},
     "output_type": "execute_result"
    }
   ],
   "source": [
    "a | b | c"
   ]
  },
  {
   "cell_type": "markdown",
   "id": "a59b9774-fd29-44f8-a521-d296fb03e681",
   "metadata": {},
   "source": [
    "# Intersection"
   ]
  },
  {
   "cell_type": "code",
   "execution_count": 115,
   "id": "b272d5f3-14b1-4280-a65e-0047131846f2",
   "metadata": {},
   "outputs": [],
   "source": [
    "a = {1,2,3,4,5}\n",
    "b = {4,5,6,7,8}\n",
    "c = {8,9,10,11}"
   ]
  },
  {
   "cell_type": "code",
   "execution_count": 116,
   "id": "4939e313-1e35-41a6-a824-1c2d2a61359c",
   "metadata": {},
   "outputs": [
    {
     "data": {
      "text/plain": [
       "{4, 5}"
      ]
     },
     "execution_count": 116,
     "metadata": {},
     "output_type": "execute_result"
    }
   ],
   "source": [
    "a.intersection(b)"
   ]
  },
  {
   "cell_type": "code",
   "execution_count": 117,
   "id": "f00ed9be-1f8a-4280-8bba-5ca42f5e9660",
   "metadata": {},
   "outputs": [
    {
     "data": {
      "text/plain": [
       "set()"
      ]
     },
     "execution_count": 117,
     "metadata": {},
     "output_type": "execute_result"
    }
   ],
   "source": [
    "a.intersection(c)"
   ]
  },
  {
   "cell_type": "code",
   "execution_count": 118,
   "id": "37654f3d-f45e-435c-aaed-c76eb7deb01d",
   "metadata": {},
   "outputs": [
    {
     "data": {
      "text/plain": [
       "{8}"
      ]
     },
     "execution_count": 118,
     "metadata": {},
     "output_type": "execute_result"
    }
   ],
   "source": [
    "b.intersection(c)"
   ]
  },
  {
   "cell_type": "code",
   "execution_count": 119,
   "id": "ba10b4ba-71f7-4041-be1e-96f0d4e92396",
   "metadata": {},
   "outputs": [],
   "source": [
    "a = {1,2,3,4,5}\n",
    "b = {4,5,6,7,8}\n",
    "c = {8,9,10,11}\n",
    "d = {9,10,11,12}"
   ]
  },
  {
   "cell_type": "code",
   "execution_count": 120,
   "id": "d12c8d7b-777a-409f-aeab-bffbdd1b76cb",
   "metadata": {},
   "outputs": [
    {
     "data": {
      "text/plain": [
       "{4, 5}"
      ]
     },
     "execution_count": 120,
     "metadata": {},
     "output_type": "execute_result"
    }
   ],
   "source": [
    "a.intersection(b)"
   ]
  },
  {
   "cell_type": "code",
   "execution_count": 121,
   "id": "4f6fdf47-f10f-4f3d-8333-7a4d968ddd85",
   "metadata": {},
   "outputs": [
    {
     "data": {
      "text/plain": [
       "{8}"
      ]
     },
     "execution_count": 121,
     "metadata": {},
     "output_type": "execute_result"
    }
   ],
   "source": [
    "b.intersection(c)"
   ]
  },
  {
   "cell_type": "code",
   "execution_count": 122,
   "id": "7eec2f51-1cc7-477d-be11-e95762bd6df6",
   "metadata": {},
   "outputs": [
    {
     "data": {
      "text/plain": [
       "{9, 10, 11}"
      ]
     },
     "execution_count": 122,
     "metadata": {},
     "output_type": "execute_result"
    }
   ],
   "source": [
    "c.intersection(d)"
   ]
  },
  {
   "cell_type": "code",
   "execution_count": 123,
   "id": "625cfc12-286a-4d1c-87bc-6e90543c5880",
   "metadata": {},
   "outputs": [
    {
     "data": {
      "text/plain": [
       "{4, 5}"
      ]
     },
     "execution_count": 123,
     "metadata": {},
     "output_type": "execute_result"
    }
   ],
   "source": [
    "a & b"
   ]
  },
  {
   "cell_type": "code",
   "execution_count": 124,
   "id": "4c0c1471-6966-4c6f-a2c0-12cbda8e72c5",
   "metadata": {},
   "outputs": [
    {
     "data": {
      "text/plain": [
       "{8}"
      ]
     },
     "execution_count": 124,
     "metadata": {},
     "output_type": "execute_result"
    }
   ],
   "source": [
    "b & c"
   ]
  },
  {
   "cell_type": "code",
   "execution_count": 125,
   "id": "96aa0809-9aa3-4de0-a418-02cf31cceb76",
   "metadata": {},
   "outputs": [
    {
     "data": {
      "text/plain": [
       "set()"
      ]
     },
     "execution_count": 125,
     "metadata": {},
     "output_type": "execute_result"
    }
   ],
   "source": [
    "a & c"
   ]
  },
  {
   "cell_type": "code",
   "execution_count": 126,
   "id": "dead9bff-0e27-42b8-bfc6-b8cc235895f4",
   "metadata": {},
   "outputs": [
    {
     "data": {
      "text/plain": [
       "{9, 10, 11}"
      ]
     },
     "execution_count": 126,
     "metadata": {},
     "output_type": "execute_result"
    }
   ],
   "source": [
    "c & d"
   ]
  },
  {
   "cell_type": "markdown",
   "id": "3d44d437-79b1-405f-896c-8d14edaa85db",
   "metadata": {},
   "source": [
    "# Difference"
   ]
  },
  {
   "cell_type": "code",
   "execution_count": 127,
   "id": "878607b7-80b9-4a86-9684-8edd2fdd5cd2",
   "metadata": {},
   "outputs": [],
   "source": [
    "a = {1,2,3,4,5}\n",
    "b = {4,5,6,7,8}\n",
    "c = {8,9,10}"
   ]
  },
  {
   "cell_type": "code",
   "execution_count": 128,
   "id": "af19337d-4198-43e3-8409-bb7da39487df",
   "metadata": {},
   "outputs": [
    {
     "data": {
      "text/plain": [
       "{1, 2, 3}"
      ]
     },
     "execution_count": 128,
     "metadata": {},
     "output_type": "execute_result"
    }
   ],
   "source": [
    "a.difference(b)"
   ]
  },
  {
   "cell_type": "code",
   "execution_count": 129,
   "id": "c098a5cc-4e68-412f-b9e4-54b3f2c85ee6",
   "metadata": {},
   "outputs": [
    {
     "data": {
      "text/plain": [
       "{1, 2, 3, 4, 5}"
      ]
     },
     "execution_count": 129,
     "metadata": {},
     "output_type": "execute_result"
    }
   ],
   "source": [
    "a.difference(c)"
   ]
  },
  {
   "cell_type": "code",
   "execution_count": 130,
   "id": "496f94e9-1a1b-47b7-ad06-7b4eefd72242",
   "metadata": {},
   "outputs": [
    {
     "data": {
      "text/plain": [
       "{6, 7, 8}"
      ]
     },
     "execution_count": 130,
     "metadata": {},
     "output_type": "execute_result"
    }
   ],
   "source": [
    "b.difference(a)"
   ]
  },
  {
   "cell_type": "code",
   "execution_count": 131,
   "id": "3c5774ff-01b8-4e40-a898-f56da7eb5993",
   "metadata": {},
   "outputs": [
    {
     "data": {
      "text/plain": [
       "{8, 9, 10}"
      ]
     },
     "execution_count": 131,
     "metadata": {},
     "output_type": "execute_result"
    }
   ],
   "source": [
    "c.difference(a)"
   ]
  },
  {
   "cell_type": "code",
   "execution_count": 132,
   "id": "c572cd3a-5f83-4d13-93da-a0b0c01ed4bc",
   "metadata": {},
   "outputs": [
    {
     "data": {
      "text/plain": [
       "{4, 5, 6, 7}"
      ]
     },
     "execution_count": 132,
     "metadata": {},
     "output_type": "execute_result"
    }
   ],
   "source": [
    "b.difference(c)"
   ]
  },
  {
   "cell_type": "code",
   "execution_count": 133,
   "id": "d7aef47b-f497-4112-bcb0-f5fd9877836c",
   "metadata": {},
   "outputs": [
    {
     "data": {
      "text/plain": [
       "{9, 10}"
      ]
     },
     "execution_count": 133,
     "metadata": {},
     "output_type": "execute_result"
    }
   ],
   "source": [
    "c.difference(b)"
   ]
  },
  {
   "cell_type": "code",
   "execution_count": 134,
   "id": "6c382793-65a6-440c-8315-388e32feb3fd",
   "metadata": {},
   "outputs": [],
   "source": [
    "a = {1,2,3,4,5}\n",
    "a = {4,5,6,7,8}\n",
    "c = {8,9,10,11}\n",
    "d = {10,11,12}"
   ]
  },
  {
   "cell_type": "code",
   "execution_count": 135,
   "id": "e2a55c63-ae30-4f28-abc0-c6885182a0c6",
   "metadata": {},
   "outputs": [
    {
     "data": {
      "text/plain": [
       "set()"
      ]
     },
     "execution_count": 135,
     "metadata": {},
     "output_type": "execute_result"
    }
   ],
   "source": [
    "a - b"
   ]
  },
  {
   "cell_type": "code",
   "execution_count": 136,
   "id": "f2ffe977-8ef6-4ad8-b79f-1843b2bc0324",
   "metadata": {},
   "outputs": [
    {
     "data": {
      "text/plain": [
       "{4, 5, 6, 7}"
      ]
     },
     "execution_count": 136,
     "metadata": {},
     "output_type": "execute_result"
    }
   ],
   "source": [
    "b-c"
   ]
  },
  {
   "cell_type": "code",
   "execution_count": 137,
   "id": "30b6aaec-cc46-4509-82c1-00214a2d6781",
   "metadata": {},
   "outputs": [
    {
     "data": {
      "text/plain": [
       "set()"
      ]
     },
     "execution_count": 137,
     "metadata": {},
     "output_type": "execute_result"
    }
   ],
   "source": [
    "a-b"
   ]
  },
  {
   "cell_type": "code",
   "execution_count": 138,
   "id": "e8454d30-4803-40f0-bf56-becb46fd8fec",
   "metadata": {},
   "outputs": [
    {
     "data": {
      "text/plain": [
       "{4, 5, 6, 7}"
      ]
     },
     "execution_count": 138,
     "metadata": {},
     "output_type": "execute_result"
    }
   ],
   "source": [
    "b-c"
   ]
  },
  {
   "cell_type": "code",
   "execution_count": 139,
   "id": "4d0cc747-43aa-4d42-a7e5-dc7fa30bb302",
   "metadata": {},
   "outputs": [
    {
     "data": {
      "text/plain": [
       "{8, 9}"
      ]
     },
     "execution_count": 139,
     "metadata": {},
     "output_type": "execute_result"
    }
   ],
   "source": [
    "c-d"
   ]
  },
  {
   "cell_type": "code",
   "execution_count": 140,
   "id": "a13d15b8-3101-46c3-b222-0974f184a71c",
   "metadata": {},
   "outputs": [
    {
     "data": {
      "text/plain": [
       "{12}"
      ]
     },
     "execution_count": 140,
     "metadata": {},
     "output_type": "execute_result"
    }
   ],
   "source": [
    "d-c"
   ]
  },
  {
   "cell_type": "code",
   "execution_count": null,
   "id": "547e1934-a832-45f7-9433-ffb581802c22",
   "metadata": {},
   "outputs": [],
   "source": []
  }
 ],
 "metadata": {
  "kernelspec": {
   "display_name": "Python [conda env:base] *",
   "language": "python",
   "name": "conda-base-py"
  },
  "language_info": {
   "codemirror_mode": {
    "name": "ipython",
    "version": 3
   },
   "file_extension": ".py",
   "mimetype": "text/x-python",
   "name": "python",
   "nbconvert_exporter": "python",
   "pygments_lexer": "ipython3",
   "version": "3.13.5"
  }
 },
 "nbformat": 4,
 "nbformat_minor": 5
}
